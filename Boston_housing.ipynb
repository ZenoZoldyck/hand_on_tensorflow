{
  "nbformat": 4,
  "nbformat_minor": 0,
  "metadata": {
    "colab": {
      "name": "Boston_housing.ipynb",
      "provenance": [],
      "authorship_tag": "ABX9TyNvP3iYa1sJ3cACqYDj5n3+",
      "include_colab_link": true
    },
    "kernelspec": {
      "name": "python3",
      "display_name": "Python 3"
    },
    "language_info": {
      "name": "python"
    }
  },
  "cells": [
    {
      "cell_type": "markdown",
      "metadata": {
        "id": "view-in-github",
        "colab_type": "text"
      },
      "source": [
        "<a href=\"https://colab.research.google.com/github/ZenoZoldyck/hand_on_tensorflow/blob/main/Boston_housing.ipynb\" target=\"_parent\"><img src=\"https://colab.research.google.com/assets/colab-badge.svg\" alt=\"Open In Colab\"/></a>"
      ]
    },
    {
      "cell_type": "code",
      "metadata": {
        "colab": {
          "base_uri": "https://localhost:8080/",
          "height": 35
        },
        "id": "c1evc-TGt0wE",
        "outputId": "5b3508ac-d79e-49a1-b362-fbb663b55eab"
      },
      "source": [
        "import tensorflow as tf\n",
        "import pandas as pd\n",
        "import numpy as np\n",
        "\n",
        "tf.__version__"
      ],
      "execution_count": 1,
      "outputs": [
        {
          "output_type": "execute_result",
          "data": {
            "application/vnd.google.colaboratory.intrinsic+json": {
              "type": "string"
            },
            "text/plain": [
              "'2.5.0'"
            ]
          },
          "metadata": {
            "tags": []
          },
          "execution_count": 1
        }
      ]
    },
    {
      "cell_type": "code",
      "metadata": {
        "colab": {
          "base_uri": "https://localhost:8080/"
        },
        "id": "NAL6No5uuRfb",
        "outputId": "ffc1c67d-2ed0-4708-860b-2bb6a30be77f"
      },
      "source": [
        "# loading the dataset\n",
        "(train_data, train_label), (test_data, test_label) = tf.keras.datasets.boston_housing.load_data()"
      ],
      "execution_count": 2,
      "outputs": [
        {
          "output_type": "stream",
          "text": [
            "Downloading data from https://storage.googleapis.com/tensorflow/tf-keras-datasets/boston_housing.npz\n",
            "57344/57026 [==============================] - 0s 0us/step\n"
          ],
          "name": "stdout"
        }
      ]
    },
    {
      "cell_type": "code",
      "metadata": {
        "colab": {
          "base_uri": "https://localhost:8080/"
        },
        "id": "c8nqAUjXu4bC",
        "outputId": "73d027f0-f581-4480-e811-cbce8a86a0d8"
      },
      "source": [
        "train_data[0]"
      ],
      "execution_count": 3,
      "outputs": [
        {
          "output_type": "execute_result",
          "data": {
            "text/plain": [
              "array([  1.23247,   0.     ,   8.14   ,   0.     ,   0.538  ,   6.142  ,\n",
              "        91.7    ,   3.9769 ,   4.     , 307.     ,  21.     , 396.9    ,\n",
              "        18.72   ])"
            ]
          },
          "metadata": {
            "tags": []
          },
          "execution_count": 3
        }
      ]
    },
    {
      "cell_type": "code",
      "metadata": {
        "colab": {
          "base_uri": "https://localhost:8080/"
        },
        "id": "PIKLATJ6u-86",
        "outputId": "d8932062-2ac6-4697-c628-65b8c9e9211b"
      },
      "source": [
        "train_label[0]"
      ],
      "execution_count": 4,
      "outputs": [
        {
          "output_type": "execute_result",
          "data": {
            "text/plain": [
              "15.2"
            ]
          },
          "metadata": {
            "tags": []
          },
          "execution_count": 4
        }
      ]
    },
    {
      "cell_type": "code",
      "metadata": {
        "colab": {
          "base_uri": "https://localhost:8080/",
          "height": 204
        },
        "id": "xpvQLFkjvSn2",
        "outputId": "6b1d19a8-ee2c-4b5c-c72f-5487d86bf8fb"
      },
      "source": [
        "train_data = pd.DataFrame(train_data)\n",
        "test_data = pd.DataFrame(test_data)\n",
        "train_data[:5]"
      ],
      "execution_count": 9,
      "outputs": [
        {
          "output_type": "execute_result",
          "data": {
            "text/html": [
              "<div>\n",
              "<style scoped>\n",
              "    .dataframe tbody tr th:only-of-type {\n",
              "        vertical-align: middle;\n",
              "    }\n",
              "\n",
              "    .dataframe tbody tr th {\n",
              "        vertical-align: top;\n",
              "    }\n",
              "\n",
              "    .dataframe thead th {\n",
              "        text-align: right;\n",
              "    }\n",
              "</style>\n",
              "<table border=\"1\" class=\"dataframe\">\n",
              "  <thead>\n",
              "    <tr style=\"text-align: right;\">\n",
              "      <th></th>\n",
              "      <th>0</th>\n",
              "      <th>1</th>\n",
              "      <th>2</th>\n",
              "      <th>3</th>\n",
              "      <th>4</th>\n",
              "      <th>5</th>\n",
              "      <th>6</th>\n",
              "      <th>7</th>\n",
              "      <th>8</th>\n",
              "      <th>9</th>\n",
              "      <th>10</th>\n",
              "      <th>11</th>\n",
              "      <th>12</th>\n",
              "    </tr>\n",
              "  </thead>\n",
              "  <tbody>\n",
              "    <tr>\n",
              "      <th>0</th>\n",
              "      <td>1.23247</td>\n",
              "      <td>0.0</td>\n",
              "      <td>8.14</td>\n",
              "      <td>0.0</td>\n",
              "      <td>0.538</td>\n",
              "      <td>6.142</td>\n",
              "      <td>91.7</td>\n",
              "      <td>3.9769</td>\n",
              "      <td>4.0</td>\n",
              "      <td>307.0</td>\n",
              "      <td>21.0</td>\n",
              "      <td>396.90</td>\n",
              "      <td>18.72</td>\n",
              "    </tr>\n",
              "    <tr>\n",
              "      <th>1</th>\n",
              "      <td>0.02177</td>\n",
              "      <td>82.5</td>\n",
              "      <td>2.03</td>\n",
              "      <td>0.0</td>\n",
              "      <td>0.415</td>\n",
              "      <td>7.610</td>\n",
              "      <td>15.7</td>\n",
              "      <td>6.2700</td>\n",
              "      <td>2.0</td>\n",
              "      <td>348.0</td>\n",
              "      <td>14.7</td>\n",
              "      <td>395.38</td>\n",
              "      <td>3.11</td>\n",
              "    </tr>\n",
              "    <tr>\n",
              "      <th>2</th>\n",
              "      <td>4.89822</td>\n",
              "      <td>0.0</td>\n",
              "      <td>18.10</td>\n",
              "      <td>0.0</td>\n",
              "      <td>0.631</td>\n",
              "      <td>4.970</td>\n",
              "      <td>100.0</td>\n",
              "      <td>1.3325</td>\n",
              "      <td>24.0</td>\n",
              "      <td>666.0</td>\n",
              "      <td>20.2</td>\n",
              "      <td>375.52</td>\n",
              "      <td>3.26</td>\n",
              "    </tr>\n",
              "    <tr>\n",
              "      <th>3</th>\n",
              "      <td>0.03961</td>\n",
              "      <td>0.0</td>\n",
              "      <td>5.19</td>\n",
              "      <td>0.0</td>\n",
              "      <td>0.515</td>\n",
              "      <td>6.037</td>\n",
              "      <td>34.5</td>\n",
              "      <td>5.9853</td>\n",
              "      <td>5.0</td>\n",
              "      <td>224.0</td>\n",
              "      <td>20.2</td>\n",
              "      <td>396.90</td>\n",
              "      <td>8.01</td>\n",
              "    </tr>\n",
              "    <tr>\n",
              "      <th>4</th>\n",
              "      <td>3.69311</td>\n",
              "      <td>0.0</td>\n",
              "      <td>18.10</td>\n",
              "      <td>0.0</td>\n",
              "      <td>0.713</td>\n",
              "      <td>6.376</td>\n",
              "      <td>88.4</td>\n",
              "      <td>2.5671</td>\n",
              "      <td>24.0</td>\n",
              "      <td>666.0</td>\n",
              "      <td>20.2</td>\n",
              "      <td>391.43</td>\n",
              "      <td>14.65</td>\n",
              "    </tr>\n",
              "  </tbody>\n",
              "</table>\n",
              "</div>"
            ],
            "text/plain": [
              "        0     1      2    3      4   ...    8      9     10      11     12\n",
              "0  1.23247   0.0   8.14  0.0  0.538  ...   4.0  307.0  21.0  396.90  18.72\n",
              "1  0.02177  82.5   2.03  0.0  0.415  ...   2.0  348.0  14.7  395.38   3.11\n",
              "2  4.89822   0.0  18.10  0.0  0.631  ...  24.0  666.0  20.2  375.52   3.26\n",
              "3  0.03961   0.0   5.19  0.0  0.515  ...   5.0  224.0  20.2  396.90   8.01\n",
              "4  3.69311   0.0  18.10  0.0  0.713  ...  24.0  666.0  20.2  391.43  14.65\n",
              "\n",
              "[5 rows x 13 columns]"
            ]
          },
          "metadata": {
            "tags": []
          },
          "execution_count": 9
        }
      ]
    },
    {
      "cell_type": "code",
      "metadata": {
        "id": "XsY7VpGAviwa"
      },
      "source": [
        "# data preprocessing\n",
        "\n",
        "from sklearn.preprocessing import MinMaxScaler\n",
        "from sklearn.compose import make_column_transformer\n",
        "\n",
        "ct = make_column_transformer((MinMaxScaler(), [0, 1, 2, 3, 4, 5, 6, 7, 8, 9, 10, 11, 12]))\n",
        "ct.fit(train_data)\n",
        "train_data_norm = ct.transform(train_data)\n",
        "test_data_norm = ct.transform(test_data"
      ],
      "execution_count": 23,
      "outputs": []
    },
    {
      "cell_type": "code",
      "metadata": {
        "colab": {
          "base_uri": "https://localhost:8080/"
        },
        "id": "ssEAxM9ny2tj",
        "outputId": "ca05a35e-bcbc-4b49-ab79-912b8349e10e"
      },
      "source": [
        "train_data_norm[:5]"
      ],
      "execution_count": 24,
      "outputs": [
        {
          "output_type": "execute_result",
          "data": {
            "text/plain": [
              "array([[1.37816304e-02, 0.00000000e+00, 2.81524927e-01, 0.00000000e+00,\n",
              "        3.14814815e-01, 4.99806352e-01, 9.14521112e-01, 2.97191228e-01,\n",
              "        1.30434783e-01, 2.27533461e-01, 8.93617021e-01, 1.00000000e+00,\n",
              "        4.68818985e-01],\n",
              "       [1.73654275e-04, 8.25000000e-01, 5.75513196e-02, 0.00000000e+00,\n",
              "        6.17283951e-02, 7.84082107e-01, 1.31822863e-01, 5.36536996e-01,\n",
              "        4.34782609e-02, 3.05927342e-01, 2.23404255e-01, 9.96167230e-01,\n",
              "        3.80794702e-02],\n",
              "       [5.49837765e-02, 0.00000000e+00, 6.46627566e-01, 0.00000000e+00,\n",
              "        5.06172840e-01, 2.72850503e-01, 1.00000000e+00, 2.11779933e-02,\n",
              "        1.00000000e+00, 9.13957935e-01, 8.08510638e-01, 9.46089061e-01,\n",
              "        4.22185430e-02],\n",
              "       [3.74171574e-04, 0.00000000e+00, 1.73387097e-01, 0.00000000e+00,\n",
              "        2.67489712e-01, 4.79473277e-01, 3.25437693e-01, 5.06821005e-01,\n",
              "        1.73913043e-01, 6.88336520e-02, 8.08510638e-01, 1.00000000e+00,\n",
              "        1.73289183e-01],\n",
              "       [4.14386307e-02, 0.00000000e+00, 6.46627566e-01, 0.00000000e+00,\n",
              "        6.74897119e-01, 5.45120062e-01, 8.80535530e-01, 1.50041229e-01,\n",
              "        1.00000000e+00, 9.13957935e-01, 8.08510638e-01, 9.86207070e-01,\n",
              "        3.56512141e-01]])"
            ]
          },
          "metadata": {
            "tags": []
          },
          "execution_count": 24
        }
      ]
    },
    {
      "cell_type": "code",
      "metadata": {
        "colab": {
          "base_uri": "https://localhost:8080/"
        },
        "id": "VyoanuZ4zd-i",
        "outputId": "3bdd9fdf-da92-4462-9e91-4b4c8deba7ca"
      },
      "source": [
        "train_label.max(), test_label.max()"
      ],
      "execution_count": 16,
      "outputs": [
        {
          "output_type": "execute_result",
          "data": {
            "text/plain": [
              "(50.0, 50.0)"
            ]
          },
          "metadata": {
            "tags": []
          },
          "execution_count": 16
        }
      ]
    },
    {
      "cell_type": "code",
      "metadata": {
        "colab": {
          "base_uri": "https://localhost:8080/"
        },
        "id": "LFMkHWLo29O_",
        "outputId": "c2fec83d-1594-41b9-af88-31ef6fb7c521"
      },
      "source": [
        "train_data_norm.shape"
      ],
      "execution_count": 20,
      "outputs": [
        {
          "output_type": "execute_result",
          "data": {
            "text/plain": [
              "(404, 13)"
            ]
          },
          "metadata": {
            "tags": []
          },
          "execution_count": 20
        }
      ]
    },
    {
      "cell_type": "code",
      "metadata": {
        "colab": {
          "base_uri": "https://localhost:8080/"
        },
        "id": "vxhsOmF22S7W",
        "outputId": "54c14add-7a1e-4222-ed96-023565ebb8e1"
      },
      "source": [
        "# time to build a model\n",
        "\n",
        "model_2 = tf.keras.Sequential([\n",
        "   tf.keras.layers.Dense(8, activation = \"relu\"),\n",
        "   tf.keras.layers.Dense(8, activation = \"relu\"),\n",
        "   tf.keras.layers.Dense(16, activation = \"relu\"),\n",
        "   tf.keras.layers.Dense(1)                          \n",
        "])\n",
        "\n",
        "model_2.compile(loss = tf.keras.losses.mae,\n",
        "              optimizer = tf.keras.optimizers.SGD(lr = 0.01),\n",
        "              metrics = [\"mse\"])\n",
        "\n",
        "history = model_2.fit(train_data_norm, train_label, epochs = 100, validation_data = (test_data_norm, test_label))"
      ],
      "execution_count": 70,
      "outputs": [
        {
          "output_type": "stream",
          "text": [
            "/usr/local/lib/python3.7/dist-packages/tensorflow/python/keras/optimizer_v2/optimizer_v2.py:375: UserWarning: The `lr` argument is deprecated, use `learning_rate` instead.\n",
            "  \"The `lr` argument is deprecated, use `learning_rate` instead.\")\n"
          ],
          "name": "stderr"
        },
        {
          "output_type": "stream",
          "text": [
            "Epoch 1/100\n",
            "13/13 [==============================] - 0s 12ms/step - loss: 22.4896 - mse: 589.3652 - val_loss: 23.0377 - val_mse: 613.1005\n",
            "Epoch 2/100\n",
            "13/13 [==============================] - 0s 3ms/step - loss: 22.2592 - mse: 579.4788 - val_loss: 22.8332 - val_mse: 604.2076\n",
            "Epoch 3/100\n",
            "13/13 [==============================] - 0s 3ms/step - loss: 22.0652 - mse: 571.3361 - val_loss: 22.6499 - val_mse: 596.2333\n",
            "Epoch 4/100\n",
            "13/13 [==============================] - 0s 5ms/step - loss: 21.8830 - mse: 563.5362 - val_loss: 22.4652 - val_mse: 588.1838\n",
            "Epoch 5/100\n",
            "13/13 [==============================] - 0s 3ms/step - loss: 21.6921 - mse: 555.5024 - val_loss: 22.2627 - val_mse: 579.4268\n",
            "Epoch 6/100\n",
            "13/13 [==============================] - 0s 3ms/step - loss: 21.4759 - mse: 546.5705 - val_loss: 22.0223 - val_mse: 569.1767\n",
            "Epoch 7/100\n",
            "13/13 [==============================] - 0s 3ms/step - loss: 21.2065 - mse: 535.4185 - val_loss: 21.7035 - val_mse: 555.8333\n",
            "Epoch 8/100\n",
            "13/13 [==============================] - 0s 3ms/step - loss: 20.8235 - mse: 520.3187 - val_loss: 21.2090 - val_mse: 535.6805\n",
            "Epoch 9/100\n",
            "13/13 [==============================] - 0s 3ms/step - loss: 20.1542 - mse: 494.5353 - val_loss: 20.2064 - val_mse: 496.6579\n",
            "Epoch 10/100\n",
            "13/13 [==============================] - 0s 3ms/step - loss: 18.4741 - mse: 433.7517 - val_loss: 17.0841 - val_mse: 385.6902\n",
            "Epoch 11/100\n",
            "13/13 [==============================] - 0s 3ms/step - loss: 13.1094 - mse: 265.1485 - val_loss: 10.4108 - val_mse: 171.8987\n",
            "Epoch 12/100\n",
            "13/13 [==============================] - 0s 3ms/step - loss: 9.3202 - mse: 141.8401 - val_loss: 8.9158 - val_mse: 132.4855\n",
            "Epoch 13/100\n",
            "13/13 [==============================] - 0s 3ms/step - loss: 8.3965 - mse: 119.5746 - val_loss: 8.1900 - val_mse: 115.7575\n",
            "Epoch 14/100\n",
            "13/13 [==============================] - 0s 3ms/step - loss: 7.6621 - mse: 101.9148 - val_loss: 7.5229 - val_mse: 101.5160\n",
            "Epoch 15/100\n",
            "13/13 [==============================] - 0s 4ms/step - loss: 6.8748 - mse: 88.4267 - val_loss: 6.7622 - val_mse: 86.0970\n",
            "Epoch 16/100\n",
            "13/13 [==============================] - 0s 3ms/step - loss: 6.1561 - mse: 74.5682 - val_loss: 6.1885 - val_mse: 75.6105\n",
            "Epoch 17/100\n",
            "13/13 [==============================] - 0s 3ms/step - loss: 5.4467 - mse: 65.6964 - val_loss: 5.4535 - val_mse: 60.0848\n",
            "Epoch 18/100\n",
            "13/13 [==============================] - 0s 3ms/step - loss: 4.9258 - mse: 55.8852 - val_loss: 5.1822 - val_mse: 54.7140\n",
            "Epoch 19/100\n",
            "13/13 [==============================] - 0s 3ms/step - loss: 4.6713 - mse: 52.3400 - val_loss: 4.8867 - val_mse: 47.8468\n",
            "Epoch 20/100\n",
            "13/13 [==============================] - 0s 4ms/step - loss: 4.5813 - mse: 48.5256 - val_loss: 4.7174 - val_mse: 44.2602\n",
            "Epoch 21/100\n",
            "13/13 [==============================] - 0s 3ms/step - loss: 4.4060 - mse: 45.7620 - val_loss: 4.7957 - val_mse: 46.8135\n",
            "Epoch 22/100\n",
            "13/13 [==============================] - 0s 3ms/step - loss: 4.2849 - mse: 45.0403 - val_loss: 4.5077 - val_mse: 40.5681\n",
            "Epoch 23/100\n",
            "13/13 [==============================] - 0s 3ms/step - loss: 4.1573 - mse: 41.9114 - val_loss: 4.3394 - val_mse: 37.1238\n",
            "Epoch 24/100\n",
            "13/13 [==============================] - 0s 4ms/step - loss: 4.0037 - mse: 40.4519 - val_loss: 4.2947 - val_mse: 36.4982\n",
            "Epoch 25/100\n",
            "13/13 [==============================] - 0s 3ms/step - loss: 3.9269 - mse: 38.3232 - val_loss: 4.2675 - val_mse: 35.9488\n",
            "Epoch 26/100\n",
            "13/13 [==============================] - 0s 3ms/step - loss: 3.8319 - mse: 36.0152 - val_loss: 4.8295 - val_mse: 44.8504\n",
            "Epoch 27/100\n",
            "13/13 [==============================] - 0s 3ms/step - loss: 3.9632 - mse: 36.9099 - val_loss: 4.2901 - val_mse: 35.9868\n",
            "Epoch 28/100\n",
            "13/13 [==============================] - 0s 3ms/step - loss: 3.7063 - mse: 34.0612 - val_loss: 3.9841 - val_mse: 31.6468\n",
            "Epoch 29/100\n",
            "13/13 [==============================] - 0s 3ms/step - loss: 3.5903 - mse: 31.5070 - val_loss: 3.7530 - val_mse: 26.6866\n",
            "Epoch 30/100\n",
            "13/13 [==============================] - 0s 4ms/step - loss: 3.5650 - mse: 31.2698 - val_loss: 4.2963 - val_mse: 34.8949\n",
            "Epoch 31/100\n",
            "13/13 [==============================] - 0s 36ms/step - loss: 3.6203 - mse: 30.3706 - val_loss: 4.0015 - val_mse: 26.3720\n",
            "Epoch 32/100\n",
            "13/13 [==============================] - 0s 3ms/step - loss: 3.6902 - mse: 30.4394 - val_loss: 3.5716 - val_mse: 23.4988\n",
            "Epoch 33/100\n",
            "13/13 [==============================] - 0s 3ms/step - loss: 3.4535 - mse: 28.2049 - val_loss: 3.9339 - val_mse: 25.2297\n",
            "Epoch 34/100\n",
            "13/13 [==============================] - 0s 3ms/step - loss: 3.7024 - mse: 29.8621 - val_loss: 5.1655 - val_mse: 44.8913\n",
            "Epoch 35/100\n",
            "13/13 [==============================] - 0s 4ms/step - loss: 3.8002 - mse: 32.3385 - val_loss: 3.3562 - val_mse: 21.3777\n",
            "Epoch 36/100\n",
            "13/13 [==============================] - 0s 5ms/step - loss: 3.4287 - mse: 28.7762 - val_loss: 5.8960 - val_mse: 53.7473\n",
            "Epoch 37/100\n",
            "13/13 [==============================] - 0s 3ms/step - loss: 3.4447 - mse: 29.8407 - val_loss: 3.4481 - val_mse: 21.1867\n",
            "Epoch 38/100\n",
            "13/13 [==============================] - 0s 5ms/step - loss: 3.1422 - mse: 24.3451 - val_loss: 3.3639 - val_mse: 22.3177\n",
            "Epoch 39/100\n",
            "13/13 [==============================] - 0s 4ms/step - loss: 3.6771 - mse: 28.6080 - val_loss: 3.4522 - val_mse: 23.1127\n",
            "Epoch 40/100\n",
            "13/13 [==============================] - 0s 4ms/step - loss: 3.6636 - mse: 29.4292 - val_loss: 3.3173 - val_mse: 20.3602\n",
            "Epoch 41/100\n",
            "13/13 [==============================] - 0s 3ms/step - loss: 3.5986 - mse: 26.9028 - val_loss: 3.1837 - val_mse: 19.3222\n",
            "Epoch 42/100\n",
            "13/13 [==============================] - 0s 5ms/step - loss: 3.3781 - mse: 27.0658 - val_loss: 3.2190 - val_mse: 19.8247\n",
            "Epoch 43/100\n",
            "13/13 [==============================] - 0s 3ms/step - loss: 3.2835 - mse: 25.3528 - val_loss: 3.4360 - val_mse: 22.7413\n",
            "Epoch 44/100\n",
            "13/13 [==============================] - 0s 3ms/step - loss: 3.5426 - mse: 27.4525 - val_loss: 3.3527 - val_mse: 19.6177\n",
            "Epoch 45/100\n",
            "13/13 [==============================] - 0s 5ms/step - loss: 3.5181 - mse: 26.6242 - val_loss: 4.0623 - val_mse: 29.4569\n",
            "Epoch 46/100\n",
            "13/13 [==============================] - 0s 4ms/step - loss: 3.2474 - mse: 25.1790 - val_loss: 3.2379 - val_mse: 20.9188\n",
            "Epoch 47/100\n",
            "13/13 [==============================] - 0s 3ms/step - loss: 3.1485 - mse: 24.2372 - val_loss: 3.2520 - val_mse: 19.0043\n",
            "Epoch 48/100\n",
            "13/13 [==============================] - 0s 3ms/step - loss: 3.4634 - mse: 27.0593 - val_loss: 4.2496 - val_mse: 31.4902\n",
            "Epoch 49/100\n",
            "13/13 [==============================] - 0s 4ms/step - loss: 3.2808 - mse: 25.6737 - val_loss: 3.3279 - val_mse: 21.5487\n",
            "Epoch 50/100\n",
            "13/13 [==============================] - 0s 3ms/step - loss: 3.4612 - mse: 27.8871 - val_loss: 3.2261 - val_mse: 19.7401\n",
            "Epoch 51/100\n",
            "13/13 [==============================] - 0s 3ms/step - loss: 3.1812 - mse: 24.5414 - val_loss: 3.9221 - val_mse: 27.4507\n",
            "Epoch 52/100\n",
            "13/13 [==============================] - 0s 5ms/step - loss: 3.2792 - mse: 25.0110 - val_loss: 4.2106 - val_mse: 26.1236\n",
            "Epoch 53/100\n",
            "13/13 [==============================] - 0s 5ms/step - loss: 3.6753 - mse: 29.6243 - val_loss: 3.3885 - val_mse: 19.6480\n",
            "Epoch 54/100\n",
            "13/13 [==============================] - 0s 5ms/step - loss: 3.4177 - mse: 25.1052 - val_loss: 3.2451 - val_mse: 18.9308\n",
            "Epoch 55/100\n",
            "13/13 [==============================] - 0s 4ms/step - loss: 3.3023 - mse: 25.2262 - val_loss: 3.9060 - val_mse: 27.5928\n",
            "Epoch 56/100\n",
            "13/13 [==============================] - 0s 4ms/step - loss: 3.3100 - mse: 24.9236 - val_loss: 3.4986 - val_mse: 23.4592\n",
            "Epoch 57/100\n",
            "13/13 [==============================] - 0s 5ms/step - loss: 3.2914 - mse: 24.9023 - val_loss: 4.1001 - val_mse: 25.6649\n",
            "Epoch 58/100\n",
            "13/13 [==============================] - 0s 3ms/step - loss: 3.2169 - mse: 22.3995 - val_loss: 3.4771 - val_mse: 22.9309\n",
            "Epoch 59/100\n",
            "13/13 [==============================] - 0s 4ms/step - loss: 3.3501 - mse: 24.8977 - val_loss: 4.5475 - val_mse: 34.1505\n",
            "Epoch 60/100\n",
            "13/13 [==============================] - 0s 3ms/step - loss: 3.2688 - mse: 23.5883 - val_loss: 3.3201 - val_mse: 19.6174\n",
            "Epoch 61/100\n",
            "13/13 [==============================] - 0s 5ms/step - loss: 3.1514 - mse: 24.2536 - val_loss: 3.4067 - val_mse: 22.4891\n",
            "Epoch 62/100\n",
            "13/13 [==============================] - 0s 3ms/step - loss: 2.9666 - mse: 21.5932 - val_loss: 3.1529 - val_mse: 18.1614\n",
            "Epoch 63/100\n",
            "13/13 [==============================] - 0s 3ms/step - loss: 3.3157 - mse: 25.7430 - val_loss: 3.6145 - val_mse: 21.5905\n",
            "Epoch 64/100\n",
            "13/13 [==============================] - 0s 3ms/step - loss: 3.3507 - mse: 26.0592 - val_loss: 4.1668 - val_mse: 29.9612\n",
            "Epoch 65/100\n",
            "13/13 [==============================] - 0s 3ms/step - loss: 3.4726 - mse: 25.8546 - val_loss: 3.1519 - val_mse: 18.4100\n",
            "Epoch 66/100\n",
            "13/13 [==============================] - 0s 5ms/step - loss: 3.1901 - mse: 23.8138 - val_loss: 3.4650 - val_mse: 20.0597\n",
            "Epoch 67/100\n",
            "13/13 [==============================] - 0s 5ms/step - loss: 3.2752 - mse: 23.8205 - val_loss: 3.2564 - val_mse: 20.4979\n",
            "Epoch 68/100\n",
            "13/13 [==============================] - 0s 4ms/step - loss: 3.0002 - mse: 22.5386 - val_loss: 3.2624 - val_mse: 19.2144\n",
            "Epoch 69/100\n",
            "13/13 [==============================] - 0s 4ms/step - loss: 2.9330 - mse: 21.6775 - val_loss: 3.1746 - val_mse: 19.4462\n",
            "Epoch 70/100\n",
            "13/13 [==============================] - 0s 4ms/step - loss: 3.0558 - mse: 22.7923 - val_loss: 3.1782 - val_mse: 19.0168\n",
            "Epoch 71/100\n",
            "13/13 [==============================] - 0s 3ms/step - loss: 3.3854 - mse: 26.4415 - val_loss: 3.8689 - val_mse: 27.0983\n",
            "Epoch 72/100\n",
            "13/13 [==============================] - 0s 4ms/step - loss: 3.0374 - mse: 23.0837 - val_loss: 3.1564 - val_mse: 18.3399\n",
            "Epoch 73/100\n",
            "13/13 [==============================] - 0s 3ms/step - loss: 3.3318 - mse: 25.3182 - val_loss: 3.2100 - val_mse: 19.2558\n",
            "Epoch 74/100\n",
            "13/13 [==============================] - 0s 3ms/step - loss: 3.1294 - mse: 21.9863 - val_loss: 4.9400 - val_mse: 38.1201\n",
            "Epoch 75/100\n",
            "13/13 [==============================] - 0s 3ms/step - loss: 3.4339 - mse: 25.9851 - val_loss: 3.3424 - val_mse: 19.6465\n",
            "Epoch 76/100\n",
            "13/13 [==============================] - 0s 3ms/step - loss: 3.0975 - mse: 22.3760 - val_loss: 3.7369 - val_mse: 22.6853\n",
            "Epoch 77/100\n",
            "13/13 [==============================] - 0s 3ms/step - loss: 3.1181 - mse: 23.2054 - val_loss: 3.2529 - val_mse: 20.4590\n",
            "Epoch 78/100\n",
            "13/13 [==============================] - 0s 3ms/step - loss: 2.9309 - mse: 21.3853 - val_loss: 3.1156 - val_mse: 18.9238\n",
            "Epoch 79/100\n",
            "13/13 [==============================] - 0s 3ms/step - loss: 3.0688 - mse: 22.3745 - val_loss: 3.4090 - val_mse: 20.2089\n",
            "Epoch 80/100\n",
            "13/13 [==============================] - 0s 3ms/step - loss: 3.1356 - mse: 21.5138 - val_loss: 3.1056 - val_mse: 18.1757\n",
            "Epoch 81/100\n",
            "13/13 [==============================] - 0s 3ms/step - loss: 2.9516 - mse: 22.4019 - val_loss: 3.1286 - val_mse: 18.0400\n",
            "Epoch 82/100\n",
            "13/13 [==============================] - 0s 3ms/step - loss: 3.1313 - mse: 23.0642 - val_loss: 4.2489 - val_mse: 30.2262\n",
            "Epoch 83/100\n",
            "13/13 [==============================] - 0s 5ms/step - loss: 3.3424 - mse: 24.7951 - val_loss: 3.1160 - val_mse: 18.2636\n",
            "Epoch 84/100\n",
            "13/13 [==============================] - 0s 3ms/step - loss: 3.0092 - mse: 22.4806 - val_loss: 3.2690 - val_mse: 19.3145\n",
            "Epoch 85/100\n",
            "13/13 [==============================] - 0s 5ms/step - loss: 3.1108 - mse: 22.4534 - val_loss: 3.1092 - val_mse: 17.9340\n",
            "Epoch 86/100\n",
            "13/13 [==============================] - 0s 3ms/step - loss: 3.0122 - mse: 22.2086 - val_loss: 3.1662 - val_mse: 19.7998\n",
            "Epoch 87/100\n",
            "13/13 [==============================] - 0s 3ms/step - loss: 3.2417 - mse: 24.5638 - val_loss: 3.1803 - val_mse: 18.4479\n",
            "Epoch 88/100\n",
            "13/13 [==============================] - 0s 5ms/step - loss: 2.8803 - mse: 21.2480 - val_loss: 3.0513 - val_mse: 18.7671\n",
            "Epoch 89/100\n",
            "13/13 [==============================] - 0s 5ms/step - loss: 2.9135 - mse: 21.4799 - val_loss: 3.4627 - val_mse: 22.5056\n",
            "Epoch 90/100\n",
            "13/13 [==============================] - 0s 4ms/step - loss: 3.0516 - mse: 21.6467 - val_loss: 2.9726 - val_mse: 17.5372\n",
            "Epoch 91/100\n",
            "13/13 [==============================] - 0s 3ms/step - loss: 3.2528 - mse: 23.5735 - val_loss: 3.0024 - val_mse: 18.3659\n",
            "Epoch 92/100\n",
            "13/13 [==============================] - 0s 4ms/step - loss: 2.9789 - mse: 21.6505 - val_loss: 2.9626 - val_mse: 17.8662\n",
            "Epoch 93/100\n",
            "13/13 [==============================] - 0s 3ms/step - loss: 3.0748 - mse: 22.4638 - val_loss: 4.4613 - val_mse: 32.1374\n",
            "Epoch 94/100\n",
            "13/13 [==============================] - 0s 4ms/step - loss: 3.3993 - mse: 25.8768 - val_loss: 3.0146 - val_mse: 17.2978\n",
            "Epoch 95/100\n",
            "13/13 [==============================] - 0s 3ms/step - loss: 2.8949 - mse: 20.7752 - val_loss: 3.5849 - val_mse: 23.3251\n",
            "Epoch 96/100\n",
            "13/13 [==============================] - 0s 3ms/step - loss: 3.1082 - mse: 22.7496 - val_loss: 3.2146 - val_mse: 18.9464\n",
            "Epoch 97/100\n",
            "13/13 [==============================] - 0s 3ms/step - loss: 2.9121 - mse: 20.3727 - val_loss: 3.5165 - val_mse: 22.8513\n",
            "Epoch 98/100\n",
            "13/13 [==============================] - 0s 5ms/step - loss: 3.0829 - mse: 23.2931 - val_loss: 3.2108 - val_mse: 18.9812\n",
            "Epoch 99/100\n",
            "13/13 [==============================] - 0s 5ms/step - loss: 2.7962 - mse: 19.9884 - val_loss: 2.9446 - val_mse: 17.3655\n",
            "Epoch 100/100\n",
            "13/13 [==============================] - 0s 3ms/step - loss: 2.8109 - mse: 21.0489 - val_loss: 2.9802 - val_mse: 18.4392\n"
          ],
          "name": "stdout"
        }
      ]
    },
    {
      "cell_type": "code",
      "metadata": {
        "colab": {
          "base_uri": "https://localhost:8080/"
        },
        "id": "bqy8e-ZJ-ZOd",
        "outputId": "984e0a45-ff68-4cb7-f190-3610ac1b2a1b"
      },
      "source": [
        "model_1.summary()"
      ],
      "execution_count": 71,
      "outputs": [
        {
          "output_type": "stream",
          "text": [
            "Model: \"sequential_24\"\n",
            "_________________________________________________________________\n",
            "Layer (type)                 Output Shape              Param #   \n",
            "=================================================================\n",
            "dense_73 (Dense)             (None, 8)                 112       \n",
            "_________________________________________________________________\n",
            "dense_74 (Dense)             (None, 8)                 72        \n",
            "_________________________________________________________________\n",
            "dense_75 (Dense)             (None, 8)                 72        \n",
            "_________________________________________________________________\n",
            "dense_76 (Dense)             (None, 1)                 9         \n",
            "=================================================================\n",
            "Total params: 265\n",
            "Trainable params: 265\n",
            "Non-trainable params: 0\n",
            "_________________________________________________________________\n"
          ],
          "name": "stdout"
        }
      ]
    },
    {
      "cell_type": "code",
      "metadata": {
        "colab": {
          "base_uri": "https://localhost:8080/",
          "height": 282
        },
        "id": "zf1_IzJO-eaZ",
        "outputId": "83163a85-583d-49ef-f2f3-ee1f6c818ec2"
      },
      "source": [
        "pd.DataFrame(history.history).plot()"
      ],
      "execution_count": 72,
      "outputs": [
        {
          "output_type": "execute_result",
          "data": {
            "text/plain": [
              "<matplotlib.axes._subplots.AxesSubplot at 0x7fc2654e3510>"
            ]
          },
          "metadata": {
            "tags": []
          },
          "execution_count": 72
        },
        {
          "output_type": "display_data",
          "data": {
            "image/png": "[encoded data removed]",
            "text/plain": [
              "<Figure size 432x288 with 1 Axes>"
            ]
          },
          "metadata": {
            "tags": [],
            "needs_background": "light"
          }
        }
      ]
    }
  ]
}
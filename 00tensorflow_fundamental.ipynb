{
  "nbformat": 4,
  "nbformat_minor": 0,
  "metadata": {
    "colab": {
      "name": "00tensorflow_fundamental.ipynb",
      "provenance": [],
      "collapsed_sections": [],
      "authorship_tag": "ABX9TyNxY2IGhr+YPS/zikmHQCmA",
      "include_colab_link": true
    },
    "kernelspec": {
      "name": "python3",
      "display_name": "Python 3"
    },
    "language_info": {
      "name": "python"
    }
  },
  "cells": [
    {
      "cell_type": "markdown",
      "metadata": {
        "id": "view-in-github",
        "colab_type": "text"
      },
      "source": [
        "<a href=\"https://colab.research.google.com/github/ZenoZoldyck/hand_on_tensorflow/blob/main/00tensorflow_fundamental.ipynb\" target=\"_parent\"><img src=\"https://colab.research.google.com/assets/colab-badge.svg\" alt=\"Open In Colab\"/></a>"
      ]
    },
    {
      "cell_type": "code",
      "metadata": {
        "colab": {
          "base_uri": "https://localhost:8080/"
        },
        "id": "dvbxBRhcjanH",
        "outputId": "22ba0b1c-194e-4feb-b113-e54f05bd0ebb"
      },
      "source": [
        "import tensorflow as tf\n",
        "print(tf.__version__)\n"
      ],
      "execution_count": 1,
      "outputs": [
        {
          "output_type": "stream",
          "text": [
            "2.4.1\n"
          ],
          "name": "stdout"
        }
      ]
    },
    {
      "cell_type": "code",
      "metadata": {
        "colab": {
          "base_uri": "https://localhost:8080/"
        },
        "id": "Am-Lq1_Pvn8U",
        "outputId": "c15348b8-48c1-49e3-927a-670539f7eb53"
      },
      "source": [
        "scalar = tf.constant(8)\n",
        "scalar"
      ],
      "execution_count": 2,
      "outputs": [
        {
          "output_type": "execute_result",
          "data": {
            "text/plain": [
              "<tf.Tensor: shape=(), dtype=int32, numpy=8>"
            ]
          },
          "metadata": {
            "tags": []
          },
          "execution_count": 2
        }
      ]
    },
    {
      "cell_type": "code",
      "metadata": {
        "colab": {
          "base_uri": "https://localhost:8080/"
        },
        "id": "HEPifFDav347",
        "outputId": "080f47be-704c-4bd3-86fd-07d652ff8e2e"
      },
      "source": [
        "scalar.ndim"
      ],
      "execution_count": 3,
      "outputs": [
        {
          "output_type": "execute_result",
          "data": {
            "text/plain": [
              "0"
            ]
          },
          "metadata": {
            "tags": []
          },
          "execution_count": 3
        }
      ]
    },
    {
      "cell_type": "code",
      "metadata": {
        "colab": {
          "base_uri": "https://localhost:8080/"
        },
        "id": "NDVkXjomwQRM",
        "outputId": "1bba2ddb-8e4f-4f09-bc47-e444334a706f"
      },
      "source": [
        "vector = tf.constant([10, 10])\n",
        "vector"
      ],
      "execution_count": 4,
      "outputs": [
        {
          "output_type": "execute_result",
          "data": {
            "text/plain": [
              "<tf.Tensor: shape=(2,), dtype=int32, numpy=array([10, 10], dtype=int32)>"
            ]
          },
          "metadata": {
            "tags": []
          },
          "execution_count": 4
        }
      ]
    },
    {
      "cell_type": "code",
      "metadata": {
        "colab": {
          "base_uri": "https://localhost:8080/"
        },
        "id": "gkWDdl-rwkoW",
        "outputId": "a22081cd-4a79-4c27-a638-4f2083f5f632"
      },
      "source": [
        "vector.ndim"
      ],
      "execution_count": 5,
      "outputs": [
        {
          "output_type": "execute_result",
          "data": {
            "text/plain": [
              "1"
            ]
          },
          "metadata": {
            "tags": []
          },
          "execution_count": 5
        }
      ]
    },
    {
      "cell_type": "code",
      "metadata": {
        "colab": {
          "base_uri": "https://localhost:8080/"
        },
        "id": "oagh8D6pwytT",
        "outputId": "2bca194c-2fb8-4bb9-80c5-687e1a907ae0"
      },
      "source": [
        "matrix = tf.constant([[10, 120], [11, 13]])\n",
        "matrix"
      ],
      "execution_count": 6,
      "outputs": [
        {
          "output_type": "execute_result",
          "data": {
            "text/plain": [
              "<tf.Tensor: shape=(2, 2), dtype=int32, numpy=\n",
              "array([[ 10, 120],\n",
              "       [ 11,  13]], dtype=int32)>"
            ]
          },
          "metadata": {
            "tags": []
          },
          "execution_count": 6
        }
      ]
    },
    {
      "cell_type": "code",
      "metadata": {
        "colab": {
          "base_uri": "https://localhost:8080/"
        },
        "id": "AL32se40w_iR",
        "outputId": "9475aeb5-a726-4f9d-d893-b89b957c1c5f"
      },
      "source": [
        "an = tf.constant([[12, 13],\n",
        "                  [5, 6],\n",
        "                  [45, 63]], dtype = tf.float16)\n",
        "\n",
        "an"
      ],
      "execution_count": 7,
      "outputs": [
        {
          "output_type": "execute_result",
          "data": {
            "text/plain": [
              "<tf.Tensor: shape=(3, 2), dtype=float16, numpy=\n",
              "array([[12., 13.],\n",
              "       [ 5.,  6.],\n",
              "       [45., 63.]], dtype=float16)>"
            ]
          },
          "metadata": {
            "tags": []
          },
          "execution_count": 7
        }
      ]
    },
    {
      "cell_type": "code",
      "metadata": {
        "colab": {
          "base_uri": "https://localhost:8080/"
        },
        "id": "uxxuSFUFyKHi",
        "outputId": "c981b9a7-e2ab-4399-a3a1-775bd9cfd448"
      },
      "source": [
        "an.ndim"
      ],
      "execution_count": 8,
      "outputs": [
        {
          "output_type": "execute_result",
          "data": {
            "text/plain": [
              "2"
            ]
          },
          "metadata": {
            "tags": []
          },
          "execution_count": 8
        }
      ]
    },
    {
      "cell_type": "code",
      "metadata": {
        "colab": {
          "base_uri": "https://localhost:8080/"
        },
        "id": "__PxfmGXyQkv",
        "outputId": "a0e2d1a3-d136-4995-fd31-5605947455d7"
      },
      "source": [
        "tensor = tf.constant([[[1, 2],\n",
        "                       [3, 4]],\n",
        "                      [[5, 6],\n",
        "                      [7, 8]]])\n",
        "tensor"
      ],
      "execution_count": 9,
      "outputs": [
        {
          "output_type": "execute_result",
          "data": {
            "text/plain": [
              "<tf.Tensor: shape=(2, 2, 2), dtype=int32, numpy=\n",
              "array([[[1, 2],\n",
              "        [3, 4]],\n",
              "\n",
              "       [[5, 6],\n",
              "        [7, 8]]], dtype=int32)>"
            ]
          },
          "metadata": {
            "tags": []
          },
          "execution_count": 9
        }
      ]
    },
    {
      "cell_type": "code",
      "metadata": {
        "colab": {
          "base_uri": "https://localhost:8080/"
        },
        "id": "EDEvZcGWzUzI",
        "outputId": "d4380523-0cb5-46f3-88a3-cae9c67b5b66"
      },
      "source": [
        "tensor.ndim"
      ],
      "execution_count": 10,
      "outputs": [
        {
          "output_type": "execute_result",
          "data": {
            "text/plain": [
              "3"
            ]
          },
          "metadata": {
            "tags": []
          },
          "execution_count": 10
        }
      ]
    },
    {
      "cell_type": "code",
      "metadata": {
        "colab": {
          "base_uri": "https://localhost:8080/"
        },
        "id": "IIAIu7KC16xl",
        "outputId": "5d894eb1-d46f-49a7-fee0-5f5521db3a3a"
      },
      "source": [
        "abc = tf.Variable([10, 7])\n",
        "abc"
      ],
      "execution_count": 11,
      "outputs": [
        {
          "output_type": "execute_result",
          "data": {
            "text/plain": [
              "<tf.Variable 'Variable:0' shape=(2,) dtype=int32, numpy=array([10,  7], dtype=int32)>"
            ]
          },
          "metadata": {
            "tags": []
          },
          "execution_count": 11
        }
      ]
    },
    {
      "cell_type": "code",
      "metadata": {
        "colab": {
          "base_uri": "https://localhost:8080/"
        },
        "id": "jsxuCcPu2n-e",
        "outputId": "fde8b957-7863-45ec-af5f-ffcf15cfad7d"
      },
      "source": [
        "abc[0].assign(5)\n",
        "abc"
      ],
      "execution_count": 12,
      "outputs": [
        {
          "output_type": "execute_result",
          "data": {
            "text/plain": [
              "<tf.Variable 'Variable:0' shape=(2,) dtype=int32, numpy=array([5, 7], dtype=int32)>"
            ]
          },
          "metadata": {
            "tags": []
          },
          "execution_count": 12
        }
      ]
    },
    {
      "cell_type": "code",
      "metadata": {
        "colab": {
          "base_uri": "https://localhost:8080/"
        },
        "id": "yZleir8f29NX",
        "outputId": "c16766d8-c1e7-4ad1-f82c-702dd958f17b"
      },
      "source": [
        "a = tf.random.Generator.from_seed(45).normal(shape = (3, 2))\n",
        "b = tf.random.Generator.from_seed(67).uniform(shape = (3, 2, 2))\n",
        "b"
      ],
      "execution_count": 13,
      "outputs": [
        {
          "output_type": "execute_result",
          "data": {
            "text/plain": [
              "<tf.Tensor: shape=(3, 2, 2), dtype=float32, numpy=\n",
              "array([[[0.43336582, 0.51829636],\n",
              "        [0.8555572 , 0.21962428]],\n",
              "\n",
              "       [[0.76091194, 0.04762888],\n",
              "        [0.5131633 , 0.97339594]],\n",
              "\n",
              "       [[0.33341944, 0.03152311],\n",
              "        [0.28874612, 0.58736026]]], dtype=float32)>"
            ]
          },
          "metadata": {
            "tags": []
          },
          "execution_count": 13
        }
      ]
    },
    {
      "cell_type": "code",
      "metadata": {
        "colab": {
          "base_uri": "https://localhost:8080/"
        },
        "id": "C5O2vZIrAEa3",
        "outputId": "4d48dde8-92bb-4a33-83cb-dbd3e25a0a49"
      },
      "source": [
        "import tensorflow as tf\n",
        "\n",
        "gy = tf.Variable([10, 10])\n",
        "gy"
      ],
      "execution_count": 14,
      "outputs": [
        {
          "output_type": "execute_result",
          "data": {
            "text/plain": [
              "<tf.Variable 'Variable:0' shape=(2,) dtype=int32, numpy=array([10, 10], dtype=int32)>"
            ]
          },
          "metadata": {
            "tags": []
          },
          "execution_count": 14
        }
      ]
    },
    {
      "cell_type": "code",
      "metadata": {
        "colab": {
          "base_uri": "https://localhost:8080/"
        },
        "id": "U9AZJX6KT23d",
        "outputId": "81a83716-7f0e-4261-f776-906b315ab3a4"
      },
      "source": [
        "gy[0].assign(8)\n",
        "gy"
      ],
      "execution_count": 15,
      "outputs": [
        {
          "output_type": "execute_result",
          "data": {
            "text/plain": [
              "<tf.Variable 'Variable:0' shape=(2,) dtype=int32, numpy=array([ 8, 10], dtype=int32)>"
            ]
          },
          "metadata": {
            "tags": []
          },
          "execution_count": 15
        }
      ]
    },
    {
      "cell_type": "code",
      "metadata": {
        "colab": {
          "base_uri": "https://localhost:8080/"
        },
        "id": "SltJHc_oXRa2",
        "outputId": "d4578281-ed91-4e5b-ff0c-d968fa0272eb"
      },
      "source": [
        "shuffled = tf.constant([[5, 5],\n",
        "                        [8, 3],\n",
        "                        [7,1],\n",
        "                        [2, 2],\n",
        "                        [9, 5]])\n",
        "tf.random.set_seed(45)  # global level seed\n",
        "tf.random.shuffle(shuffled, seed = 47)  # operation level seed\n"
      ],
      "execution_count": 16,
      "outputs": [
        {
          "output_type": "execute_result",
          "data": {
            "text/plain": [
              "<tf.Tensor: shape=(5, 2), dtype=int32, numpy=\n",
              "array([[7, 1],\n",
              "       [8, 3],\n",
              "       [5, 5],\n",
              "       [9, 5],\n",
              "       [2, 2]], dtype=int32)>"
            ]
          },
          "metadata": {
            "tags": []
          },
          "execution_count": 16
        }
      ]
    },
    {
      "cell_type": "code",
      "metadata": {
        "colab": {
          "base_uri": "https://localhost:8080/"
        },
        "id": "KLHwdUTQaKHc",
        "outputId": "ba00a576-9d7c-4d9d-9129-2dede5cf0530"
      },
      "source": [
        "tf.ones([3, 2, 3], tf.float32)"
      ],
      "execution_count": 17,
      "outputs": [
        {
          "output_type": "execute_result",
          "data": {
            "text/plain": [
              "<tf.Tensor: shape=(3, 2, 3), dtype=float32, numpy=\n",
              "array([[[1., 1., 1.],\n",
              "        [1., 1., 1.]],\n",
              "\n",
              "       [[1., 1., 1.],\n",
              "        [1., 1., 1.]],\n",
              "\n",
              "       [[1., 1., 1.],\n",
              "        [1., 1., 1.]]], dtype=float32)>"
            ]
          },
          "metadata": {
            "tags": []
          },
          "execution_count": 17
        }
      ]
    },
    {
      "cell_type": "code",
      "metadata": {
        "colab": {
          "base_uri": "https://localhost:8080/"
        },
        "id": "V8eJnj_obc7t",
        "outputId": "259a6726-9ed9-4d2a-e301-932bedc2ec1a"
      },
      "source": [
        "import numpy as np\n",
        "A = np.arange(1, 10, dtype = np.int32)\n",
        "A"
      ],
      "execution_count": 18,
      "outputs": [
        {
          "output_type": "execute_result",
          "data": {
            "text/plain": [
              "array([1, 2, 3, 4, 5, 6, 7, 8, 9], dtype=int32)"
            ]
          },
          "metadata": {
            "tags": []
          },
          "execution_count": 18
        }
      ]
    },
    {
      "cell_type": "code",
      "metadata": {
        "colab": {
          "base_uri": "https://localhost:8080/"
        },
        "id": "VJHgWJdYcEcE",
        "outputId": "41f88ee6-7466-4138-9965-9b8134276752"
      },
      "source": [
        "tf.constant(A, shape = (3, 3))"
      ],
      "execution_count": 19,
      "outputs": [
        {
          "output_type": "execute_result",
          "data": {
            "text/plain": [
              "<tf.Tensor: shape=(3, 3), dtype=int32, numpy=\n",
              "array([[1, 2, 3],\n",
              "       [4, 5, 6],\n",
              "       [7, 8, 9]], dtype=int32)>"
            ]
          },
          "metadata": {
            "tags": []
          },
          "execution_count": 19
        }
      ]
    },
    {
      "cell_type": "code",
      "metadata": {
        "colab": {
          "base_uri": "https://localhost:8080/"
        },
        "id": "Yu_XcIh9e-yU",
        "outputId": "6fd027a1-a326-4284-ebf4-e909225d5070"
      },
      "source": [
        "aaa = tf.zeros([2, 3, 3, 4], tf.int32)\n",
        "aaa"
      ],
      "execution_count": 20,
      "outputs": [
        {
          "output_type": "execute_result",
          "data": {
            "text/plain": [
              "<tf.Tensor: shape=(2, 3, 3, 4), dtype=int32, numpy=\n",
              "array([[[[0, 0, 0, 0],\n",
              "         [0, 0, 0, 0],\n",
              "         [0, 0, 0, 0]],\n",
              "\n",
              "        [[0, 0, 0, 0],\n",
              "         [0, 0, 0, 0],\n",
              "         [0, 0, 0, 0]],\n",
              "\n",
              "        [[0, 0, 0, 0],\n",
              "         [0, 0, 0, 0],\n",
              "         [0, 0, 0, 0]]],\n",
              "\n",
              "\n",
              "       [[[0, 0, 0, 0],\n",
              "         [0, 0, 0, 0],\n",
              "         [0, 0, 0, 0]],\n",
              "\n",
              "        [[0, 0, 0, 0],\n",
              "         [0, 0, 0, 0],\n",
              "         [0, 0, 0, 0]],\n",
              "\n",
              "        [[0, 0, 0, 0],\n",
              "         [0, 0, 0, 0],\n",
              "         [0, 0, 0, 0]]]], dtype=int32)>"
            ]
          },
          "metadata": {
            "tags": []
          },
          "execution_count": 20
        }
      ]
    },
    {
      "cell_type": "code",
      "metadata": {
        "colab": {
          "base_uri": "https://localhost:8080/"
        },
        "id": "Ox0IjAoXjiBV",
        "outputId": "bdf8ce6d-0b06-422e-865f-5f8c028c6c3d"
      },
      "source": [
        "aaa.shape[1]"
      ],
      "execution_count": 21,
      "outputs": [
        {
          "output_type": "execute_result",
          "data": {
            "text/plain": [
              "3"
            ]
          },
          "metadata": {
            "tags": []
          },
          "execution_count": 21
        }
      ]
    },
    {
      "cell_type": "code",
      "metadata": {
        "colab": {
          "base_uri": "https://localhost:8080/"
        },
        "id": "qCtyZlUYka7K",
        "outputId": "5fa58522-1ee2-40db-ee92-8f64b4ae5bf4"
      },
      "source": [
        "aaa[:2, :2, :2, :2]"
      ],
      "execution_count": 22,
      "outputs": [
        {
          "output_type": "execute_result",
          "data": {
            "text/plain": [
              "<tf.Tensor: shape=(2, 2, 2, 2), dtype=int32, numpy=\n",
              "array([[[[0, 0],\n",
              "         [0, 0]],\n",
              "\n",
              "        [[0, 0],\n",
              "         [0, 0]]],\n",
              "\n",
              "\n",
              "       [[[0, 0],\n",
              "         [0, 0]],\n",
              "\n",
              "        [[0, 0],\n",
              "         [0, 0]]]], dtype=int32)>"
            ]
          },
          "metadata": {
            "tags": []
          },
          "execution_count": 22
        }
      ]
    },
    {
      "cell_type": "code",
      "metadata": {
        "colab": {
          "base_uri": "https://localhost:8080/"
        },
        "id": "jN1l8bncliy_",
        "outputId": "e207f722-66d6-4ab8-ad06-d5abc6e1886a"
      },
      "source": [
        "aaa[:1, :1, :1, :]"
      ],
      "execution_count": 23,
      "outputs": [
        {
          "output_type": "execute_result",
          "data": {
            "text/plain": [
              "<tf.Tensor: shape=(1, 1, 1, 4), dtype=int32, numpy=array([[[[0, 0, 0, 0]]]], dtype=int32)>"
            ]
          },
          "metadata": {
            "tags": []
          },
          "execution_count": 23
        }
      ]
    },
    {
      "cell_type": "code",
      "metadata": {
        "colab": {
          "base_uri": "https://localhost:8080/"
        },
        "id": "FXTKufu1ltKP",
        "outputId": "84148883-2f3c-44be-8ad6-476890ea46e6"
      },
      "source": [
        "aaa[:1, :1, :, :1]"
      ],
      "execution_count": 24,
      "outputs": [
        {
          "output_type": "execute_result",
          "data": {
            "text/plain": [
              "<tf.Tensor: shape=(1, 1, 3, 1), dtype=int32, numpy=\n",
              "array([[[[0],\n",
              "         [0],\n",
              "         [0]]]], dtype=int32)>"
            ]
          },
          "metadata": {
            "tags": []
          },
          "execution_count": 24
        }
      ]
    },
    {
      "cell_type": "code",
      "metadata": {
        "colab": {
          "base_uri": "https://localhost:8080/"
        },
        "id": "ou9vJgJ9oM09",
        "outputId": "cc7b9b93-7ecc-47f8-b526-c5932c21d006"
      },
      "source": [
        "two = tf.constant([[2, 3],\n",
        "                   [6, 8]])\n",
        "three = two[..., tf.newaxis]\n",
        "three"
      ],
      "execution_count": 25,
      "outputs": [
        {
          "output_type": "execute_result",
          "data": {
            "text/plain": [
              "<tf.Tensor: shape=(2, 2, 1), dtype=int32, numpy=\n",
              "array([[[2],\n",
              "        [3]],\n",
              "\n",
              "       [[6],\n",
              "        [8]]], dtype=int32)>"
            ]
          },
          "metadata": {
            "tags": []
          },
          "execution_count": 25
        }
      ]
    },
    {
      "cell_type": "code",
      "metadata": {
        "colab": {
          "base_uri": "https://localhost:8080/"
        },
        "id": "XKVZMnqMshmt",
        "outputId": "3eeadeb7-c474-4168-e578-c2e90378517a"
      },
      "source": [
        "tf.expand_dims(two, axis = -1)"
      ],
      "execution_count": 26,
      "outputs": [
        {
          "output_type": "execute_result",
          "data": {
            "text/plain": [
              "<tf.Tensor: shape=(2, 2, 1), dtype=int32, numpy=\n",
              "array([[[2],\n",
              "        [3]],\n",
              "\n",
              "       [[6],\n",
              "        [8]]], dtype=int32)>"
            ]
          },
          "metadata": {
            "tags": []
          },
          "execution_count": 26
        }
      ]
    },
    {
      "cell_type": "code",
      "metadata": {
        "colab": {
          "base_uri": "https://localhost:8080/"
        },
        "id": "RIdhDXvJsymY",
        "outputId": "8b4b1062-0d44-4c18-9ab1-06b83cae6266"
      },
      "source": [
        "tensor = tf.constant([[10, 5], [2, 6]])\n",
        "tensor - 8"
      ],
      "execution_count": 27,
      "outputs": [
        {
          "output_type": "execute_result",
          "data": {
            "text/plain": [
              "<tf.Tensor: shape=(2, 2), dtype=int32, numpy=\n",
              "array([[ 2, -3],\n",
              "       [-6, -2]], dtype=int32)>"
            ]
          },
          "metadata": {
            "tags": []
          },
          "execution_count": 27
        }
      ]
    },
    {
      "cell_type": "code",
      "metadata": {
        "colab": {
          "base_uri": "https://localhost:8080/"
        },
        "id": "zXWbImQ7VXHl",
        "outputId": "287fb357-3d8f-4368-807f-49445d0db598"
      },
      "source": [
        "tf.multiply(tensor, 9)"
      ],
      "execution_count": 28,
      "outputs": [
        {
          "output_type": "execute_result",
          "data": {
            "text/plain": [
              "<tf.Tensor: shape=(2, 2), dtype=int32, numpy=\n",
              "array([[90, 45],\n",
              "       [18, 54]], dtype=int32)>"
            ]
          },
          "metadata": {
            "tags": []
          },
          "execution_count": 28
        }
      ]
    },
    {
      "cell_type": "code",
      "metadata": {
        "colab": {
          "base_uri": "https://localhost:8080/"
        },
        "id": "lUOBeaAwVigC",
        "outputId": "336e1c13-5215-41d6-8646-99dbfe49daf1"
      },
      "source": [
        "tf.matmul(tensor, tensor)"
      ],
      "execution_count": 29,
      "outputs": [
        {
          "output_type": "execute_result",
          "data": {
            "text/plain": [
              "<tf.Tensor: shape=(2, 2), dtype=int32, numpy=\n",
              "array([[110,  80],\n",
              "       [ 32,  46]], dtype=int32)>"
            ]
          },
          "metadata": {
            "tags": []
          },
          "execution_count": 29
        }
      ]
    },
    {
      "cell_type": "code",
      "metadata": {
        "colab": {
          "base_uri": "https://localhost:8080/"
        },
        "id": "Cei1N5zWW_Gc",
        "outputId": "97eabfe9-00ee-4aa5-8739-717b9b5862fe"
      },
      "source": [
        "X = tf.constant([[1, 2], [3, 4], [5, 6]])\n",
        "Y = tf.constant([[11, 12], [4, 3]])\n",
        "tf.matmul(X, Y)"
      ],
      "execution_count": 30,
      "outputs": [
        {
          "output_type": "execute_result",
          "data": {
            "text/plain": [
              "<tf.Tensor: shape=(3, 2), dtype=int32, numpy=\n",
              "array([[19, 18],\n",
              "       [49, 48],\n",
              "       [79, 78]], dtype=int32)>"
            ]
          },
          "metadata": {
            "tags": []
          },
          "execution_count": 30
        }
      ]
    },
    {
      "cell_type": "code",
      "metadata": {
        "colab": {
          "base_uri": "https://localhost:8080/"
        },
        "id": "fsUXU3PINjcS",
        "outputId": "e03e340a-6150-408b-9a12-0f6674ddcddc"
      },
      "source": [
        "s = tf.constant([[[1, 2, 3], [4, 5, 6]], [[7, 8, 9], [10, 11, 12]]])\n",
        "s\n"
      ],
      "execution_count": 31,
      "outputs": [
        {
          "output_type": "execute_result",
          "data": {
            "text/plain": [
              "<tf.Tensor: shape=(2, 2, 3), dtype=int32, numpy=\n",
              "array([[[ 1,  2,  3],\n",
              "        [ 4,  5,  6]],\n",
              "\n",
              "       [[ 7,  8,  9],\n",
              "        [10, 11, 12]]], dtype=int32)>"
            ]
          },
          "metadata": {
            "tags": []
          },
          "execution_count": 31
        }
      ]
    },
    {
      "cell_type": "code",
      "metadata": {
        "colab": {
          "base_uri": "https://localhost:8080/"
        },
        "id": "V50PslC7OEJd",
        "outputId": "38bb8b54-bef4-45a1-93cc-6e8ec0dd299f"
      },
      "source": [
        "tf.transpose(s)"
      ],
      "execution_count": 32,
      "outputs": [
        {
          "output_type": "execute_result",
          "data": {
            "text/plain": [
              "<tf.Tensor: shape=(3, 2, 2), dtype=int32, numpy=\n",
              "array([[[ 1,  7],\n",
              "        [ 4, 10]],\n",
              "\n",
              "       [[ 2,  8],\n",
              "        [ 5, 11]],\n",
              "\n",
              "       [[ 3,  9],\n",
              "        [ 6, 12]]], dtype=int32)>"
            ]
          },
          "metadata": {
            "tags": []
          },
          "execution_count": 32
        }
      ]
    },
    {
      "cell_type": "code",
      "metadata": {
        "colab": {
          "base_uri": "https://localhost:8080/"
        },
        "id": "_SlMC_aqPJ2R",
        "outputId": "e52fded1-4ab2-4d54-f8c1-e9b349e64749"
      },
      "source": [
        "y = tf.constant([1.4, 2.5])\n",
        "y.dtype\n",
        "tf.cast(y, dtype = tf.float16)"
      ],
      "execution_count": 33,
      "outputs": [
        {
          "output_type": "execute_result",
          "data": {
            "text/plain": [
              "<tf.Tensor: shape=(2,), dtype=float16, numpy=array([1.4, 2.5], dtype=float16)>"
            ]
          },
          "metadata": {
            "tags": []
          },
          "execution_count": 33
        }
      ]
    },
    {
      "cell_type": "code",
      "metadata": {
        "colab": {
          "base_uri": "https://localhost:8080/"
        },
        "id": "SXvjRd1SR5Yk",
        "outputId": "f03e8a0c-c930-4fa0-ad26-c6fffdf88308"
      },
      "source": [
        "D = tf.constant([-58, -44])\n",
        "tf.abs(D)"
      ],
      "execution_count": 34,
      "outputs": [
        {
          "output_type": "execute_result",
          "data": {
            "text/plain": [
              "<tf.Tensor: shape=(2,), dtype=int32, numpy=array([58, 44], dtype=int32)>"
            ]
          },
          "metadata": {
            "tags": []
          },
          "execution_count": 34
        }
      ]
    },
    {
      "cell_type": "code",
      "metadata": {
        "colab": {
          "base_uri": "https://localhost:8080/"
        },
        "id": "p5qZhBoGTepD",
        "outputId": "6d194174-bae6-40d7-902b-4db71f080257"
      },
      "source": [
        "A = tf.constant([[4, -5],\n",
        "                 [-11, 75]])\n",
        "tf.abs(A)\n",
        "print(tf.reduce_max(A))\n",
        "print(tf.reduce_min(A))\n",
        "print(tf.reduce_sum(A))\n",
        "print(tf.reduce_mean(A))"
      ],
      "execution_count": 35,
      "outputs": [
        {
          "output_type": "stream",
          "text": [
            "tf.Tensor(75, shape=(), dtype=int32)\n",
            "tf.Tensor(-11, shape=(), dtype=int32)\n",
            "tf.Tensor(63, shape=(), dtype=int32)\n",
            "tf.Tensor(15, shape=(), dtype=int32)\n"
          ],
          "name": "stdout"
        }
      ]
    },
    {
      "cell_type": "code",
      "metadata": {
        "colab": {
          "base_uri": "https://localhost:8080/"
        },
        "id": "J4yqeldBVIsa",
        "outputId": "50674039-95be-4bbe-b14e-ae6fb8842b7c"
      },
      "source": [
        "S = tf.random.Generator.from_seed(452)\n",
        "S.normal(shape = (2, 3, 5))"
      ],
      "execution_count": 36,
      "outputs": [
        {
          "output_type": "execute_result",
          "data": {
            "text/plain": [
              "<tf.Tensor: shape=(2, 3, 5), dtype=float32, numpy=\n",
              "array([[[ 0.58248633, -1.3227581 ,  1.2173856 ,  0.75051606,\n",
              "         -1.1586719 ],\n",
              "        [ 0.15267496, -3.0746865 , -1.6406803 ,  0.13963513,\n",
              "         -0.7290472 ],\n",
              "        [-1.3584449 ,  0.6042902 ,  1.8241866 ,  0.16743198,\n",
              "          0.11442922]],\n",
              "\n",
              "       [[ 0.2823798 ,  0.0631539 , -0.68608636, -0.11220581,\n",
              "          2.451337  ],\n",
              "        [-1.2933265 ,  1.8967754 , -0.5769588 ,  0.3737864 ,\n",
              "          0.63057506],\n",
              "        [ 0.8946543 ,  0.16760615,  1.0525804 , -0.18441029,\n",
              "         -0.16581555]]], dtype=float32)>"
            ]
          },
          "metadata": {
            "tags": []
          },
          "execution_count": 36
        }
      ]
    },
    {
      "cell_type": "code",
      "metadata": {
        "colab": {
          "base_uri": "https://localhost:8080/"
        },
        "id": "tmS-y7wAVlRw",
        "outputId": "51ce2400-4371-446b-9f4e-5e17b1f1d63f"
      },
      "source": [
        "import tensorflow_probability as tfp\n",
        "tfp.stats.variance(A)\n",
        "tf.math.reduce_std(tf.cast(A, dtype = tf.float32))"
      ],
      "execution_count": 37,
      "outputs": [
        {
          "output_type": "execute_result",
          "data": {
            "text/plain": [
              "<tf.Tensor: shape=(), dtype=float32, numpy=34.622066>"
            ]
          },
          "metadata": {
            "tags": []
          },
          "execution_count": 37
        }
      ]
    },
    {
      "cell_type": "code",
      "metadata": {
        "colab": {
          "base_uri": "https://localhost:8080/"
        },
        "id": "lfD_8DrbYAm4",
        "outputId": "9363767c-c449-425d-8d37-f402da7d0c4f"
      },
      "source": [
        "tf.argmax(tf.reshape(A, shape = (4,)))\n",
        "tf.reshape(A, shape = (4,))[tf.argmax(tf.reshape(A, shape = (4,)))] "
      ],
      "execution_count": 38,
      "outputs": [
        {
          "output_type": "execute_result",
          "data": {
            "text/plain": [
              "<tf.Tensor: shape=(), dtype=int32, numpy=75>"
            ]
          },
          "metadata": {
            "tags": []
          },
          "execution_count": 38
        }
      ]
    },
    {
      "cell_type": "code",
      "metadata": {
        "colab": {
          "base_uri": "https://localhost:8080/"
        },
        "id": "RgoX-XMSh6py",
        "outputId": "6946df2b-5fd6-4d01-c5de-6a9c519f537f"
      },
      "source": [
        "D = tf.constant(tf.random.uniform(shape = [50]), shape = [1, 1, 1, 50])\n",
        "tf.squeeze(D), tf.squeeze(D).shape"
      ],
      "execution_count": 39,
      "outputs": [
        {
          "output_type": "execute_result",
          "data": {
            "text/plain": [
              "(<tf.Tensor: shape=(50,), dtype=float32, numpy=\n",
              " array([0.48913598, 0.30816448, 0.8261548 , 0.25587916, 0.2993518 ,\n",
              "        0.2643453 , 0.21094537, 0.22731137, 0.01557994, 0.12873471,\n",
              "        0.3316598 , 0.42108238, 0.8701608 , 0.65981686, 0.5743673 ,\n",
              "        0.6854216 , 0.6515837 , 0.19545841, 0.1441735 , 0.9233247 ,\n",
              "        0.42670476, 0.8457639 , 0.3934058 , 0.9006833 , 0.47969007,\n",
              "        0.6867969 , 0.67909396, 0.7238083 , 0.7927431 , 0.47818553,\n",
              "        0.47793758, 0.28856158, 0.69985783, 0.5915674 , 0.01672316,\n",
              "        0.49891758, 0.38331974, 0.6024455 , 0.60487247, 0.51338553,\n",
              "        0.21195805, 0.507064  , 0.27594423, 0.34573162, 0.01471639,\n",
              "        0.47635663, 0.8088087 , 0.08854103, 0.77666366, 0.00165653],\n",
              "       dtype=float32)>, TensorShape([50]))"
            ]
          },
          "metadata": {
            "tags": []
          },
          "execution_count": 39
        }
      ]
    },
    {
      "cell_type": "code",
      "metadata": {
        "colab": {
          "base_uri": "https://localhost:8080/"
        },
        "id": "u6PhYvmPlZDV",
        "outputId": "8d25a9a1-ad7c-4933-d745-0f48c2d01d89"
      },
      "source": [
        "A = tf.constant([0, 1, 2, 3])\n",
        "tf.one_hot(A, depth = 4)"
      ],
      "execution_count": 40,
      "outputs": [
        {
          "output_type": "execute_result",
          "data": {
            "text/plain": [
              "<tf.Tensor: shape=(4, 4), dtype=float32, numpy=\n",
              "array([[1., 0., 0., 0.],\n",
              "       [0., 1., 0., 0.],\n",
              "       [0., 0., 1., 0.],\n",
              "       [0., 0., 0., 1.]], dtype=float32)>"
            ]
          },
          "metadata": {
            "tags": []
          },
          "execution_count": 40
        }
      ]
    },
    {
      "cell_type": "code",
      "metadata": {
        "colab": {
          "base_uri": "https://localhost:8080/"
        },
        "id": "5bVvIcR9-DRm",
        "outputId": "9366d466-f244-4251-b98a-fc482b4db008"
      },
      "source": [
        "H = tf.range(1, 10)\n",
        "tf.square(H)\n",
        "tf.sqrt(tf.cast(H, dtype = tf.float32))"
      ],
      "execution_count": 41,
      "outputs": [
        {
          "output_type": "execute_result",
          "data": {
            "text/plain": [
              "<tf.Tensor: shape=(9,), dtype=float32, numpy=\n",
              "array([0.99999994, 1.4142134 , 1.7320508 , 1.9999999 , 2.236068  ,\n",
              "       2.4494896 , 2.6457512 , 2.8284268 , 3.        ], dtype=float32)>"
            ]
          },
          "metadata": {
            "tags": []
          },
          "execution_count": 41
        }
      ]
    },
    {
      "cell_type": "code",
      "metadata": {
        "colab": {
          "base_uri": "https://localhost:8080/"
        },
        "id": "DQ_OelcZ-wDa",
        "outputId": "e17639d3-45a1-4c33-a89a-b166194962aa"
      },
      "source": [
        "tf.math.log(tf.cast(H, dtype = tf.float32))"
      ],
      "execution_count": 42,
      "outputs": [
        {
          "output_type": "execute_result",
          "data": {
            "text/plain": [
              "<tf.Tensor: shape=(9,), dtype=float32, numpy=\n",
              "array([0.       , 0.6931472, 1.0986123, 1.3862944, 1.609438 , 1.7917595,\n",
              "       1.9459102, 2.0794415, 2.1972246], dtype=float32)>"
            ]
          },
          "metadata": {
            "tags": []
          },
          "execution_count": 42
        }
      ]
    },
    {
      "cell_type": "code",
      "metadata": {
        "colab": {
          "base_uri": "https://localhost:8080/"
        },
        "id": "CgHeYMDx-3K2",
        "outputId": "e6c20578-f6e4-461b-cc17-fa9664c8fc85"
      },
      "source": [
        "G = tf.constant(np.array([1, 2, 3, 4]))\n",
        "G\n",
        "type(np.array(G))"
      ],
      "execution_count": 43,
      "outputs": [
        {
          "output_type": "execute_result",
          "data": {
            "text/plain": [
              "numpy.ndarray"
            ]
          },
          "metadata": {
            "tags": []
          },
          "execution_count": 43
        }
      ]
    },
    {
      "cell_type": "code",
      "metadata": {
        "colab": {
          "base_uri": "https://localhost:8080/"
        },
        "id": "muPd831kEpZD",
        "outputId": "bf07222a-53a5-4610-b139-dfa16d39e657"
      },
      "source": [
        "W = tf.constant([[1, 5], [6, 6]])\n",
        "tf.shape(W)"
      ],
      "execution_count": 47,
      "outputs": [
        {
          "output_type": "execute_result",
          "data": {
            "text/plain": [
              "<tf.Tensor: shape=(2,), dtype=int32, numpy=array([2, 2], dtype=int32)>"
            ]
          },
          "metadata": {
            "tags": []
          },
          "execution_count": 47
        }
      ]
    },
    {
      "cell_type": "code",
      "metadata": {
        "colab": {
          "base_uri": "https://localhost:8080/"
        },
        "id": "F8zbq7JScoYW",
        "outputId": "de5ed33e-903b-4fcf-921d-e24ef0dba083"
      },
      "source": [
        "W.ndim, tf.size(W)\n",
        "W"
      ],
      "execution_count": 51,
      "outputs": [
        {
          "output_type": "execute_result",
          "data": {
            "text/plain": [
              "<tf.Tensor: shape=(2, 2), dtype=int32, numpy=\n",
              "array([[1, 5],\n",
              "       [6, 6]], dtype=int32)>"
            ]
          },
          "metadata": {
            "tags": []
          },
          "execution_count": 51
        }
      ]
    },
    {
      "cell_type": "code",
      "metadata": {
        "colab": {
          "base_uri": "https://localhost:8080/"
        },
        "id": "hHSaZM6ddQLb",
        "outputId": "00308283-b3df-4188-8d53-031b2871aa5e"
      },
      "source": [
        "tf.reshape(W, shape = (4, 1))"
      ],
      "execution_count": 52,
      "outputs": [
        {
          "output_type": "execute_result",
          "data": {
            "text/plain": [
              "<tf.Tensor: shape=(4, 1), dtype=int32, numpy=\n",
              "array([[1],\n",
              "       [5],\n",
              "       [6],\n",
              "       [6]], dtype=int32)>"
            ]
          },
          "metadata": {
            "tags": []
          },
          "execution_count": 52
        }
      ]
    },
    {
      "cell_type": "code",
      "metadata": {
        "id": "926k7Xj9dcCU"
      },
      "source": [
        ""
      ],
      "execution_count": null,
      "outputs": []
    }
  ]
}
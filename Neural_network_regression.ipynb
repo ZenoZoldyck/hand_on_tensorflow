{
  "nbformat": 4,
  "nbformat_minor": 0,
  "metadata": {
    "colab": {
      "name": "Neural_network_regression.ipynb",
      "provenance": [],
      "collapsed_sections": [],
      "authorship_tag": "ABX9TyNJqPPMn8Uy0wmHav1IZFiM",
      "include_colab_link": true
    },
    "kernelspec": {
      "name": "python3",
      "display_name": "Python 3"
    },
    "language_info": {
      "name": "python"
    }
  },
  "cells": [
    {
      "cell_type": "markdown",
      "metadata": {
        "id": "view-in-github",
        "colab_type": "text"
      },
      "source": [
        "<a href=\"https://colab.research.google.com/github/ZenoZoldyck/hand_on_tensorflow/blob/main/Neural_network_regression.ipynb\" target=\"_parent\"><img src=\"https://colab.research.google.com/assets/colab-badge.svg\" alt=\"Open In Colab\"/></a>"
      ]
    },
    {
      "cell_type": "code",
      "metadata": {
        "colab": {
          "base_uri": "https://localhost:8080/",
          "height": 35
        },
        "id": "wZHo87nNl3w-",
        "outputId": "0b048305-d6d4-41f4-cf33-30ac177d1424"
      },
      "source": [
        "import tensorflow as tf\n",
        "tf.__version__"
      ],
      "execution_count": 1,
      "outputs": [
        {
          "output_type": "execute_result",
          "data": {
            "application/vnd.google.colaboratory.intrinsic+json": {
              "type": "string"
            },
            "text/plain": [
              "'2.4.1'"
            ]
          },
          "metadata": {
            "tags": []
          },
          "execution_count": 1
        }
      ]
    },
    {
      "cell_type": "code",
      "metadata": {
        "colab": {
          "base_uri": "https://localhost:8080/",
          "height": 286
        },
        "id": "YOtvRLG4nNdE",
        "outputId": "4fa350f3-3db0-452a-ec05-f2b836ec3462"
      },
      "source": [
        "import numpy as np\n",
        "import matplotlib.pyplot as plt\n",
        "X =np.array([-7.0, -4.0, -1.0, 2, 5, 8, 11, 14])\n",
        "y = np.array([3.0, 6.0, 9.0, 12, 15, 18, 21, 24])\n",
        "plt.scatter(X, y)"
      ],
      "execution_count": 2,
      "outputs": [
        {
          "output_type": "execute_result",
          "data": {
            "text/plain": [
              "<matplotlib.collections.PathCollection at 0x7f2428a35550>"
            ]
          },
          "metadata": {
            "tags": []
          },
          "execution_count": 2
        },
        {
          "output_type": "display_data",
          "data": {
            "image/png": "[encoded data removed]",
            "text/plain": [
              "<Figure size 432x288 with 1 Axes>"
            ]
          },
          "metadata": {
            "tags": [],
            "needs_background": "light"
          }
        }
      ]
    },
    {
      "cell_type": "code",
      "metadata": {
        "colab": {
          "base_uri": "https://localhost:8080/"
        },
        "id": "M_4qYEvbwAOa",
        "outputId": "4c9f9acb-1750-4c67-c726-8e9a6a15ac9d"
      },
      "source": [
        "y == X + 10"
      ],
      "execution_count": 3,
      "outputs": [
        {
          "output_type": "execute_result",
          "data": {
            "text/plain": [
              "array([ True,  True,  True,  True,  True,  True,  True,  True])"
            ]
          },
          "metadata": {
            "tags": []
          },
          "execution_count": 3
        }
      ]
    },
    {
      "cell_type": "code",
      "metadata": {
        "colab": {
          "base_uri": "https://localhost:8080/"
        },
        "id": "EJA4ccVtwP2U",
        "outputId": "e918b706-369b-478f-babf-b63ff0e5f0d8"
      },
      "source": [
        "X.shape, y.shape"
      ],
      "execution_count": 4,
      "outputs": [
        {
          "output_type": "execute_result",
          "data": {
            "text/plain": [
              "((8,), (8,))"
            ]
          },
          "metadata": {
            "tags": []
          },
          "execution_count": 4
        }
      ]
    },
    {
      "cell_type": "code",
      "metadata": {
        "colab": {
          "base_uri": "https://localhost:8080/"
        },
        "id": "5lOu6lOiwV6G",
        "outputId": "a6784588-a84f-4986-9510-bcf3ff606fbd"
      },
      "source": [
        "# convert numpy to tensors\n",
        "X = tf.constant(X)\n",
        "y = tf.constant(y)\n",
        "X, y"
      ],
      "execution_count": 5,
      "outputs": [
        {
          "output_type": "execute_result",
          "data": {
            "text/plain": [
              "(<tf.Tensor: shape=(8,), dtype=float64, numpy=array([-7., -4., -1.,  2.,  5.,  8., 11., 14.])>,\n",
              " <tf.Tensor: shape=(8,), dtype=float64, numpy=array([ 3.,  6.,  9., 12., 15., 18., 21., 24.])>)"
            ]
          },
          "metadata": {
            "tags": []
          },
          "execution_count": 5
        }
      ]
    },
    {
      "cell_type": "code",
      "metadata": {
        "id": "s6GwgXMcyEOP"
      },
      "source": [
        ""
      ],
      "execution_count": null,
      "outputs": []
    },
    {
      "cell_type": "markdown",
      "metadata": {
        "id": "dPNSLMmJym9q"
      },
      "source": [
        "### Definig a model\n",
        "1. select input and output and the number of hidden layers and the number of neurons in them\n",
        "2. loss function and an optimizer\n",
        "3. Fitting a model"
      ]
    },
    {
      "cell_type": "code",
      "metadata": {
        "colab": {
          "base_uri": "https://localhost:8080/"
        },
        "id": "8HiMYiqgy_Mt",
        "outputId": "fb4fe5d4-1b75-44c7-f2a9-6bf992ad3469"
      },
      "source": [
        "tf.random.set_seed(45)\n",
        "\n",
        "model = tf.keras.Sequential([\n",
        "   tf.keras.layers.Dense(1)                    \n",
        "])\n",
        "\n",
        "# 1 shows that we have 1 input in thye model\n",
        "model.compile(loss = tf.keras.losses.mae, optimizer = tf.keras.optimizers.SGD(),\n",
        "              metrics = [\"mae\"])\n",
        "\n",
        "model.fit(X, y, epochs = 5)\n"
      ],
      "execution_count": 6,
      "outputs": [
        {
          "output_type": "stream",
          "text": [
            "Epoch 1/5\n",
            "1/1 [==============================] - 0s 496ms/step - loss: 13.6317 - mae: 13.6317\n",
            "Epoch 2/5\n",
            "1/1 [==============================] - 0s 3ms/step - loss: 13.4992 - mae: 13.4992\n",
            "Epoch 3/5\n",
            "1/1 [==============================] - 0s 3ms/step - loss: 13.3667 - mae: 13.3667\n",
            "Epoch 4/5\n",
            "1/1 [==============================] - 0s 5ms/step - loss: 13.2342 - mae: 13.2342\n",
            "Epoch 5/5\n",
            "1/1 [==============================] - 0s 3ms/step - loss: 13.1017 - mae: 13.1017\n"
          ],
          "name": "stdout"
        },
        {
          "output_type": "execute_result",
          "data": {
            "text/plain": [
              "<tensorflow.python.keras.callbacks.History at 0x7f2423978690>"
            ]
          },
          "metadata": {
            "tags": []
          },
          "execution_count": 6
        }
      ]
    },
    {
      "cell_type": "code",
      "metadata": {
        "colab": {
          "base_uri": "https://localhost:8080/"
        },
        "id": "AQJlwoka7frK",
        "outputId": "435e95a9-158d-4a79-fb00-c58e761a4d6d"
      },
      "source": [
        "model.predict([17])"
      ],
      "execution_count": 7,
      "outputs": [
        {
          "output_type": "execute_result",
          "data": {
            "text/plain": [
              "array([[2.3852217]], dtype=float32)"
            ]
          },
          "metadata": {
            "tags": []
          },
          "execution_count": 7
        }
      ]
    },
    {
      "cell_type": "code",
      "metadata": {
        "colab": {
          "base_uri": "https://localhost:8080/"
        },
        "id": "kxLQTQIh73gF",
        "outputId": "69826b49-1696-483e-c889-7bec5a619c2e"
      },
      "source": [
        "# Increase the number of epochs to improve the performance\n",
        "\n",
        "model = tf.keras.Sequential([\n",
        "    tf.keras.layers.Dense(1)                         \n",
        "])\n",
        "\n",
        "model.compile(loss = tf.keras.losses.mae,\n",
        "              optimizer = tf.keras.optimizers.SGD(),\n",
        "              metrics = [\"mae\"])\n",
        "\n",
        "model.fit(X, y, epochs = 100)"
      ],
      "execution_count": 8,
      "outputs": [
        {
          "output_type": "stream",
          "text": [
            "Epoch 1/100\n",
            "1/1 [==============================] - 0s 249ms/step - loss: 14.2415 - mae: 14.2415\n",
            "Epoch 2/100\n",
            "1/1 [==============================] - 0s 5ms/step - loss: 14.1090 - mae: 14.1090\n",
            "Epoch 3/100\n",
            "1/1 [==============================] - 0s 5ms/step - loss: 13.9765 - mae: 13.9765\n",
            "Epoch 4/100\n",
            "1/1 [==============================] - 0s 4ms/step - loss: 13.8440 - mae: 13.8440\n",
            "Epoch 5/100\n",
            "1/1 [==============================] - 0s 4ms/step - loss: 13.7115 - mae: 13.7115\n",
            "Epoch 6/100\n",
            "1/1 [==============================] - 0s 4ms/step - loss: 13.5790 - mae: 13.5790\n",
            "Epoch 7/100\n",
            "1/1 [==============================] - 0s 6ms/step - loss: 13.4465 - mae: 13.4465\n",
            "Epoch 8/100\n",
            "1/1 [==============================] - 0s 5ms/step - loss: 13.3140 - mae: 13.3140\n",
            "Epoch 9/100\n",
            "1/1 [==============================] - 0s 7ms/step - loss: 13.1815 - mae: 13.1815\n",
            "Epoch 10/100\n",
            "1/1 [==============================] - 0s 7ms/step - loss: 13.0490 - mae: 13.0490\n",
            "Epoch 11/100\n",
            "1/1 [==============================] - 0s 7ms/step - loss: 12.9165 - mae: 12.9165\n",
            "Epoch 12/100\n",
            "1/1 [==============================] - 0s 7ms/step - loss: 12.7840 - mae: 12.7840\n",
            "Epoch 13/100\n",
            "1/1 [==============================] - 0s 4ms/step - loss: 12.6515 - mae: 12.6515\n",
            "Epoch 14/100\n",
            "1/1 [==============================] - 0s 4ms/step - loss: 12.5190 - mae: 12.5190\n",
            "Epoch 15/100\n",
            "1/1 [==============================] - 0s 4ms/step - loss: 12.3865 - mae: 12.3865\n",
            "Epoch 16/100\n",
            "1/1 [==============================] - 0s 5ms/step - loss: 12.2540 - mae: 12.2540\n",
            "Epoch 17/100\n",
            "1/1 [==============================] - 0s 6ms/step - loss: 12.1215 - mae: 12.1215\n",
            "Epoch 18/100\n",
            "1/1 [==============================] - 0s 8ms/step - loss: 11.9890 - mae: 11.9890\n",
            "Epoch 19/100\n",
            "1/1 [==============================] - 0s 4ms/step - loss: 11.8565 - mae: 11.8565\n",
            "Epoch 20/100\n",
            "1/1 [==============================] - 0s 3ms/step - loss: 11.7240 - mae: 11.7240\n",
            "Epoch 21/100\n",
            "1/1 [==============================] - 0s 4ms/step - loss: 11.5915 - mae: 11.5915\n",
            "Epoch 22/100\n",
            "1/1 [==============================] - 0s 4ms/step - loss: 11.4590 - mae: 11.4590\n",
            "Epoch 23/100\n",
            "1/1 [==============================] - 0s 3ms/step - loss: 11.3265 - mae: 11.3265\n",
            "Epoch 24/100\n",
            "1/1 [==============================] - 0s 4ms/step - loss: 11.1940 - mae: 11.1940\n",
            "Epoch 25/100\n",
            "1/1 [==============================] - 0s 4ms/step - loss: 11.0615 - mae: 11.0615\n",
            "Epoch 26/100\n",
            "1/1 [==============================] - 0s 4ms/step - loss: 10.9290 - mae: 10.9290\n",
            "Epoch 27/100\n",
            "1/1 [==============================] - 0s 4ms/step - loss: 10.7965 - mae: 10.7965\n",
            "Epoch 28/100\n",
            "1/1 [==============================] - 0s 5ms/step - loss: 10.6640 - mae: 10.6640\n",
            "Epoch 29/100\n",
            "1/1 [==============================] - 0s 4ms/step - loss: 10.5315 - mae: 10.5315\n",
            "Epoch 30/100\n",
            "1/1 [==============================] - 0s 4ms/step - loss: 10.3990 - mae: 10.3990\n",
            "Epoch 31/100\n",
            "1/1 [==============================] - 0s 4ms/step - loss: 10.2665 - mae: 10.2665\n",
            "Epoch 32/100\n",
            "1/1 [==============================] - 0s 4ms/step - loss: 10.1340 - mae: 10.1340\n",
            "Epoch 33/100\n",
            "1/1 [==============================] - 0s 4ms/step - loss: 10.0015 - mae: 10.0015\n",
            "Epoch 34/100\n",
            "1/1 [==============================] - 0s 5ms/step - loss: 9.8690 - mae: 9.8690\n",
            "Epoch 35/100\n",
            "1/1 [==============================] - 0s 4ms/step - loss: 9.7365 - mae: 9.7365\n",
            "Epoch 36/100\n",
            "1/1 [==============================] - 0s 4ms/step - loss: 9.6040 - mae: 9.6040\n",
            "Epoch 37/100\n",
            "1/1 [==============================] - 0s 5ms/step - loss: 9.4715 - mae: 9.4715\n",
            "Epoch 38/100\n",
            "1/1 [==============================] - 0s 5ms/step - loss: 9.3390 - mae: 9.3390\n",
            "Epoch 39/100\n",
            "1/1 [==============================] - 0s 5ms/step - loss: 9.2065 - mae: 9.2065\n",
            "Epoch 40/100\n",
            "1/1 [==============================] - 0s 9ms/step - loss: 9.0740 - mae: 9.0740\n",
            "Epoch 41/100\n",
            "1/1 [==============================] - 0s 16ms/step - loss: 8.9415 - mae: 8.9415\n",
            "Epoch 42/100\n",
            "1/1 [==============================] - 0s 4ms/step - loss: 8.8090 - mae: 8.8090\n",
            "Epoch 43/100\n",
            "1/1 [==============================] - 0s 3ms/step - loss: 8.6765 - mae: 8.6765\n",
            "Epoch 44/100\n",
            "1/1 [==============================] - 0s 4ms/step - loss: 8.5440 - mae: 8.5440\n",
            "Epoch 45/100\n",
            "1/1 [==============================] - 0s 6ms/step - loss: 8.4115 - mae: 8.4115\n",
            "Epoch 46/100\n",
            "1/1 [==============================] - 0s 5ms/step - loss: 8.2790 - mae: 8.2790\n",
            "Epoch 47/100\n",
            "1/1 [==============================] - 0s 4ms/step - loss: 8.1465 - mae: 8.1465\n",
            "Epoch 48/100\n",
            "1/1 [==============================] - 0s 6ms/step - loss: 8.0140 - mae: 8.0140\n",
            "Epoch 49/100\n",
            "1/1 [==============================] - 0s 4ms/step - loss: 7.8815 - mae: 7.8815\n",
            "Epoch 50/100\n",
            "1/1 [==============================] - 0s 7ms/step - loss: 7.7490 - mae: 7.7490\n",
            "Epoch 51/100\n",
            "1/1 [==============================] - 0s 4ms/step - loss: 7.6165 - mae: 7.6165\n",
            "Epoch 52/100\n",
            "1/1 [==============================] - 0s 6ms/step - loss: 7.4840 - mae: 7.4840\n",
            "Epoch 53/100\n",
            "1/1 [==============================] - 0s 4ms/step - loss: 7.3515 - mae: 7.3515\n",
            "Epoch 54/100\n",
            "1/1 [==============================] - 0s 5ms/step - loss: 7.2190 - mae: 7.2190\n",
            "Epoch 55/100\n",
            "1/1 [==============================] - 0s 5ms/step - loss: 7.0950 - mae: 7.0950\n",
            "Epoch 56/100\n",
            "1/1 [==============================] - 0s 6ms/step - loss: 7.0894 - mae: 7.0894\n",
            "Epoch 57/100\n",
            "1/1 [==============================] - 0s 4ms/step - loss: 7.0838 - mae: 7.0838\n",
            "Epoch 58/100\n",
            "1/1 [==============================] - 0s 5ms/step - loss: 7.0781 - mae: 7.0781\n",
            "Epoch 59/100\n",
            "1/1 [==============================] - 0s 6ms/step - loss: 7.0725 - mae: 7.0725\n",
            "Epoch 60/100\n",
            "1/1 [==============================] - 0s 6ms/step - loss: 7.0669 - mae: 7.0669\n",
            "Epoch 61/100\n",
            "1/1 [==============================] - 0s 4ms/step - loss: 7.0613 - mae: 7.0613\n",
            "Epoch 62/100\n",
            "1/1 [==============================] - 0s 3ms/step - loss: 7.0556 - mae: 7.0556\n",
            "Epoch 63/100\n",
            "1/1 [==============================] - 0s 4ms/step - loss: 7.0500 - mae: 7.0500\n",
            "Epoch 64/100\n",
            "1/1 [==============================] - 0s 5ms/step - loss: 7.0444 - mae: 7.0444\n",
            "Epoch 65/100\n",
            "1/1 [==============================] - 0s 5ms/step - loss: 7.0388 - mae: 7.0388\n",
            "Epoch 66/100\n",
            "1/1 [==============================] - 0s 4ms/step - loss: 7.0331 - mae: 7.0331\n",
            "Epoch 67/100\n",
            "1/1 [==============================] - 0s 6ms/step - loss: 7.0275 - mae: 7.0275\n",
            "Epoch 68/100\n",
            "1/1 [==============================] - 0s 3ms/step - loss: 7.0219 - mae: 7.0219\n",
            "Epoch 69/100\n",
            "1/1 [==============================] - 0s 5ms/step - loss: 7.0163 - mae: 7.0163\n",
            "Epoch 70/100\n",
            "1/1 [==============================] - 0s 4ms/step - loss: 7.0106 - mae: 7.0106\n",
            "Epoch 71/100\n",
            "1/1 [==============================] - 0s 5ms/step - loss: 7.0050 - mae: 7.0050\n",
            "Epoch 72/100\n",
            "1/1 [==============================] - 0s 5ms/step - loss: 6.9994 - mae: 6.9994\n",
            "Epoch 73/100\n",
            "1/1 [==============================] - 0s 5ms/step - loss: 6.9938 - mae: 6.9938\n",
            "Epoch 74/100\n",
            "1/1 [==============================] - 0s 5ms/step - loss: 6.9881 - mae: 6.9881\n",
            "Epoch 75/100\n",
            "1/1 [==============================] - 0s 6ms/step - loss: 6.9825 - mae: 6.9825\n",
            "Epoch 76/100\n",
            "1/1 [==============================] - 0s 4ms/step - loss: 6.9769 - mae: 6.9769\n",
            "Epoch 77/100\n",
            "1/1 [==============================] - 0s 3ms/step - loss: 6.9713 - mae: 6.9713\n",
            "Epoch 78/100\n",
            "1/1 [==============================] - 0s 7ms/step - loss: 6.9656 - mae: 6.9656\n",
            "Epoch 79/100\n",
            "1/1 [==============================] - 0s 8ms/step - loss: 6.9600 - mae: 6.9600\n",
            "Epoch 80/100\n",
            "1/1 [==============================] - 0s 10ms/step - loss: 6.9544 - mae: 6.9544\n",
            "Epoch 81/100\n",
            "1/1 [==============================] - 0s 5ms/step - loss: 6.9488 - mae: 6.9488\n",
            "Epoch 82/100\n",
            "1/1 [==============================] - 0s 11ms/step - loss: 6.9431 - mae: 6.9431\n",
            "Epoch 83/100\n",
            "1/1 [==============================] - 0s 4ms/step - loss: 6.9375 - mae: 6.9375\n",
            "Epoch 84/100\n",
            "1/1 [==============================] - 0s 6ms/step - loss: 6.9319 - mae: 6.9319\n",
            "Epoch 85/100\n",
            "1/1 [==============================] - 0s 5ms/step - loss: 6.9263 - mae: 6.9263\n",
            "Epoch 86/100\n",
            "1/1 [==============================] - 0s 6ms/step - loss: 6.9206 - mae: 6.9206\n",
            "Epoch 87/100\n",
            "1/1 [==============================] - 0s 23ms/step - loss: 6.9150 - mae: 6.9150\n",
            "Epoch 88/100\n",
            "1/1 [==============================] - 0s 6ms/step - loss: 6.9094 - mae: 6.9094\n",
            "Epoch 89/100\n",
            "1/1 [==============================] - 0s 6ms/step - loss: 6.9038 - mae: 6.9038\n",
            "Epoch 90/100\n",
            "1/1 [==============================] - 0s 9ms/step - loss: 6.8981 - mae: 6.8981\n",
            "Epoch 91/100\n",
            "1/1 [==============================] - 0s 6ms/step - loss: 6.8925 - mae: 6.8925\n",
            "Epoch 92/100\n",
            "1/1 [==============================] - 0s 5ms/step - loss: 6.8869 - mae: 6.8869\n",
            "Epoch 93/100\n",
            "1/1 [==============================] - 0s 4ms/step - loss: 6.8813 - mae: 6.8813\n",
            "Epoch 94/100\n",
            "1/1 [==============================] - 0s 5ms/step - loss: 6.8756 - mae: 6.8756\n",
            "Epoch 95/100\n",
            "1/1 [==============================] - 0s 3ms/step - loss: 6.8700 - mae: 6.8700\n",
            "Epoch 96/100\n",
            "1/1 [==============================] - 0s 6ms/step - loss: 6.8644 - mae: 6.8644\n",
            "Epoch 97/100\n",
            "1/1 [==============================] - 0s 7ms/step - loss: 6.8588 - mae: 6.8588\n",
            "Epoch 98/100\n",
            "1/1 [==============================] - 0s 4ms/step - loss: 6.8531 - mae: 6.8531\n",
            "Epoch 99/100\n",
            "1/1 [==============================] - 0s 8ms/step - loss: 6.8475 - mae: 6.8475\n",
            "Epoch 100/100\n",
            "1/1 [==============================] - 0s 5ms/step - loss: 6.8419 - mae: 6.8419\n"
          ],
          "name": "stdout"
        },
        {
          "output_type": "execute_result",
          "data": {
            "text/plain": [
              "<tensorflow.python.keras.callbacks.History at 0x7f24212b6f90>"
            ]
          },
          "metadata": {
            "tags": []
          },
          "execution_count": 8
        }
      ]
    },
    {
      "cell_type": "code",
      "metadata": {
        "colab": {
          "base_uri": "https://localhost:8080/"
        },
        "id": "PGOMW4ZB9zQn",
        "outputId": "a14f321d-8bed-41ec-93bd-8fef07c630c2"
      },
      "source": [
        "model.predict([17, 20])"
      ],
      "execution_count": 9,
      "outputs": [
        {
          "output_type": "execute_result",
          "data": {
            "text/plain": [
              "array([[29.413242],\n",
              "       [34.447636]], dtype=float32)"
            ]
          },
          "metadata": {
            "tags": []
          },
          "execution_count": 9
        }
      ]
    },
    {
      "cell_type": "code",
      "metadata": {
        "colab": {
          "base_uri": "https://localhost:8080/"
        },
        "id": "YmkzPcDu95b6",
        "outputId": "b051cfae-74a9-437e-9ce4-0cec1b3170dd"
      },
      "source": [
        "# extra layer added and optimizer is changed\n",
        "\n",
        "model = tf.keras.Sequential([\n",
        "    tf.keras.layers.Dense(50, activation = \"relu\"),\n",
        "    tf.keras.layers.Dense(1)                         \n",
        "])\n",
        "\n",
        "model.compile(loss = tf.keras.losses.mae,\n",
        "              optimizer = tf.keras.optimizers.Adam(lr = 0.01),\n",
        "              metrics = [\"mae\"])\n",
        "\n",
        "model.fit(X, y, epochs = 100)"
      ],
      "execution_count": 14,
      "outputs": [
        {
          "output_type": "stream",
          "text": [
            "Epoch 1/100\n",
            "1/1 [==============================] - 0s 314ms/step - loss: 13.4017 - mae: 13.4017\n",
            "Epoch 2/100\n",
            "1/1 [==============================] - 0s 5ms/step - loss: 12.7303 - mae: 12.7303\n",
            "Epoch 3/100\n",
            "1/1 [==============================] - 0s 4ms/step - loss: 12.0497 - mae: 12.0497\n",
            "Epoch 4/100\n",
            "1/1 [==============================] - 0s 11ms/step - loss: 11.3629 - mae: 11.3629\n",
            "Epoch 5/100\n",
            "1/1 [==============================] - 0s 12ms/step - loss: 10.6673 - mae: 10.6673\n",
            "Epoch 6/100\n",
            "1/1 [==============================] - 0s 9ms/step - loss: 9.9653 - mae: 9.9653\n",
            "Epoch 7/100\n",
            "1/1 [==============================] - 0s 4ms/step - loss: 9.2442 - mae: 9.2442\n",
            "Epoch 8/100\n",
            "1/1 [==============================] - 0s 4ms/step - loss: 8.5081 - mae: 8.5081\n",
            "Epoch 9/100\n",
            "1/1 [==============================] - 0s 5ms/step - loss: 7.7688 - mae: 7.7688\n",
            "Epoch 10/100\n",
            "1/1 [==============================] - 0s 5ms/step - loss: 7.0816 - mae: 7.0816\n",
            "Epoch 11/100\n",
            "1/1 [==============================] - 0s 3ms/step - loss: 6.4336 - mae: 6.4336\n",
            "Epoch 12/100\n",
            "1/1 [==============================] - 0s 4ms/step - loss: 5.7685 - mae: 5.7685\n",
            "Epoch 13/100\n",
            "1/1 [==============================] - 0s 3ms/step - loss: 5.0810 - mae: 5.0810\n",
            "Epoch 14/100\n",
            "1/1 [==============================] - 0s 5ms/step - loss: 4.3726 - mae: 4.3726\n",
            "Epoch 15/100\n",
            "1/1 [==============================] - 0s 3ms/step - loss: 3.8848 - mae: 3.8848\n",
            "Epoch 16/100\n",
            "1/1 [==============================] - 0s 4ms/step - loss: 3.7533 - mae: 3.7533\n",
            "Epoch 17/100\n",
            "1/1 [==============================] - 0s 5ms/step - loss: 3.8858 - mae: 3.8858\n",
            "Epoch 18/100\n",
            "1/1 [==============================] - 0s 4ms/step - loss: 3.9977 - mae: 3.9977\n",
            "Epoch 19/100\n",
            "1/1 [==============================] - 0s 3ms/step - loss: 4.2232 - mae: 4.2232\n",
            "Epoch 20/100\n",
            "1/1 [==============================] - 0s 7ms/step - loss: 4.4169 - mae: 4.4169\n",
            "Epoch 21/100\n",
            "1/1 [==============================] - 0s 3ms/step - loss: 4.5300 - mae: 4.5300\n",
            "Epoch 22/100\n",
            "1/1 [==============================] - 0s 3ms/step - loss: 4.5712 - mae: 4.5712\n",
            "Epoch 23/100\n",
            "1/1 [==============================] - 0s 6ms/step - loss: 4.5494 - mae: 4.5494\n",
            "Epoch 24/100\n",
            "1/1 [==============================] - 0s 3ms/step - loss: 4.4733 - mae: 4.4733\n",
            "Epoch 25/100\n",
            "1/1 [==============================] - 0s 5ms/step - loss: 4.3508 - mae: 4.3508\n",
            "Epoch 26/100\n",
            "1/1 [==============================] - 0s 5ms/step - loss: 4.1889 - mae: 4.1889\n",
            "Epoch 27/100\n",
            "1/1 [==============================] - 0s 4ms/step - loss: 3.9937 - mae: 3.9937\n",
            "Epoch 28/100\n",
            "1/1 [==============================] - 0s 4ms/step - loss: 3.8492 - mae: 3.8492\n",
            "Epoch 29/100\n",
            "1/1 [==============================] - 0s 5ms/step - loss: 3.7617 - mae: 3.7617\n",
            "Epoch 30/100\n",
            "1/1 [==============================] - 0s 5ms/step - loss: 3.6751 - mae: 3.6751\n",
            "Epoch 31/100\n",
            "1/1 [==============================] - 0s 5ms/step - loss: 3.5893 - mae: 3.5893\n",
            "Epoch 32/100\n",
            "1/1 [==============================] - 0s 4ms/step - loss: 3.5128 - mae: 3.5128\n",
            "Epoch 33/100\n",
            "1/1 [==============================] - 0s 6ms/step - loss: 3.5701 - mae: 3.5701\n",
            "Epoch 34/100\n",
            "1/1 [==============================] - 0s 6ms/step - loss: 3.6054 - mae: 3.6054\n",
            "Epoch 35/100\n",
            "1/1 [==============================] - 0s 4ms/step - loss: 3.6211 - mae: 3.6211\n",
            "Epoch 36/100\n",
            "1/1 [==============================] - 0s 7ms/step - loss: 3.6194 - mae: 3.6194\n",
            "Epoch 37/100\n",
            "1/1 [==============================] - 0s 6ms/step - loss: 3.6019 - mae: 3.6019\n",
            "Epoch 38/100\n",
            "1/1 [==============================] - 0s 4ms/step - loss: 3.5698 - mae: 3.5698\n",
            "Epoch 39/100\n",
            "1/1 [==============================] - 0s 6ms/step - loss: 3.5244 - mae: 3.5244\n",
            "Epoch 40/100\n",
            "1/1 [==============================] - 0s 4ms/step - loss: 3.4670 - mae: 3.4670\n",
            "Epoch 41/100\n",
            "1/1 [==============================] - 0s 5ms/step - loss: 3.3984 - mae: 3.3984\n",
            "Epoch 42/100\n",
            "1/1 [==============================] - 0s 4ms/step - loss: 3.3183 - mae: 3.3183\n",
            "Epoch 43/100\n",
            "1/1 [==============================] - 0s 6ms/step - loss: 3.2270 - mae: 3.2270\n",
            "Epoch 44/100\n",
            "1/1 [==============================] - 0s 7ms/step - loss: 3.2183 - mae: 3.2183\n",
            "Epoch 45/100\n",
            "1/1 [==============================] - 0s 5ms/step - loss: 3.2120 - mae: 3.2120\n",
            "Epoch 46/100\n",
            "1/1 [==============================] - 0s 6ms/step - loss: 3.1943 - mae: 3.1943\n",
            "Epoch 47/100\n",
            "1/1 [==============================] - 0s 6ms/step - loss: 3.1861 - mae: 3.1861\n",
            "Epoch 48/100\n",
            "1/1 [==============================] - 0s 4ms/step - loss: 3.1638 - mae: 3.1638\n",
            "Epoch 49/100\n",
            "1/1 [==============================] - 0s 7ms/step - loss: 3.1017 - mae: 3.1017\n",
            "Epoch 50/100\n",
            "1/1 [==============================] - 0s 4ms/step - loss: 3.0568 - mae: 3.0568\n",
            "Epoch 51/100\n",
            "1/1 [==============================] - 0s 4ms/step - loss: 3.0092 - mae: 3.0092\n",
            "Epoch 52/100\n",
            "1/1 [==============================] - 0s 7ms/step - loss: 2.9600 - mae: 2.9600\n",
            "Epoch 53/100\n",
            "1/1 [==============================] - 0s 3ms/step - loss: 2.9054 - mae: 2.9054\n",
            "Epoch 54/100\n",
            "1/1 [==============================] - 0s 4ms/step - loss: 2.8465 - mae: 2.8465\n",
            "Epoch 55/100\n",
            "1/1 [==============================] - 0s 7ms/step - loss: 2.7799 - mae: 2.7799\n",
            "Epoch 56/100\n",
            "1/1 [==============================] - 0s 4ms/step - loss: 2.7059 - mae: 2.7059\n",
            "Epoch 57/100\n",
            "1/1 [==============================] - 0s 5ms/step - loss: 2.6596 - mae: 2.6596\n",
            "Epoch 58/100\n",
            "1/1 [==============================] - 0s 8ms/step - loss: 2.6292 - mae: 2.6292\n",
            "Epoch 59/100\n",
            "1/1 [==============================] - 0s 7ms/step - loss: 2.5705 - mae: 2.5705\n",
            "Epoch 60/100\n",
            "1/1 [==============================] - 0s 4ms/step - loss: 2.4865 - mae: 2.4865\n",
            "Epoch 61/100\n",
            "1/1 [==============================] - 0s 5ms/step - loss: 2.4503 - mae: 2.4503\n",
            "Epoch 62/100\n",
            "1/1 [==============================] - 0s 6ms/step - loss: 2.4124 - mae: 2.4124\n",
            "Epoch 63/100\n",
            "1/1 [==============================] - 0s 7ms/step - loss: 2.3631 - mae: 2.3631\n",
            "Epoch 64/100\n",
            "1/1 [==============================] - 0s 4ms/step - loss: 2.3038 - mae: 2.3038\n",
            "Epoch 65/100\n",
            "1/1 [==============================] - 0s 4ms/step - loss: 2.2348 - mae: 2.2348\n",
            "Epoch 66/100\n",
            "1/1 [==============================] - 0s 6ms/step - loss: 2.1549 - mae: 2.1549\n",
            "Epoch 67/100\n",
            "1/1 [==============================] - 0s 5ms/step - loss: 2.0653 - mae: 2.0653\n",
            "Epoch 68/100\n",
            "1/1 [==============================] - 0s 4ms/step - loss: 1.9875 - mae: 1.9875\n",
            "Epoch 69/100\n",
            "1/1 [==============================] - 0s 9ms/step - loss: 1.9248 - mae: 1.9248\n",
            "Epoch 70/100\n",
            "1/1 [==============================] - 0s 8ms/step - loss: 1.8266 - mae: 1.8266\n",
            "Epoch 71/100\n",
            "1/1 [==============================] - 0s 4ms/step - loss: 1.7511 - mae: 1.7511\n",
            "Epoch 72/100\n",
            "1/1 [==============================] - 0s 4ms/step - loss: 1.6752 - mae: 1.6752\n",
            "Epoch 73/100\n",
            "1/1 [==============================] - 0s 6ms/step - loss: 1.5788 - mae: 1.5788\n",
            "Epoch 74/100\n",
            "1/1 [==============================] - 0s 4ms/step - loss: 1.4749 - mae: 1.4749\n",
            "Epoch 75/100\n",
            "1/1 [==============================] - 0s 5ms/step - loss: 1.3720 - mae: 1.3720\n",
            "Epoch 76/100\n",
            "1/1 [==============================] - 0s 6ms/step - loss: 1.2586 - mae: 1.2586\n",
            "Epoch 77/100\n",
            "1/1 [==============================] - 0s 7ms/step - loss: 1.1552 - mae: 1.1552\n",
            "Epoch 78/100\n",
            "1/1 [==============================] - 0s 6ms/step - loss: 1.0481 - mae: 1.0481\n",
            "Epoch 79/100\n",
            "1/1 [==============================] - 0s 6ms/step - loss: 0.9425 - mae: 0.9425\n",
            "Epoch 80/100\n",
            "1/1 [==============================] - 0s 6ms/step - loss: 0.8473 - mae: 0.8473\n",
            "Epoch 81/100\n",
            "1/1 [==============================] - 0s 6ms/step - loss: 0.7265 - mae: 0.7265\n",
            "Epoch 82/100\n",
            "1/1 [==============================] - 0s 5ms/step - loss: 0.5973 - mae: 0.5973\n",
            "Epoch 83/100\n",
            "1/1 [==============================] - 0s 7ms/step - loss: 0.4758 - mae: 0.4758\n",
            "Epoch 84/100\n",
            "1/1 [==============================] - 0s 5ms/step - loss: 0.3450 - mae: 0.3450\n",
            "Epoch 85/100\n",
            "1/1 [==============================] - 0s 6ms/step - loss: 0.2255 - mae: 0.2255\n",
            "Epoch 86/100\n",
            "1/1 [==============================] - 0s 9ms/step - loss: 0.2611 - mae: 0.2611\n",
            "Epoch 87/100\n",
            "1/1 [==============================] - 0s 4ms/step - loss: 0.3853 - mae: 0.3853\n",
            "Epoch 88/100\n",
            "1/1 [==============================] - 0s 5ms/step - loss: 0.3189 - mae: 0.3189\n",
            "Epoch 89/100\n",
            "1/1 [==============================] - 0s 12ms/step - loss: 0.4805 - mae: 0.4805\n",
            "Epoch 90/100\n",
            "1/1 [==============================] - 0s 6ms/step - loss: 0.4473 - mae: 0.4473\n",
            "Epoch 91/100\n",
            "1/1 [==============================] - 0s 7ms/step - loss: 0.3490 - mae: 0.3490\n",
            "Epoch 92/100\n",
            "1/1 [==============================] - 0s 4ms/step - loss: 0.4481 - mae: 0.4481\n",
            "Epoch 93/100\n",
            "1/1 [==============================] - 0s 4ms/step - loss: 0.4079 - mae: 0.4079\n",
            "Epoch 94/100\n",
            "1/1 [==============================] - 0s 5ms/step - loss: 0.3360 - mae: 0.3360\n",
            "Epoch 95/100\n",
            "1/1 [==============================] - 0s 6ms/step - loss: 0.4150 - mae: 0.4150\n",
            "Epoch 96/100\n",
            "1/1 [==============================] - 0s 6ms/step - loss: 0.3421 - mae: 0.3421\n",
            "Epoch 97/100\n",
            "1/1 [==============================] - 0s 8ms/step - loss: 0.3928 - mae: 0.3928\n",
            "Epoch 98/100\n",
            "1/1 [==============================] - 0s 3ms/step - loss: 0.4677 - mae: 0.4677\n",
            "Epoch 99/100\n",
            "1/1 [==============================] - 0s 4ms/step - loss: 0.3670 - mae: 0.3670\n",
            "Epoch 100/100\n",
            "1/1 [==============================] - 0s 4ms/step - loss: 0.2379 - mae: 0.2379\n"
          ],
          "name": "stdout"
        },
        {
          "output_type": "execute_result",
          "data": {
            "text/plain": [
              "<tensorflow.python.keras.callbacks.History at 0x7f241e5f13d0>"
            ]
          },
          "metadata": {
            "tags": []
          },
          "execution_count": 14
        }
      ]
    },
    {
      "cell_type": "code",
      "metadata": {
        "colab": {
          "base_uri": "https://localhost:8080/"
        },
        "id": "EO6_sS94B9lO",
        "outputId": "6a019486-87ab-4914-cbff-9f627b9463b4"
      },
      "source": [
        "model.predict([17.0])"
      ],
      "execution_count": 15,
      "outputs": [
        {
          "output_type": "execute_result",
          "data": {
            "text/plain": [
              "array([[27.296547]], dtype=float32)"
            ]
          },
          "metadata": {
            "tags": []
          },
          "execution_count": 15
        }
      ]
    },
    {
      "cell_type": "markdown",
      "metadata": {
        "id": "BJM7hajAJ8GM"
      },
      "source": [
        "### evaluation"
      ]
    },
    {
      "cell_type": "code",
      "metadata": {
        "colab": {
          "base_uri": "https://localhost:8080/"
        },
        "id": "MiH8yxtmKEFU",
        "outputId": "f33037ad-cdb7-4039-f13c-53c7ca390264"
      },
      "source": [
        "X = tf.range(-100, 100, 4)\n",
        "X"
      ],
      "execution_count": 16,
      "outputs": [
        {
          "output_type": "execute_result",
          "data": {
            "text/plain": [
              "<tf.Tensor: shape=(50,), dtype=int32, numpy=\n",
              "array([-100,  -96,  -92,  -88,  -84,  -80,  -76,  -72,  -68,  -64,  -60,\n",
              "        -56,  -52,  -48,  -44,  -40,  -36,  -32,  -28,  -24,  -20,  -16,\n",
              "        -12,   -8,   -4,    0,    4,    8,   12,   16,   20,   24,   28,\n",
              "         32,   36,   40,   44,   48,   52,   56,   60,   64,   68,   72,\n",
              "         76,   80,   84,   88,   92,   96], dtype=int32)>"
            ]
          },
          "metadata": {
            "tags": []
          },
          "execution_count": 16
        }
      ]
    },
    {
      "cell_type": "code",
      "metadata": {
        "colab": {
          "base_uri": "https://localhost:8080/"
        },
        "id": "kIpuAEWPKfc3",
        "outputId": "4ee29ab1-27ec-4df8-f328-c91bd1071ca3"
      },
      "source": [
        "y = X + 10\n",
        "y"
      ],
      "execution_count": 17,
      "outputs": [
        {
          "output_type": "execute_result",
          "data": {
            "text/plain": [
              "<tf.Tensor: shape=(50,), dtype=int32, numpy=\n",
              "array([-90, -86, -82, -78, -74, -70, -66, -62, -58, -54, -50, -46, -42,\n",
              "       -38, -34, -30, -26, -22, -18, -14, -10,  -6,  -2,   2,   6,  10,\n",
              "        14,  18,  22,  26,  30,  34,  38,  42,  46,  50,  54,  58,  62,\n",
              "        66,  70,  74,  78,  82,  86,  90,  94,  98, 102, 106], dtype=int32)>"
            ]
          },
          "metadata": {
            "tags": []
          },
          "execution_count": 17
        }
      ]
    },
    {
      "cell_type": "code",
      "metadata": {
        "colab": {
          "base_uri": "https://localhost:8080/",
          "height": 282
        },
        "id": "_SjGSNPwKjgX",
        "outputId": "f3ba3159-6e21-419f-f31b-f0108d713e5f"
      },
      "source": [
        "plt.plot(X, y)"
      ],
      "execution_count": 18,
      "outputs": [
        {
          "output_type": "execute_result",
          "data": {
            "text/plain": [
              "[<matplotlib.lines.Line2D at 0x7f241d21b310>]"
            ]
          },
          "metadata": {
            "tags": []
          },
          "execution_count": 18
        },
        {
          "output_type": "display_data",
          "data": {
            "image/png": "[encoded data removed]",
            "text/plain": [
              "<Figure size 432x288 with 1 Axes>"
            ]
          },
          "metadata": {
            "tags": [],
            "needs_background": "light"
          }
        }
      ]
    },
    {
      "cell_type": "code",
      "metadata": {
        "colab": {
          "base_uri": "https://localhost:8080/"
        },
        "id": "0DZOQfzUKvGN",
        "outputId": "2900a298-a49d-4856-f6e4-36e22b0b899d"
      },
      "source": [
        "# splitting data into train and test sets\n",
        "\n",
        "X_train = X[0:40]\n",
        "y_train = y[:40]\n",
        "\n",
        "X_test = X[40:]\n",
        "y_test = y[40:]\n",
        "\n",
        "len(X_train), len(X_test)"
      ],
      "execution_count": 24,
      "outputs": [
        {
          "output_type": "execute_result",
          "data": {
            "text/plain": [
              "(40, 10)"
            ]
          },
          "metadata": {
            "tags": []
          },
          "execution_count": 24
        }
      ]
    },
    {
      "cell_type": "code",
      "metadata": {
        "colab": {
          "base_uri": "https://localhost:8080/"
        },
        "id": "lpBWFvY4LY7b",
        "outputId": "9b0cc294-802f-4df4-c7a7-5d25a30a049c"
      },
      "source": [
        "tf.random.set_seed(42)\n",
        "\n",
        "model = tf.keras.Sequential([\n",
        "    tf.keras.layers.Dense(10, input_shape = [1], name = \"input_layer\"),\n",
        "    tf.keras.layers.Dense(1, name = \"output_layers\")                         \n",
        "])\n",
        "\n",
        "model.compile(loss = tf.keras.losses.mae,\n",
        "              optimizer = tf.keras.optimizers.SGD(),\n",
        "              metrics = [\"mae\"])\n",
        "\n",
        "model.summary()\n"
      ],
      "execution_count": 34,
      "outputs": [
        {
          "output_type": "stream",
          "text": [
            "Model: \"sequential_8\"\n",
            "_________________________________________________________________\n",
            "Layer (type)                 Output Shape              Param #   \n",
            "=================================================================\n",
            "input_layer (Dense)          (None, 10)                20        \n",
            "_________________________________________________________________\n",
            "output_layers (Dense)        (None, 1)                 11        \n",
            "=================================================================\n",
            "Total params: 31\n",
            "Trainable params: 31\n",
            "Non-trainable params: 0\n",
            "_________________________________________________________________\n"
          ],
          "name": "stdout"
        }
      ]
    },
    {
      "cell_type": "code",
      "metadata": {
        "colab": {
          "base_uri": "https://localhost:8080/"
        },
        "id": "iyIglp1fZEAv",
        "outputId": "6a70227e-f869-4e19-dd65-d9007680f4b8"
      },
      "source": [
        "model.fit(X_train, y_train, epochs = 100, verbose = 0)"
      ],
      "execution_count": 36,
      "outputs": [
        {
          "output_type": "execute_result",
          "data": {
            "text/plain": [
              "<tensorflow.python.keras.callbacks.History at 0x7f2422ea14d0>"
            ]
          },
          "metadata": {
            "tags": []
          },
          "execution_count": 36
        }
      ]
    },
    {
      "cell_type": "code",
      "metadata": {
        "colab": {
          "base_uri": "https://localhost:8080/",
          "height": 312
        },
        "id": "4vvwnhcKbNGz",
        "outputId": "5fc2a1cc-bf78-401e-f5c5-1f5fe9656b2d"
      },
      "source": [
        "from tensorflow.keras.utils import plot_model\n",
        "plot_model(model = model, show_shapes = True)"
      ],
      "execution_count": 35,
      "outputs": [
        {
          "output_type": "execute_result",
          "data": {
            "image/png": "[encoded data removed]",
            "text/plain": [
              "<IPython.core.display.Image object>"
            ]
          },
          "metadata": {
            "tags": []
          },
          "execution_count": 35
        }
      ]
    },
    {
      "cell_type": "code",
      "metadata": {
        "colab": {
          "base_uri": "https://localhost:8080/"
        },
        "id": "CXsUSjjddKEk",
        "outputId": "dc965656-b942-43b4-e885-2baa705d9c07"
      },
      "source": [
        "y_pred = model.predict(X_test)\n",
        "y_pred, y_test"
      ],
      "execution_count": 40,
      "outputs": [
        {
          "output_type": "execute_result",
          "data": {
            "text/plain": [
              "(array([[ 70.55218 ],\n",
              "        [ 75.13991 ],\n",
              "        [ 79.72763 ],\n",
              "        [ 84.31535 ],\n",
              "        [ 88.903076],\n",
              "        [ 93.49081 ],\n",
              "        [ 98.07853 ],\n",
              "        [102.66625 ],\n",
              "        [107.253975],\n",
              "        [111.8417  ]], dtype=float32),\n",
              " <tf.Tensor: shape=(10,), dtype=int32, numpy=array([ 70,  74,  78,  82,  86,  90,  94,  98, 102, 106], dtype=int32)>)"
            ]
          },
          "metadata": {
            "tags": []
          },
          "execution_count": 40
        }
      ]
    },
    {
      "cell_type": "code",
      "metadata": {
        "colab": {
          "base_uri": "https://localhost:8080/",
          "height": 282
        },
        "id": "sdTREmD6dmFq",
        "outputId": "c3295177-7d62-4f1c-e687-21f998a87733"
      },
      "source": [
        "plt.scatter(y_pred, y_test)"
      ],
      "execution_count": 38,
      "outputs": [
        {
          "output_type": "execute_result",
          "data": {
            "text/plain": [
              "<matplotlib.collections.PathCollection at 0x7f242389fc50>"
            ]
          },
          "metadata": {
            "tags": []
          },
          "execution_count": 38
        },
        {
          "output_type": "display_data",
          "data": {
            "image/png": "[encoded data removed]",
            "text/plain": [
              "<Figure size 432x288 with 1 Axes>"
            ]
          },
          "metadata": {
            "tags": [],
            "needs_background": "light"
          }
        }
      ]
    },
    {
      "cell_type": "code",
      "metadata": {
        "colab": {
          "base_uri": "https://localhost:8080/",
          "height": 428
        },
        "id": "cw9zG-I4eQsr",
        "outputId": "abe6a632-c613-4e99-cb55-642de765d068"
      },
      "source": [
        "# a plotting function\n",
        "def plot_pred(train_data = X_train,\n",
        "              train_labels = y_train,\n",
        "              test_data = X_test,\n",
        "              test_labels = y_test,\n",
        "              predictions = y_pred) :\n",
        "\n",
        "  plt.figure(figsize = (10, 7))\n",
        "  plt.scatter(train_data, train_labels, c = \"b\", label = \"training data\")\n",
        "  plt.scatter(test_data, test_labels, c = \"g\", label = \"test data\")\n",
        "  plt.scatter(test_data, predictions, c = \"r\", label = \"predicted\")\n",
        "  plt.legend()\n",
        "\n",
        "plot_pred()"
      ],
      "execution_count": 42,
      "outputs": [
        {
          "output_type": "display_data",
          "data": {
            "image/png": "[encoded data removed]",
            "text/plain": [
              "<Figure size 720x504 with 1 Axes>"
            ]
          },
          "metadata": {
            "tags": [],
            "needs_background": "light"
          }
        }
      ]
    },
    {
      "cell_type": "code",
      "metadata": {
        "colab": {
          "base_uri": "https://localhost:8080/"
        },
        "id": "7J9nmKQelEYG",
        "outputId": "39c06dcb-0daf-4247-9df2-f77e2fcf1133"
      },
      "source": [
        "model.evaluate(X_test, y_test)"
      ],
      "execution_count": 43,
      "outputs": [
        {
          "output_type": "stream",
          "text": [
            "1/1 [==============================] - 0s 114ms/step - loss: 3.1969 - mae: 3.1969\n"
          ],
          "name": "stdout"
        },
        {
          "output_type": "execute_result",
          "data": {
            "text/plain": [
              "[3.1969451904296875, 3.1969451904296875]"
            ]
          },
          "metadata": {
            "tags": []
          },
          "execution_count": 43
        }
      ]
    },
    {
      "cell_type": "code",
      "metadata": {
        "colab": {
          "base_uri": "https://localhost:8080/"
        },
        "id": "jlxh1nIjmWDe",
        "outputId": "cc8eea1b-081c-4ae6-df15-5c7dc49212e0"
      },
      "source": [
        "# to calculate the mean abs error\n",
        "\n",
        "tf.squeeze(y_pred)"
      ],
      "execution_count": 44,
      "outputs": [
        {
          "output_type": "execute_result",
          "data": {
            "text/plain": [
              "<tf.Tensor: shape=(10,), dtype=float32, numpy=\n",
              "array([ 70.55218 ,  75.13991 ,  79.72763 ,  84.31535 ,  88.903076,\n",
              "        93.49081 ,  98.07853 , 102.66625 , 107.253975, 111.8417  ],\n",
              "      dtype=float32)>"
            ]
          },
          "metadata": {
            "tags": []
          },
          "execution_count": 44
        }
      ]
    },
    {
      "cell_type": "code",
      "metadata": {
        "colab": {
          "base_uri": "https://localhost:8080/"
        },
        "id": "iHyyWsVznj1u",
        "outputId": "7115000e-430e-4929-e801-1b68ad3854f4"
      },
      "source": [
        "#MAE loss\n",
        "\n",
        "tf.metrics.mean_absolute_error(y_test, tf.squeeze(y_pred))"
      ],
      "execution_count": 47,
      "outputs": [
        {
          "output_type": "execute_result",
          "data": {
            "text/plain": [
              "<tf.Tensor: shape=(), dtype=float32, numpy=3.1969407>"
            ]
          },
          "metadata": {
            "tags": []
          },
          "execution_count": 47
        }
      ]
    },
    {
      "cell_type": "code",
      "metadata": {
        "colab": {
          "base_uri": "https://localhost:8080/"
        },
        "id": "KKvrcPJTooIh",
        "outputId": "52f1d11c-0be5-46d6-96f0-21e21e954dd6"
      },
      "source": [
        "# MSE loss\n",
        "\n",
        "tf.metrics.mean_squared_error(y_test, tf.squeeze(y_pred))"
      ],
      "execution_count": 51,
      "outputs": [
        {
          "output_type": "execute_result",
          "data": {
            "text/plain": [
              "<tf.Tensor: shape=(), dtype=float32, numpy=13.070143>"
            ]
          },
          "metadata": {
            "tags": []
          },
          "execution_count": 51
        }
      ]
    },
    {
      "cell_type": "code",
      "metadata": {
        "colab": {
          "base_uri": "https://localhost:8080/"
        },
        "id": "_3SMu8kXqCS6",
        "outputId": "9fbcc1c9-9c43-43f7-a0f6-1125215415ad"
      },
      "source": [
        "# huber loss\n",
        "\n",
        "P = tf.keras.losses.Huber()\n",
        "P(y_test, y_pred)"
      ],
      "execution_count": 52,
      "outputs": [
        {
          "output_type": "execute_result",
          "data": {
            "text/plain": [
              "<tf.Tensor: shape=(), dtype=float32, numpy=14.036425>"
            ]
          },
          "metadata": {
            "tags": []
          },
          "execution_count": 52
        }
      ]
    },
    {
      "cell_type": "code",
      "metadata": {
        "colab": {
          "base_uri": "https://localhost:8080/"
        },
        "id": "7_UO7dKnqnTV",
        "outputId": "25f95805-2db8-4e84-b5e2-3d863f021857"
      },
      "source": [
        "# lets do some experimentation to improve our model\n",
        "\n",
        "tf.keras.Sequential([\n",
        "   tf.keras.layers.Dense(1)                  \n",
        "])\n",
        "model.compile(loss = tf.keras.losses.mae,\n",
        "              optimizer = tf.keras.optimizers.SGD(),\n",
        "              metrics = [\"mae\"])\n",
        "model.fit(X_train, y_train, epochs = 100)"
      ],
      "execution_count": 54,
      "outputs": [
        {
          "output_type": "stream",
          "text": [
            "Epoch 1/100\n",
            "2/2 [==============================] - 0s 6ms/step - loss: 14.7932 - mae: 14.7932\n",
            "Epoch 2/100\n",
            "2/2 [==============================] - 0s 6ms/step - loss: 7.6285 - mae: 7.6285\n",
            "Epoch 3/100\n",
            "2/2 [==============================] - 0s 4ms/step - loss: 16.7793 - mae: 16.7793\n",
            "Epoch 4/100\n",
            "2/2 [==============================] - 0s 6ms/step - loss: 9.8364 - mae: 9.8364\n",
            "Epoch 5/100\n",
            "2/2 [==============================] - 0s 6ms/step - loss: 12.8503 - mae: 12.8503\n",
            "Epoch 6/100\n",
            "2/2 [==============================] - 0s 6ms/step - loss: 10.4406 - mae: 10.4406\n",
            "Epoch 7/100\n",
            "2/2 [==============================] - 0s 7ms/step - loss: 12.3229 - mae: 12.3229\n",
            "Epoch 8/100\n",
            "2/2 [==============================] - 0s 6ms/step - loss: 11.9049 - mae: 11.9049\n",
            "Epoch 9/100\n",
            "2/2 [==============================] - 0s 4ms/step - loss: 29.8747 - mae: 29.8747\n",
            "Epoch 10/100\n",
            "2/2 [==============================] - 0s 4ms/step - loss: 19.1403 - mae: 19.1403\n",
            "Epoch 11/100\n",
            "2/2 [==============================] - 0s 5ms/step - loss: 10.9993 - mae: 10.9993\n",
            "Epoch 12/100\n",
            "2/2 [==============================] - 0s 6ms/step - loss: 22.7791 - mae: 22.7791\n",
            "Epoch 13/100\n",
            "2/2 [==============================] - 0s 7ms/step - loss: 24.7762 - mae: 24.7762\n",
            "Epoch 14/100\n",
            "2/2 [==============================] - 0s 6ms/step - loss: 24.5699 - mae: 24.5699\n",
            "Epoch 15/100\n",
            "2/2 [==============================] - 0s 6ms/step - loss: 14.3133 - mae: 14.3133\n",
            "Epoch 16/100\n",
            "2/2 [==============================] - 0s 6ms/step - loss: 7.1542 - mae: 7.1542\n",
            "Epoch 17/100\n",
            "2/2 [==============================] - 0s 6ms/step - loss: 21.9964 - mae: 21.9964\n",
            "Epoch 18/100\n",
            "2/2 [==============================] - 0s 6ms/step - loss: 10.2697 - mae: 10.2697\n",
            "Epoch 19/100\n",
            "2/2 [==============================] - 0s 6ms/step - loss: 20.2730 - mae: 20.2730\n",
            "Epoch 20/100\n",
            "2/2 [==============================] - 0s 6ms/step - loss: 9.2251 - mae: 9.2251\n",
            "Epoch 21/100\n",
            "2/2 [==============================] - 0s 7ms/step - loss: 19.1948 - mae: 19.1948\n",
            "Epoch 22/100\n",
            "2/2 [==============================] - 0s 11ms/step - loss: 17.8834 - mae: 17.8834\n",
            "Epoch 23/100\n",
            "2/2 [==============================] - 0s 5ms/step - loss: 8.2855 - mae: 8.2855\n",
            "Epoch 24/100\n",
            "2/2 [==============================] - 0s 9ms/step - loss: 10.3127 - mae: 10.3127\n",
            "Epoch 25/100\n",
            "2/2 [==============================] - 0s 3ms/step - loss: 16.8939 - mae: 16.8939\n",
            "Epoch 26/100\n",
            "2/2 [==============================] - 0s 9ms/step - loss: 12.4467 - mae: 12.4467\n",
            "Epoch 27/100\n",
            "2/2 [==============================] - 0s 6ms/step - loss: 11.4542 - mae: 11.4542\n",
            "Epoch 28/100\n",
            "2/2 [==============================] - 0s 4ms/step - loss: 22.7039 - mae: 22.7039\n",
            "Epoch 29/100\n",
            "2/2 [==============================] - 0s 8ms/step - loss: 6.8222 - mae: 6.8222\n",
            "Epoch 30/100\n",
            "2/2 [==============================] - 0s 3ms/step - loss: 36.4648 - mae: 36.4648\n",
            "Epoch 31/100\n",
            "2/2 [==============================] - 0s 4ms/step - loss: 19.0033 - mae: 19.0033\n",
            "Epoch 32/100\n",
            "2/2 [==============================] - 0s 3ms/step - loss: 7.4474 - mae: 7.4474\n",
            "Epoch 33/100\n",
            "2/2 [==============================] - 0s 4ms/step - loss: 10.0561 - mae: 10.0561\n",
            "Epoch 34/100\n",
            "2/2 [==============================] - 0s 3ms/step - loss: 22.1907 - mae: 22.1907\n",
            "Epoch 35/100\n",
            "2/2 [==============================] - 0s 4ms/step - loss: 11.8828 - mae: 11.8828\n",
            "Epoch 36/100\n",
            "2/2 [==============================] - 0s 4ms/step - loss: 21.3862 - mae: 21.3862\n",
            "Epoch 37/100\n",
            "2/2 [==============================] - 0s 3ms/step - loss: 10.7756 - mae: 10.7756\n",
            "Epoch 38/100\n",
            "2/2 [==============================] - 0s 4ms/step - loss: 17.6089 - mae: 17.6089\n",
            "Epoch 39/100\n",
            "2/2 [==============================] - 0s 4ms/step - loss: 18.9066 - mae: 18.9066\n",
            "Epoch 40/100\n",
            "2/2 [==============================] - 0s 3ms/step - loss: 19.9368 - mae: 19.9368\n",
            "Epoch 41/100\n",
            "2/2 [==============================] - 0s 4ms/step - loss: 18.4583 - mae: 18.4583\n",
            "Epoch 42/100\n",
            "2/2 [==============================] - 0s 6ms/step - loss: 8.8897 - mae: 8.8897\n",
            "Epoch 43/100\n",
            "2/2 [==============================] - 0s 4ms/step - loss: 8.7594 - mae: 8.7594\n",
            "Epoch 44/100\n",
            "2/2 [==============================] - 0s 4ms/step - loss: 35.8350 - mae: 35.8350\n",
            "Epoch 45/100\n",
            "2/2 [==============================] - 0s 4ms/step - loss: 13.3355 - mae: 13.3355\n",
            "Epoch 46/100\n",
            "2/2 [==============================] - 0s 3ms/step - loss: 7.2775 - mae: 7.2775\n",
            "Epoch 47/100\n",
            "2/2 [==============================] - 0s 39ms/step - loss: 9.9891 - mae: 9.9891\n",
            "Epoch 48/100\n",
            "2/2 [==============================] - 0s 5ms/step - loss: 16.0011 - mae: 16.0011\n",
            "Epoch 49/100\n",
            "2/2 [==============================] - 0s 4ms/step - loss: 9.9619 - mae: 9.9619\n",
            "Epoch 50/100\n",
            "2/2 [==============================] - 0s 4ms/step - loss: 13.5930 - mae: 13.5930\n",
            "Epoch 51/100\n",
            "2/2 [==============================] - 0s 4ms/step - loss: 14.9687 - mae: 14.9687\n",
            "Epoch 52/100\n",
            "2/2 [==============================] - 0s 4ms/step - loss: 19.1232 - mae: 19.1232\n",
            "Epoch 53/100\n",
            "2/2 [==============================] - 0s 9ms/step - loss: 23.7353 - mae: 23.7353\n",
            "Epoch 54/100\n",
            "2/2 [==============================] - 0s 11ms/step - loss: 26.3194 - mae: 26.3194\n",
            "Epoch 55/100\n",
            "2/2 [==============================] - 0s 3ms/step - loss: 25.6076 - mae: 25.6076\n",
            "Epoch 56/100\n",
            "2/2 [==============================] - 0s 4ms/step - loss: 8.9053 - mae: 8.9053\n",
            "Epoch 57/100\n",
            "2/2 [==============================] - 0s 3ms/step - loss: 11.9093 - mae: 11.9093\n",
            "Epoch 58/100\n",
            "2/2 [==============================] - 0s 8ms/step - loss: 7.3590 - mae: 7.3590\n",
            "Epoch 59/100\n",
            "2/2 [==============================] - 0s 4ms/step - loss: 10.3508 - mae: 10.3508\n",
            "Epoch 60/100\n",
            "2/2 [==============================] - 0s 3ms/step - loss: 10.0392 - mae: 10.0392\n",
            "Epoch 61/100\n",
            "2/2 [==============================] - 0s 3ms/step - loss: 19.7329 - mae: 19.7329\n",
            "Epoch 62/100\n",
            "2/2 [==============================] - 0s 3ms/step - loss: 7.9346 - mae: 7.9346\n",
            "Epoch 63/100\n",
            "2/2 [==============================] - 0s 3ms/step - loss: 11.2124 - mae: 11.2124\n",
            "Epoch 64/100\n",
            "2/2 [==============================] - 0s 3ms/step - loss: 11.3264 - mae: 11.3264\n",
            "Epoch 65/100\n",
            "2/2 [==============================] - 0s 4ms/step - loss: 13.0983 - mae: 13.0983\n",
            "Epoch 66/100\n",
            "2/2 [==============================] - 0s 3ms/step - loss: 10.0029 - mae: 10.0029\n",
            "Epoch 67/100\n",
            "2/2 [==============================] - 0s 4ms/step - loss: 16.7326 - mae: 16.7326\n",
            "Epoch 68/100\n",
            "2/2 [==============================] - 0s 5ms/step - loss: 6.2232 - mae: 6.2232\n",
            "Epoch 69/100\n",
            "2/2 [==============================] - 0s 7ms/step - loss: 23.9789 - mae: 23.9789\n",
            "Epoch 70/100\n",
            "2/2 [==============================] - 0s 8ms/step - loss: 10.4778 - mae: 10.4778\n",
            "Epoch 71/100\n",
            "2/2 [==============================] - 0s 5ms/step - loss: 15.4819 - mae: 15.4819\n",
            "Epoch 72/100\n",
            "2/2 [==============================] - 0s 5ms/step - loss: 8.7587 - mae: 8.7587\n",
            "Epoch 73/100\n",
            "2/2 [==============================] - 0s 4ms/step - loss: 12.7365 - mae: 12.7365\n",
            "Epoch 74/100\n",
            "2/2 [==============================] - 0s 6ms/step - loss: 24.6408 - mae: 24.6408\n",
            "Epoch 75/100\n",
            "2/2 [==============================] - 0s 5ms/step - loss: 5.6095 - mae: 5.6095\n",
            "Epoch 76/100\n",
            "2/2 [==============================] - 0s 6ms/step - loss: 10.4447 - mae: 10.4447\n",
            "Epoch 77/100\n",
            "2/2 [==============================] - 0s 8ms/step - loss: 21.5468 - mae: 21.5468\n",
            "Epoch 78/100\n",
            "2/2 [==============================] - 0s 3ms/step - loss: 14.1447 - mae: 14.1447\n",
            "Epoch 79/100\n",
            "2/2 [==============================] - 0s 6ms/step - loss: 13.2410 - mae: 13.2410\n",
            "Epoch 80/100\n",
            "2/2 [==============================] - 0s 6ms/step - loss: 21.0692 - mae: 21.0692\n",
            "Epoch 81/100\n",
            "2/2 [==============================] - 0s 9ms/step - loss: 7.6669 - mae: 7.6669\n",
            "Epoch 82/100\n",
            "2/2 [==============================] - 0s 3ms/step - loss: 13.7428 - mae: 13.7428\n",
            "Epoch 83/100\n",
            "2/2 [==============================] - 0s 7ms/step - loss: 17.9459 - mae: 17.9459\n",
            "Epoch 84/100\n",
            "2/2 [==============================] - 0s 10ms/step - loss: 11.7372 - mae: 11.7372\n",
            "Epoch 85/100\n",
            "2/2 [==============================] - 0s 4ms/step - loss: 25.4615 - mae: 25.4615\n",
            "Epoch 86/100\n",
            "2/2 [==============================] - 0s 5ms/step - loss: 17.3544 - mae: 17.3544\n",
            "Epoch 87/100\n",
            "2/2 [==============================] - 0s 3ms/step - loss: 8.1517 - mae: 8.1517\n",
            "Epoch 88/100\n",
            "2/2 [==============================] - 0s 5ms/step - loss: 21.8372 - mae: 21.8372\n",
            "Epoch 89/100\n",
            "2/2 [==============================] - 0s 6ms/step - loss: 7.2442 - mae: 7.2442\n",
            "Epoch 90/100\n",
            "2/2 [==============================] - 0s 17ms/step - loss: 23.1063 - mae: 23.1063\n",
            "Epoch 91/100\n",
            "2/2 [==============================] - 0s 5ms/step - loss: 23.8581 - mae: 23.8581\n",
            "Epoch 92/100\n",
            "2/2 [==============================] - 0s 4ms/step - loss: 16.0285 - mae: 16.0285\n",
            "Epoch 93/100\n",
            "2/2 [==============================] - 0s 10ms/step - loss: 6.8331 - mae: 6.8331\n",
            "Epoch 94/100\n",
            "2/2 [==============================] - 0s 3ms/step - loss: 19.2450 - mae: 19.2450\n",
            "Epoch 95/100\n",
            "2/2 [==============================] - 0s 4ms/step - loss: 13.6285 - mae: 13.6285\n",
            "Epoch 96/100\n",
            "2/2 [==============================] - 0s 3ms/step - loss: 5.2613 - mae: 5.2613\n",
            "Epoch 97/100\n",
            "2/2 [==============================] - 0s 3ms/step - loss: 12.2016 - mae: 12.2016\n",
            "Epoch 98/100\n",
            "2/2 [==============================] - 0s 3ms/step - loss: 14.1731 - mae: 14.1731\n",
            "Epoch 99/100\n",
            "2/2 [==============================] - 0s 5ms/step - loss: 19.3998 - mae: 19.3998\n",
            "Epoch 100/100\n",
            "2/2 [==============================] - 0s 4ms/step - loss: 38.9961 - mae: 38.9961\n"
          ],
          "name": "stdout"
        },
        {
          "output_type": "execute_result",
          "data": {
            "text/plain": [
              "<tensorflow.python.keras.callbacks.History at 0x7f24235f4710>"
            ]
          },
          "metadata": {
            "tags": []
          },
          "execution_count": 54
        }
      ]
    },
    {
      "cell_type": "code",
      "metadata": {
        "colab": {
          "base_uri": "https://localhost:8080/",
          "height": 465
        },
        "id": "iHtGpkjzu6rE",
        "outputId": "2b8d0b0d-4135-4e39-ccf4-6eca41e4e628"
      },
      "source": [
        "y_pred_1 = model.predict([X_test])\n",
        "plot_pred(predictions = y_pred_1)"
      ],
      "execution_count": 55,
      "outputs": [
        {
          "output_type": "stream",
          "text": [
            "WARNING:tensorflow:6 out of the last 8 calls to <function Model.make_predict_function.<locals>.predict_function at 0x7f2423607680> triggered tf.function retracing. Tracing is expensive and the excessive number of tracings could be due to (1) creating @tf.function repeatedly in a loop, (2) passing tensors with different shapes, (3) passing Python objects instead of tensors. For (1), please define your @tf.function outside of the loop. For (2), @tf.function has experimental_relax_shapes=True option that relaxes argument shapes that can avoid unnecessary retracing. For (3), please refer to https://www.tensorflow.org/guide/function#controlling_retracing and https://www.tensorflow.org/api_docs/python/tf/function for  more details.\n"
          ],
          "name": "stdout"
        },
        {
          "output_type": "display_data",
          "data": {
            "image/png": "[encoded data removed]",
            "text/plain": [
              "<Figure size 720x504 with 1 Axes>"
            ]
          },
          "metadata": {
            "tags": [],
            "needs_background": "light"
          }
        }
      ]
    },
    {
      "cell_type": "code",
      "metadata": {
        "colab": {
          "base_uri": "https://localhost:8080/"
        },
        "id": "v8EOtMp9vNIF",
        "outputId": "ca690074-805e-46a8-9476-ae59b6d3b301"
      },
      "source": [
        "tf.random.set_seed(42)\n",
        "abc = tf.keras.Sequential([\n",
        "   tf.keras.layers.Dense(10),\n",
        "   tf.keras.layers.Dense(1)                  \n",
        "])\n",
        "abc.compile(loss = tf.keras.losses.mae,\n",
        "              optimizer = tf.keras.optimizers.SGD(),\n",
        "              metrics = [\"mae\"])\n",
        "abc.fit(X_train, y_train, epochs = 100)"
      ],
      "execution_count": 69,
      "outputs": [
        {
          "output_type": "stream",
          "text": [
            "Epoch 1/100\n",
            "2/2 [==============================] - 0s 7ms/step - loss: 26.8627 - mae: 26.8627\n",
            "Epoch 2/100\n",
            "2/2 [==============================] - 0s 4ms/step - loss: 24.4175 - mae: 24.4175\n",
            "Epoch 3/100\n",
            "2/2 [==============================] - 0s 3ms/step - loss: 31.5187 - mae: 31.5187\n",
            "Epoch 4/100\n",
            "2/2 [==============================] - 0s 7ms/step - loss: 27.8490 - mae: 27.8490\n",
            "Epoch 5/100\n",
            "2/2 [==============================] - 0s 12ms/step - loss: 14.6465 - mae: 14.6465\n",
            "Epoch 6/100\n",
            "2/2 [==============================] - 0s 4ms/step - loss: 11.9682 - mae: 11.9682\n",
            "Epoch 7/100\n",
            "2/2 [==============================] - 0s 3ms/step - loss: 11.0874 - mae: 11.0874\n",
            "Epoch 8/100\n",
            "2/2 [==============================] - 0s 8ms/step - loss: 11.3978 - mae: 11.3978\n",
            "Epoch 9/100\n",
            "2/2 [==============================] - 0s 9ms/step - loss: 42.4087 - mae: 42.4087\n",
            "Epoch 10/100\n",
            "2/2 [==============================] - 0s 7ms/step - loss: 28.3537 - mae: 28.3537\n",
            "Epoch 11/100\n",
            "2/2 [==============================] - 0s 3ms/step - loss: 9.6590 - mae: 9.6590\n",
            "Epoch 12/100\n",
            "2/2 [==============================] - 0s 3ms/step - loss: 25.8820 - mae: 25.8820\n",
            "Epoch 13/100\n",
            "2/2 [==============================] - 0s 5ms/step - loss: 16.7682 - mae: 16.7682\n",
            "Epoch 14/100\n",
            "2/2 [==============================] - 0s 5ms/step - loss: 26.6019 - mae: 26.6019\n",
            "Epoch 15/100\n",
            "2/2 [==============================] - 0s 3ms/step - loss: 17.7361 - mae: 17.7361\n",
            "Epoch 16/100\n",
            "2/2 [==============================] - 0s 6ms/step - loss: 7.4550 - mae: 7.4550\n",
            "Epoch 17/100\n",
            "2/2 [==============================] - 0s 7ms/step - loss: 10.6974 - mae: 10.6974\n",
            "Epoch 18/100\n",
            "2/2 [==============================] - 0s 9ms/step - loss: 20.7691 - mae: 20.7691\n",
            "Epoch 19/100\n",
            "2/2 [==============================] - 0s 5ms/step - loss: 9.6535 - mae: 9.6535\n",
            "Epoch 20/100\n",
            "2/2 [==============================] - 0s 7ms/step - loss: 18.4600 - mae: 18.4600\n",
            "Epoch 21/100\n",
            "2/2 [==============================] - 0s 4ms/step - loss: 16.2352 - mae: 16.2352\n",
            "Epoch 22/100\n",
            "2/2 [==============================] - 0s 4ms/step - loss: 14.5012 - mae: 14.5012\n",
            "Epoch 23/100\n",
            "2/2 [==============================] - 0s 5ms/step - loss: 8.6493 - mae: 8.6493\n",
            "Epoch 24/100\n",
            "2/2 [==============================] - 0s 4ms/step - loss: 10.4430 - mae: 10.4430\n",
            "Epoch 25/100\n",
            "2/2 [==============================] - 0s 4ms/step - loss: 12.8060 - mae: 12.8060\n",
            "Epoch 26/100\n",
            "2/2 [==============================] - 0s 3ms/step - loss: 26.8011 - mae: 26.8011\n",
            "Epoch 27/100\n",
            "2/2 [==============================] - 0s 4ms/step - loss: 12.0333 - mae: 12.0333\n",
            "Epoch 28/100\n",
            "2/2 [==============================] - 0s 4ms/step - loss: 23.4573 - mae: 23.4573\n",
            "Epoch 29/100\n",
            "2/2 [==============================] - 0s 9ms/step - loss: 9.1266 - mae: 9.1266\n",
            "Epoch 30/100\n",
            "2/2 [==============================] - 0s 5ms/step - loss: 31.1804 - mae: 31.1804\n",
            "Epoch 31/100\n",
            "2/2 [==============================] - 0s 4ms/step - loss: 56.8211 - mae: 56.8211\n",
            "Epoch 32/100\n",
            "2/2 [==============================] - 0s 4ms/step - loss: 12.2909 - mae: 12.2909\n",
            "Epoch 33/100\n",
            "2/2 [==============================] - 0s 4ms/step - loss: 15.3304 - mae: 15.3304\n",
            "Epoch 34/100\n",
            "2/2 [==============================] - 0s 7ms/step - loss: 12.8145 - mae: 12.8145\n",
            "Epoch 35/100\n",
            "2/2 [==============================] - 0s 5ms/step - loss: 9.4721 - mae: 9.4721\n",
            "Epoch 36/100\n",
            "2/2 [==============================] - 0s 4ms/step - loss: 16.6526 - mae: 16.6526\n",
            "Epoch 37/100\n",
            "2/2 [==============================] - 0s 4ms/step - loss: 10.4634 - mae: 10.4634\n",
            "Epoch 38/100\n",
            "2/2 [==============================] - 0s 6ms/step - loss: 18.7760 - mae: 18.7760\n",
            "Epoch 39/100\n",
            "2/2 [==============================] - 0s 13ms/step - loss: 20.1198 - mae: 20.1198\n",
            "Epoch 40/100\n",
            "2/2 [==============================] - 0s 11ms/step - loss: 21.4944 - mae: 21.4944\n",
            "Epoch 41/100\n",
            "2/2 [==============================] - 0s 9ms/step - loss: 14.5667 - mae: 14.5667\n",
            "Epoch 42/100\n",
            "2/2 [==============================] - 0s 7ms/step - loss: 12.2999 - mae: 12.2999\n",
            "Epoch 43/100\n",
            "2/2 [==============================] - 0s 4ms/step - loss: 11.1115 - mae: 11.1115\n",
            "Epoch 44/100\n",
            "2/2 [==============================] - 0s 10ms/step - loss: 23.5895 - mae: 23.5895\n",
            "Epoch 45/100\n",
            "2/2 [==============================] - 0s 8ms/step - loss: 9.9461 - mae: 9.9461\n",
            "Epoch 46/100\n",
            "2/2 [==============================] - 0s 7ms/step - loss: 12.0273 - mae: 12.0273\n",
            "Epoch 47/100\n",
            "2/2 [==============================] - 0s 7ms/step - loss: 9.0557 - mae: 9.0557\n",
            "Epoch 48/100\n",
            "2/2 [==============================] - 0s 4ms/step - loss: 17.8711 - mae: 17.8711\n",
            "Epoch 49/100\n",
            "2/2 [==============================] - 0s 9ms/step - loss: 9.5485 - mae: 9.5485\n",
            "Epoch 50/100\n",
            "2/2 [==============================] - 0s 7ms/step - loss: 13.7912 - mae: 13.7912\n",
            "Epoch 51/100\n",
            "2/2 [==============================] - 0s 8ms/step - loss: 11.2969 - mae: 11.2969\n",
            "Epoch 52/100\n",
            "2/2 [==============================] - 0s 4ms/step - loss: 32.1753 - mae: 32.1753\n",
            "Epoch 53/100\n",
            "2/2 [==============================] - 0s 5ms/step - loss: 14.1257 - mae: 14.1257\n",
            "Epoch 54/100\n",
            "2/2 [==============================] - 0s 6ms/step - loss: 24.3921 - mae: 24.3921\n",
            "Epoch 55/100\n",
            "2/2 [==============================] - 0s 7ms/step - loss: 23.5967 - mae: 23.5967\n",
            "Epoch 56/100\n",
            "2/2 [==============================] - 0s 3ms/step - loss: 10.0101 - mae: 10.0101\n",
            "Epoch 57/100\n",
            "2/2 [==============================] - 0s 7ms/step - loss: 12.4333 - mae: 12.4333\n",
            "Epoch 58/100\n",
            "2/2 [==============================] - 0s 5ms/step - loss: 9.4491 - mae: 9.4491\n",
            "Epoch 59/100\n",
            "2/2 [==============================] - 0s 8ms/step - loss: 12.6438 - mae: 12.6438\n",
            "Epoch 60/100\n",
            "2/2 [==============================] - 0s 8ms/step - loss: 12.3168 - mae: 12.3168\n",
            "Epoch 61/100\n",
            "2/2 [==============================] - 0s 16ms/step - loss: 17.1832 - mae: 17.1832\n",
            "Epoch 62/100\n",
            "2/2 [==============================] - 0s 7ms/step - loss: 10.4860 - mae: 10.4860\n",
            "Epoch 63/100\n",
            "2/2 [==============================] - 0s 5ms/step - loss: 10.8072 - mae: 10.8072\n",
            "Epoch 64/100\n",
            "2/2 [==============================] - 0s 6ms/step - loss: 25.2892 - mae: 25.2892\n",
            "Epoch 65/100\n",
            "2/2 [==============================] - 0s 9ms/step - loss: 10.7923 - mae: 10.7923\n",
            "Epoch 66/100\n",
            "2/2 [==============================] - 0s 10ms/step - loss: 22.0328 - mae: 22.0328\n",
            "Epoch 67/100\n",
            "2/2 [==============================] - 0s 4ms/step - loss: 10.6505 - mae: 10.6505\n",
            "Epoch 68/100\n",
            "2/2 [==============================] - 0s 5ms/step - loss: 10.8455 - mae: 10.8455\n",
            "Epoch 69/100\n",
            "2/2 [==============================] - 0s 3ms/step - loss: 23.0960 - mae: 23.0960\n",
            "Epoch 70/100\n",
            "2/2 [==============================] - 0s 6ms/step - loss: 8.7402 - mae: 8.7402\n",
            "Epoch 71/100\n",
            "2/2 [==============================] - 0s 3ms/step - loss: 15.8968 - mae: 15.8968\n",
            "Epoch 72/100\n",
            "2/2 [==============================] - 0s 5ms/step - loss: 6.7092 - mae: 6.7092\n",
            "Epoch 73/100\n",
            "2/2 [==============================] - 0s 3ms/step - loss: 10.6475 - mae: 10.6475\n",
            "Epoch 74/100\n",
            "2/2 [==============================] - 0s 4ms/step - loss: 24.6152 - mae: 24.6152\n",
            "Epoch 75/100\n",
            "2/2 [==============================] - 0s 8ms/step - loss: 8.7602 - mae: 8.7602\n",
            "Epoch 76/100\n",
            "2/2 [==============================] - 0s 5ms/step - loss: 11.9799 - mae: 11.9799\n",
            "Epoch 77/100\n",
            "2/2 [==============================] - 0s 4ms/step - loss: 16.6488 - mae: 16.6488\n",
            "Epoch 78/100\n",
            "2/2 [==============================] - 0s 9ms/step - loss: 9.2784 - mae: 9.2784\n",
            "Epoch 79/100\n",
            "2/2 [==============================] - 0s 4ms/step - loss: 24.4604 - mae: 24.4604\n",
            "Epoch 80/100\n",
            "2/2 [==============================] - 0s 4ms/step - loss: 27.4405 - mae: 27.4405\n",
            "Epoch 81/100\n",
            "2/2 [==============================] - 0s 4ms/step - loss: 11.7139 - mae: 11.7139\n",
            "Epoch 82/100\n",
            "2/2 [==============================] - 0s 3ms/step - loss: 11.6757 - mae: 11.6757\n",
            "Epoch 83/100\n",
            "2/2 [==============================] - 0s 4ms/step - loss: 17.9045 - mae: 17.9045\n",
            "Epoch 84/100\n",
            "2/2 [==============================] - 0s 3ms/step - loss: 7.0376 - mae: 7.0376\n",
            "Epoch 85/100\n",
            "2/2 [==============================] - 0s 3ms/step - loss: 15.1558 - mae: 15.1558\n",
            "Epoch 86/100\n",
            "2/2 [==============================] - 0s 3ms/step - loss: 15.1583 - mae: 15.1583\n",
            "Epoch 87/100\n",
            "2/2 [==============================] - 0s 3ms/step - loss: 19.8683 - mae: 19.8683\n",
            "Epoch 88/100\n",
            "2/2 [==============================] - 0s 4ms/step - loss: 30.7657 - mae: 30.7657\n",
            "Epoch 89/100\n",
            "2/2 [==============================] - 0s 5ms/step - loss: 9.7059 - mae: 9.7059\n",
            "Epoch 90/100\n",
            "2/2 [==============================] - 0s 6ms/step - loss: 21.5531 - mae: 21.5531\n",
            "Epoch 91/100\n",
            "2/2 [==============================] - 0s 3ms/step - loss: 9.5827 - mae: 9.5827\n",
            "Epoch 92/100\n",
            "2/2 [==============================] - 0s 4ms/step - loss: 18.2158 - mae: 18.2158\n",
            "Epoch 93/100\n",
            "2/2 [==============================] - 0s 4ms/step - loss: 7.1935 - mae: 7.1935\n",
            "Epoch 94/100\n",
            "2/2 [==============================] - 0s 8ms/step - loss: 17.4261 - mae: 17.4261\n",
            "Epoch 95/100\n",
            "2/2 [==============================] - 0s 4ms/step - loss: 11.1722 - mae: 11.1722\n",
            "Epoch 96/100\n",
            "2/2 [==============================] - 0s 3ms/step - loss: 18.9207 - mae: 18.9207\n",
            "Epoch 97/100\n",
            "2/2 [==============================] - 0s 3ms/step - loss: 12.2012 - mae: 12.2012\n",
            "Epoch 98/100\n",
            "2/2 [==============================] - 0s 3ms/step - loss: 11.2931 - mae: 11.2931\n",
            "Epoch 99/100\n",
            "2/2 [==============================] - 0s 3ms/step - loss: 13.4562 - mae: 13.4562\n",
            "Epoch 100/100\n",
            "2/2 [==============================] - 0s 3ms/step - loss: 20.1754 - mae: 20.1754\n"
          ],
          "name": "stdout"
        },
        {
          "output_type": "execute_result",
          "data": {
            "text/plain": [
              "<tensorflow.python.keras.callbacks.History at 0x7f2422f5f190>"
            ]
          },
          "metadata": {
            "tags": []
          },
          "execution_count": 69
        }
      ]
    },
    {
      "cell_type": "code",
      "metadata": {
        "colab": {
          "base_uri": "https://localhost:8080/",
          "height": 499
        },
        "id": "pm67fPx1vmRV",
        "outputId": "86eafb04-399f-4013-d3eb-85aeac4176b9"
      },
      "source": [
        "y_pred_2 = abc.predict([X_test])\n",
        "plot_pred(predictions = y_pred_2)"
      ],
      "execution_count": 70,
      "outputs": [
        {
          "output_type": "stream",
          "text": [
            "WARNING:tensorflow:Layers in a Sequential model should only have a single input tensor, but we receive a <class 'tuple'> input: (<tf.Tensor 'ExpandDims:0' shape=(None, 1) dtype=int32>,)\n",
            "Consider rewriting this model with the Functional API.\n",
            "WARNING:tensorflow:9 out of the last 11 calls to <function Model.make_predict_function.<locals>.predict_function at 0x7f242123c3b0> triggered tf.function retracing. Tracing is expensive and the excessive number of tracings could be due to (1) creating @tf.function repeatedly in a loop, (2) passing tensors with different shapes, (3) passing Python objects instead of tensors. For (1), please define your @tf.function outside of the loop. For (2), @tf.function has experimental_relax_shapes=True option that relaxes argument shapes that can avoid unnecessary retracing. For (3), please refer to https://www.tensorflow.org/guide/function#controlling_retracing and https://www.tensorflow.org/api_docs/python/tf/function for  more details.\n"
          ],
          "name": "stdout"
        },
        {
          "output_type": "display_data",
          "data": {
            "image/png": "[encoded data removed]",
            "text/plain": [
              "<Figure size 720x504 with 1 Axes>"
            ]
          },
          "metadata": {
            "tags": [],
            "needs_background": "light"
          }
        }
      ]
    },
    {
      "cell_type": "code",
      "metadata": {
        "colab": {
          "base_uri": "https://localhost:8080/"
        },
        "id": "HOod3n6Zx1d3",
        "outputId": "dd214317-96d9-4842-b6d2-a4cfc0c0f03e"
      },
      "source": [
        "# normal save\n",
        "abc.save(\"my_first\")"
      ],
      "execution_count": 71,
      "outputs": [
        {
          "output_type": "stream",
          "text": [
            "INFO:tensorflow:Assets written to: my_first/assets\n"
          ],
          "name": "stdout"
        }
      ]
    },
    {
      "cell_type": "code",
      "metadata": {
        "id": "QAuSTCJ0QeqW"
      },
      "source": [
        "# saving as a HDF5 format\n",
        "abc.save(\"second_attempt.h5\")"
      ],
      "execution_count": 73,
      "outputs": []
    },
    {
      "cell_type": "code",
      "metadata": {
        "colab": {
          "base_uri": "https://localhost:8080/"
        },
        "id": "e_8BmXYfRWDA",
        "outputId": "4128e423-b9b7-448d-d55e-a7526b8ec7c9"
      },
      "source": [
        "#loading back my data\n",
        "pqr = tf.keras.models.load_model(\"/content/my_first\")\n",
        "pqr.summary()"
      ],
      "execution_count": 74,
      "outputs": [
        {
          "output_type": "stream",
          "text": [
            "Model: \"sequential_18\"\n",
            "_________________________________________________________________\n",
            "Layer (type)                 Output Shape              Param #   \n",
            "=================================================================\n",
            "dense_26 (Dense)             (None, 10)                20        \n",
            "_________________________________________________________________\n",
            "dense_27 (Dense)             (None, 1)                 11        \n",
            "=================================================================\n",
            "Total params: 31\n",
            "Trainable params: 31\n",
            "Non-trainable params: 0\n",
            "_________________________________________________________________\n"
          ],
          "name": "stdout"
        }
      ]
    },
    {
      "cell_type": "code",
      "metadata": {
        "id": "dIl_DeXPSbM-"
      },
      "source": [
        ""
      ],
      "execution_count": null,
      "outputs": []
    }
  ]
}
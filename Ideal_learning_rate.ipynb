{
  "nbformat": 4,
  "nbformat_minor": 0,
  "metadata": {
    "colab": {
      "name": "Ideal_learning_rate.ipynb",
      "provenance": [],
      "collapsed_sections": [],
      "authorship_tag": "ABX9TyN+ZUm1R8kf2HUmzTWJFUpj",
      "include_colab_link": true
    },
    "kernelspec": {
      "name": "python3",
      "display_name": "Python 3"
    },
    "language_info": {
      "name": "python"
    }
  },
  "cells": [
    {
      "cell_type": "markdown",
      "metadata": {
        "id": "view-in-github",
        "colab_type": "text"
      },
      "source": [
        "<a href=\"https://colab.research.google.com/github/ZenoZoldyck/hand_on_tensorflow/blob/main/Ideal_learning_rate.ipynb\" target=\"_parent\"><img src=\"https://colab.research.google.com/assets/colab-badge.svg\" alt=\"Open In Colab\"/></a>"
      ]
    },
    {
      "cell_type": "code",
      "metadata": {
        "colab": {
          "base_uri": "https://localhost:8080/",
          "height": 35
        },
        "id": "WXVq3-rcGSo8",
        "outputId": "2edad9bd-289a-4207-a275-88792f486363"
      },
      "source": [
        "import tensorflow as tf\n",
        "import pandas as pd\n",
        "import numpy as np\n",
        "from sklearn.preprocessing import MinMaxScaler, OneHotEncoder\n",
        "import matplotlib.pyplot as plt\n",
        "from sklearn.compose import make_column_transformer\n",
        "\n",
        "tf.__version__"
      ],
      "execution_count": 1,
      "outputs": [
        {
          "output_type": "execute_result",
          "data": {
            "application/vnd.google.colaboratory.intrinsic+json": {
              "type": "string"
            },
            "text/plain": [
              "'2.5.0'"
            ]
          },
          "metadata": {
            "tags": []
          },
          "execution_count": 1
        }
      ]
    },
    {
      "cell_type": "code",
      "metadata": {
        "colab": {
          "base_uri": "https://localhost:8080/"
        },
        "id": "WTppiS_fcdB2",
        "outputId": "ecf1980f-3cc0-47de-e2fd-a20ddf2e502b"
      },
      "source": [
        "# using the same data set\n",
        "from sklearn.datasets import make_circles\n",
        "n = 1000\n",
        "X, y = make_circles(n, noise = 0.03, random_state = 42)\n",
        "X[:10], y[:10]"
      ],
      "execution_count": 2,
      "outputs": [
        {
          "output_type": "execute_result",
          "data": {
            "text/plain": [
              "(array([[ 0.75424625,  0.23148074],\n",
              "        [-0.75615888,  0.15325888],\n",
              "        [-0.81539193,  0.17328203],\n",
              "        [-0.39373073,  0.69288277],\n",
              "        [ 0.44220765, -0.89672343],\n",
              "        [-0.47964637,  0.67643477],\n",
              "        [-0.01364836,  0.80334872],\n",
              "        [ 0.77151327,  0.14775959],\n",
              "        [-0.16932234, -0.79345575],\n",
              "        [-0.1214858 ,  1.02150905]]), array([1, 1, 1, 1, 0, 1, 1, 1, 1, 0]))"
            ]
          },
          "metadata": {
            "tags": []
          },
          "execution_count": 2
        }
      ]
    },
    {
      "cell_type": "code",
      "metadata": {
        "colab": {
          "base_uri": "https://localhost:8080/"
        },
        "id": "TjwtoERbduL_",
        "outputId": "d70ae826-1119-41e8-ddb5-a238ba485f41"
      },
      "source": [
        "# splitting data\n",
        "\n",
        "from sklearn.model_selection import train_test_split\n",
        "X_train, X_test, y_train, y_test = train_test_split(X, y, test_size = 0.2, random_state = 42)\n",
        "len(X), len(X_train), len(X_test), X_train.dtype"
      ],
      "execution_count": 3,
      "outputs": [
        {
          "output_type": "execute_result",
          "data": {
            "text/plain": [
              "(1000, 800, 200, dtype('float64'))"
            ]
          },
          "metadata": {
            "tags": []
          },
          "execution_count": 3
        }
      ]
    },
    {
      "cell_type": "code",
      "metadata": {
        "colab": {
          "base_uri": "https://localhost:8080/"
        },
        "id": "KZiMYmnGdAwU",
        "outputId": "57db6212-c631-4b9d-947b-3090d3b97cda"
      },
      "source": [
        "# create a model with a learning rate callback\n",
        "\n",
        "model = tf.keras.Sequential([\n",
        "    tf.keras.layers.Dense(10, activation = \"relu\"),\n",
        "    tf.keras.layers.Dense(1, activation = \"sigmoid\")                         \n",
        "])\n",
        "model.compile(loss = tf.keras.losses.BinaryCrossentropy(),\n",
        "              optimizer = tf.keras.optimizers.Adam(lr = 0.01),\n",
        "              metrics = [\"accuracy\"])\n",
        "\n",
        "lr_scheduler = tf.keras.callbacks.LearningRateScheduler(lambda epochs: 1e-4 * 10**(epochs/20))\n",
        "history = model.fit(X_train, y_train, epochs = 100, callbacks = [lr_scheduler])"
      ],
      "execution_count": 5,
      "outputs": [
        {
          "output_type": "stream",
          "text": [
            "/usr/local/lib/python3.7/dist-packages/tensorflow/python/keras/optimizer_v2/optimizer_v2.py:375: UserWarning: The `lr` argument is deprecated, use `learning_rate` instead.\n",
            "  \"The `lr` argument is deprecated, use `learning_rate` instead.\")\n"
          ],
          "name": "stderr"
        },
        {
          "output_type": "stream",
          "text": [
            "Epoch 1/100\n",
            "25/25 [==============================] - 1s 2ms/step - loss: 0.6984 - accuracy: 0.5063\n",
            "Epoch 2/100\n",
            "25/25 [==============================] - 0s 1ms/step - loss: 0.6982 - accuracy: 0.5025\n",
            "Epoch 3/100\n",
            "25/25 [==============================] - 0s 1ms/step - loss: 0.6979 - accuracy: 0.5088\n",
            "Epoch 4/100\n",
            "25/25 [==============================] - 0s 1ms/step - loss: 0.6976 - accuracy: 0.5100\n",
            "Epoch 5/100\n",
            "25/25 [==============================] - 0s 1ms/step - loss: 0.6973 - accuracy: 0.5088\n",
            "Epoch 6/100\n",
            "25/25 [==============================] - 0s 1ms/step - loss: 0.6970 - accuracy: 0.5063\n",
            "Epoch 7/100\n",
            "25/25 [==============================] - 0s 1ms/step - loss: 0.6967 - accuracy: 0.5113\n",
            "Epoch 8/100\n",
            "25/25 [==============================] - 0s 1ms/step - loss: 0.6964 - accuracy: 0.5100\n",
            "Epoch 9/100\n",
            "25/25 [==============================] - 0s 1ms/step - loss: 0.6960 - accuracy: 0.5125\n",
            "Epoch 10/100\n",
            "25/25 [==============================] - 0s 1ms/step - loss: 0.6956 - accuracy: 0.5175\n",
            "Epoch 11/100\n",
            "25/25 [==============================] - 0s 1ms/step - loss: 0.6952 - accuracy: 0.5150\n",
            "Epoch 12/100\n",
            "25/25 [==============================] - 0s 1ms/step - loss: 0.6948 - accuracy: 0.5113\n",
            "Epoch 13/100\n",
            "25/25 [==============================] - 0s 1ms/step - loss: 0.6943 - accuracy: 0.5075\n",
            "Epoch 14/100\n",
            "25/25 [==============================] - 0s 1ms/step - loss: 0.6938 - accuracy: 0.5075\n",
            "Epoch 15/100\n",
            "25/25 [==============================] - 0s 1ms/step - loss: 0.6934 - accuracy: 0.5113\n",
            "Epoch 16/100\n",
            "25/25 [==============================] - 0s 1ms/step - loss: 0.6929 - accuracy: 0.4925\n",
            "Epoch 17/100\n",
            "25/25 [==============================] - 0s 1ms/step - loss: 0.6923 - accuracy: 0.4913\n",
            "Epoch 18/100\n",
            "25/25 [==============================] - 0s 1ms/step - loss: 0.6917 - accuracy: 0.4925\n",
            "Epoch 19/100\n",
            "25/25 [==============================] - 0s 2ms/step - loss: 0.6912 - accuracy: 0.4950\n",
            "Epoch 20/100\n",
            "25/25 [==============================] - 0s 1ms/step - loss: 0.6906 - accuracy: 0.5038\n",
            "Epoch 21/100\n",
            "25/25 [==============================] - 0s 1ms/step - loss: 0.6900 - accuracy: 0.4988\n",
            "Epoch 22/100\n",
            "25/25 [==============================] - 0s 1ms/step - loss: 0.6892 - accuracy: 0.5025\n",
            "Epoch 23/100\n",
            "25/25 [==============================] - 0s 1ms/step - loss: 0.6883 - accuracy: 0.5038\n",
            "Epoch 24/100\n",
            "25/25 [==============================] - 0s 1ms/step - loss: 0.6876 - accuracy: 0.5100\n",
            "Epoch 25/100\n",
            "25/25 [==============================] - 0s 1ms/step - loss: 0.6864 - accuracy: 0.5163\n",
            "Epoch 26/100\n",
            "25/25 [==============================] - 0s 1ms/step - loss: 0.6854 - accuracy: 0.5175\n",
            "Epoch 27/100\n",
            "25/25 [==============================] - 0s 2ms/step - loss: 0.6840 - accuracy: 0.5213\n",
            "Epoch 28/100\n",
            "25/25 [==============================] - 0s 1ms/step - loss: 0.6825 - accuracy: 0.5425\n",
            "Epoch 29/100\n",
            "25/25 [==============================] - 0s 1ms/step - loss: 0.6809 - accuracy: 0.5362\n",
            "Epoch 30/100\n",
            "25/25 [==============================] - 0s 1ms/step - loss: 0.6793 - accuracy: 0.5350\n",
            "Epoch 31/100\n",
            "25/25 [==============================] - 0s 1ms/step - loss: 0.6771 - accuracy: 0.5487\n",
            "Epoch 32/100\n",
            "25/25 [==============================] - 0s 1ms/step - loss: 0.6746 - accuracy: 0.5700\n",
            "Epoch 33/100\n",
            "25/25 [==============================] - 0s 1ms/step - loss: 0.6721 - accuracy: 0.5788\n",
            "Epoch 34/100\n",
            "25/25 [==============================] - 0s 1ms/step - loss: 0.6685 - accuracy: 0.5825\n",
            "Epoch 35/100\n",
            "25/25 [==============================] - 0s 1ms/step - loss: 0.6645 - accuracy: 0.5875\n",
            "Epoch 36/100\n",
            "25/25 [==============================] - 0s 1ms/step - loss: 0.6588 - accuracy: 0.6375\n",
            "Epoch 37/100\n",
            "25/25 [==============================] - 0s 1ms/step - loss: 0.6495 - accuracy: 0.6500\n",
            "Epoch 38/100\n",
            "25/25 [==============================] - 0s 1ms/step - loss: 0.6404 - accuracy: 0.6787\n",
            "Epoch 39/100\n",
            "25/25 [==============================] - 0s 1ms/step - loss: 0.6259 - accuracy: 0.8275\n",
            "Epoch 40/100\n",
            "25/25 [==============================] - 0s 1ms/step - loss: 0.6084 - accuracy: 0.8350\n",
            "Epoch 41/100\n",
            "25/25 [==============================] - 0s 1ms/step - loss: 0.5875 - accuracy: 0.8175\n",
            "Epoch 42/100\n",
            "25/25 [==============================] - 0s 1ms/step - loss: 0.5624 - accuracy: 0.8963\n",
            "Epoch 43/100\n",
            "25/25 [==============================] - 0s 1ms/step - loss: 0.5257 - accuracy: 0.9038\n",
            "Epoch 44/100\n",
            "25/25 [==============================] - 0s 1ms/step - loss: 0.4894 - accuracy: 0.8925\n",
            "Epoch 45/100\n",
            "25/25 [==============================] - 0s 1ms/step - loss: 0.4430 - accuracy: 0.9350\n",
            "Epoch 46/100\n",
            "25/25 [==============================] - 0s 1ms/step - loss: 0.3852 - accuracy: 0.9688\n",
            "Epoch 47/100\n",
            "25/25 [==============================] - 0s 1ms/step - loss: 0.3290 - accuracy: 0.9675\n",
            "Epoch 48/100\n",
            "25/25 [==============================] - 0s 1ms/step - loss: 0.2905 - accuracy: 0.9625\n",
            "Epoch 49/100\n",
            "25/25 [==============================] - 0s 1ms/step - loss: 0.2340 - accuracy: 0.9912\n",
            "Epoch 50/100\n",
            "25/25 [==============================] - 0s 1ms/step - loss: 0.1999 - accuracy: 0.9900\n",
            "Epoch 51/100\n",
            "25/25 [==============================] - 0s 1ms/step - loss: 0.1650 - accuracy: 0.9962\n",
            "Epoch 52/100\n",
            "25/25 [==============================] - 0s 2ms/step - loss: 0.1294 - accuracy: 0.9912\n",
            "Epoch 53/100\n",
            "25/25 [==============================] - 0s 2ms/step - loss: 0.1074 - accuracy: 0.9975\n",
            "Epoch 54/100\n",
            "25/25 [==============================] - 0s 1ms/step - loss: 0.0887 - accuracy: 0.9962\n",
            "Epoch 55/100\n",
            "25/25 [==============================] - 0s 1ms/step - loss: 0.0824 - accuracy: 0.9925\n",
            "Epoch 56/100\n",
            "25/25 [==============================] - 0s 1ms/step - loss: 0.0762 - accuracy: 0.9925\n",
            "Epoch 57/100\n",
            "25/25 [==============================] - 0s 1ms/step - loss: 0.0533 - accuracy: 0.9987\n",
            "Epoch 58/100\n",
            "25/25 [==============================] - 0s 1ms/step - loss: 0.0456 - accuracy: 0.9987\n",
            "Epoch 59/100\n",
            "25/25 [==============================] - 0s 1ms/step - loss: 0.0348 - accuracy: 1.0000\n",
            "Epoch 60/100\n",
            "25/25 [==============================] - 0s 1ms/step - loss: 0.0352 - accuracy: 0.9975\n",
            "Epoch 61/100\n",
            "25/25 [==============================] - 0s 1ms/step - loss: 0.0340 - accuracy: 0.9987\n",
            "Epoch 62/100\n",
            "25/25 [==============================] - 0s 1ms/step - loss: 0.0353 - accuracy: 0.9962\n",
            "Epoch 63/100\n",
            "25/25 [==============================] - 0s 1ms/step - loss: 0.0287 - accuracy: 0.9975\n",
            "Epoch 64/100\n",
            "25/25 [==============================] - 0s 1ms/step - loss: 0.0565 - accuracy: 0.9812\n",
            "Epoch 65/100\n",
            "25/25 [==============================] - 0s 1ms/step - loss: 0.2367 - accuracy: 0.9050\n",
            "Epoch 66/100\n",
            "25/25 [==============================] - 0s 2ms/step - loss: 0.2321 - accuracy: 0.9100\n",
            "Epoch 67/100\n",
            "25/25 [==============================] - 0s 2ms/step - loss: 0.0570 - accuracy: 0.9825\n",
            "Epoch 68/100\n",
            "25/25 [==============================] - 0s 1ms/step - loss: 0.0669 - accuracy: 0.9762\n",
            "Epoch 69/100\n",
            "25/25 [==============================] - 0s 1ms/step - loss: 0.0284 - accuracy: 0.9887\n",
            "Epoch 70/100\n",
            "25/25 [==============================] - 0s 1ms/step - loss: 0.0231 - accuracy: 0.9912\n",
            "Epoch 71/100\n",
            "25/25 [==============================] - 0s 1ms/step - loss: 0.5068 - accuracy: 0.8750\n",
            "Epoch 72/100\n",
            "25/25 [==============================] - 0s 1ms/step - loss: 0.6106 - accuracy: 0.8825\n",
            "Epoch 73/100\n",
            "25/25 [==============================] - 0s 1ms/step - loss: 0.2923 - accuracy: 0.9087\n",
            "Epoch 74/100\n",
            "25/25 [==============================] - 0s 1ms/step - loss: 0.0929 - accuracy: 0.9663\n",
            "Epoch 75/100\n",
            "25/25 [==============================] - 0s 1ms/step - loss: 0.0435 - accuracy: 0.9837\n",
            "Epoch 76/100\n",
            "25/25 [==============================] - 0s 1ms/step - loss: 0.0322 - accuracy: 0.9900\n",
            "Epoch 77/100\n",
            "25/25 [==============================] - 0s 2ms/step - loss: 0.0245 - accuracy: 0.9912\n",
            "Epoch 78/100\n",
            "25/25 [==============================] - 0s 1ms/step - loss: 0.0533 - accuracy: 0.9850\n",
            "Epoch 79/100\n",
            "25/25 [==============================] - 0s 2ms/step - loss: 0.2815 - accuracy: 0.9300\n",
            "Epoch 80/100\n",
            "25/25 [==============================] - 0s 1ms/step - loss: 0.3352 - accuracy: 0.9287\n",
            "Epoch 81/100\n",
            "25/25 [==============================] - 0s 1ms/step - loss: 1.6521 - accuracy: 0.7500\n",
            "Epoch 82/100\n",
            "25/25 [==============================] - 0s 1ms/step - loss: 0.6113 - accuracy: 0.8075\n",
            "Epoch 83/100\n",
            "25/25 [==============================] - 0s 1ms/step - loss: 0.3326 - accuracy: 0.8662\n",
            "Epoch 84/100\n",
            "25/25 [==============================] - 0s 1ms/step - loss: 0.3355 - accuracy: 0.8850\n",
            "Epoch 85/100\n",
            "25/25 [==============================] - 0s 1ms/step - loss: 0.2837 - accuracy: 0.8875\n",
            "Epoch 86/100\n",
            "25/25 [==============================] - 0s 3ms/step - loss: 0.2591 - accuracy: 0.9038\n",
            "Epoch 87/100\n",
            "25/25 [==============================] - 0s 1ms/step - loss: 1.4988 - accuracy: 0.6950\n",
            "Epoch 88/100\n",
            "25/25 [==============================] - 0s 1ms/step - loss: 0.8199 - accuracy: 0.4900\n",
            "Epoch 89/100\n",
            "25/25 [==============================] - 0s 1ms/step - loss: 0.7134 - accuracy: 0.4775\n",
            "Epoch 90/100\n",
            "25/25 [==============================] - 0s 1ms/step - loss: 0.7258 - accuracy: 0.4900\n",
            "Epoch 91/100\n",
            "25/25 [==============================] - 0s 1ms/step - loss: 0.8402 - accuracy: 0.5175\n",
            "Epoch 92/100\n",
            "25/25 [==============================] - 0s 1ms/step - loss: 0.8107 - accuracy: 0.5100\n",
            "Epoch 93/100\n",
            "25/25 [==============================] - 0s 1ms/step - loss: 0.7214 - accuracy: 0.5025\n",
            "Epoch 94/100\n",
            "25/25 [==============================] - 0s 1ms/step - loss: 0.8101 - accuracy: 0.5025\n",
            "Epoch 95/100\n",
            "25/25 [==============================] - 0s 1ms/step - loss: 0.8176 - accuracy: 0.5000\n",
            "Epoch 96/100\n",
            "25/25 [==============================] - 0s 1ms/step - loss: 0.8797 - accuracy: 0.4800\n",
            "Epoch 97/100\n",
            "25/25 [==============================] - 0s 1ms/step - loss: 0.8151 - accuracy: 0.5175\n",
            "Epoch 98/100\n",
            "25/25 [==============================] - 0s 1ms/step - loss: 0.8316 - accuracy: 0.5125\n",
            "Epoch 99/100\n",
            "25/25 [==============================] - 0s 1ms/step - loss: 0.8327 - accuracy: 0.5125\n",
            "Epoch 100/100\n",
            "25/25 [==============================] - 0s 1ms/step - loss: 0.8927 - accuracy: 0.4800\n"
          ],
          "name": "stdout"
        }
      ]
    },
    {
      "cell_type": "code",
      "metadata": {
        "colab": {
          "base_uri": "https://localhost:8080/",
          "height": 419
        },
        "id": "gpIQWq-afsUb",
        "outputId": "ca2ff119-a82b-4945-8f52-5706ced5ae0a"
      },
      "source": [
        "# look at the history\n",
        "pd.DataFrame(history.history)"
      ],
      "execution_count": 6,
      "outputs": [
        {
          "output_type": "execute_result",
          "data": {
            "text/html": [
              "<div>\n",
              "<style scoped>\n",
              "    .dataframe tbody tr th:only-of-type {\n",
              "        vertical-align: middle;\n",
              "    }\n",
              "\n",
              "    .dataframe tbody tr th {\n",
              "        vertical-align: top;\n",
              "    }\n",
              "\n",
              "    .dataframe thead th {\n",
              "        text-align: right;\n",
              "    }\n",
              "</style>\n",
              "<table border=\"1\" class=\"dataframe\">\n",
              "  <thead>\n",
              "    <tr style=\"text-align: right;\">\n",
              "      <th></th>\n",
              "      <th>loss</th>\n",
              "      <th>accuracy</th>\n",
              "      <th>lr</th>\n",
              "    </tr>\n",
              "  </thead>\n",
              "  <tbody>\n",
              "    <tr>\n",
              "      <th>0</th>\n",
              "      <td>0.698411</td>\n",
              "      <td>0.50625</td>\n",
              "      <td>0.000100</td>\n",
              "    </tr>\n",
              "    <tr>\n",
              "      <th>1</th>\n",
              "      <td>0.698173</td>\n",
              "      <td>0.50250</td>\n",
              "      <td>0.000112</td>\n",
              "    </tr>\n",
              "    <tr>\n",
              "      <th>2</th>\n",
              "      <td>0.697907</td>\n",
              "      <td>0.50875</td>\n",
              "      <td>0.000126</td>\n",
              "    </tr>\n",
              "    <tr>\n",
              "      <th>3</th>\n",
              "      <td>0.697636</td>\n",
              "      <td>0.51000</td>\n",
              "      <td>0.000141</td>\n",
              "    </tr>\n",
              "    <tr>\n",
              "      <th>4</th>\n",
              "      <td>0.697348</td>\n",
              "      <td>0.50875</td>\n",
              "      <td>0.000158</td>\n",
              "    </tr>\n",
              "    <tr>\n",
              "      <th>...</th>\n",
              "      <td>...</td>\n",
              "      <td>...</td>\n",
              "      <td>...</td>\n",
              "    </tr>\n",
              "    <tr>\n",
              "      <th>95</th>\n",
              "      <td>0.879655</td>\n",
              "      <td>0.48000</td>\n",
              "      <td>5.623413</td>\n",
              "    </tr>\n",
              "    <tr>\n",
              "      <th>96</th>\n",
              "      <td>0.815147</td>\n",
              "      <td>0.51750</td>\n",
              "      <td>6.309574</td>\n",
              "    </tr>\n",
              "    <tr>\n",
              "      <th>97</th>\n",
              "      <td>0.831595</td>\n",
              "      <td>0.51250</td>\n",
              "      <td>7.079458</td>\n",
              "    </tr>\n",
              "    <tr>\n",
              "      <th>98</th>\n",
              "      <td>0.832721</td>\n",
              "      <td>0.51250</td>\n",
              "      <td>7.943282</td>\n",
              "    </tr>\n",
              "    <tr>\n",
              "      <th>99</th>\n",
              "      <td>0.892734</td>\n",
              "      <td>0.48000</td>\n",
              "      <td>8.912509</td>\n",
              "    </tr>\n",
              "  </tbody>\n",
              "</table>\n",
              "<p>100 rows × 3 columns</p>\n",
              "</div>"
            ],
            "text/plain": [
              "        loss  accuracy        lr\n",
              "0   0.698411   0.50625  0.000100\n",
              "1   0.698173   0.50250  0.000112\n",
              "2   0.697907   0.50875  0.000126\n",
              "3   0.697636   0.51000  0.000141\n",
              "4   0.697348   0.50875  0.000158\n",
              "..       ...       ...       ...\n",
              "95  0.879655   0.48000  5.623413\n",
              "96  0.815147   0.51750  6.309574\n",
              "97  0.831595   0.51250  7.079458\n",
              "98  0.832721   0.51250  7.943282\n",
              "99  0.892734   0.48000  8.912509\n",
              "\n",
              "[100 rows x 3 columns]"
            ]
          },
          "metadata": {
            "tags": []
          },
          "execution_count": 6
        }
      ]
    },
    {
      "cell_type": "code",
      "metadata": {
        "colab": {
          "base_uri": "https://localhost:8080/",
          "height": 282
        },
        "id": "tHGH7hBbf4hz",
        "outputId": "0c744666-1961-48e1-93f7-b1584cf2635e"
      },
      "source": [
        "# time to visualize\n",
        "\n",
        "pd.DataFrame(history.history).plot()"
      ],
      "execution_count": 7,
      "outputs": [
        {
          "output_type": "execute_result",
          "data": {
            "text/plain": [
              "<matplotlib.axes._subplots.AxesSubplot at 0x7f46c191c450>"
            ]
          },
          "metadata": {
            "tags": []
          },
          "execution_count": 7
        },
        {
          "output_type": "display_data",
          "data": {
            "image/png": "[encoded data removed]",
            "text/plain": [
              "<Figure size 432x288 with 1 Axes>"
            ]
          },
          "metadata": {
            "tags": [],
            "needs_background": "light"
          }
        }
      ]
    },
    {
      "cell_type": "code",
      "metadata": {
        "colab": {
          "base_uri": "https://localhost:8080/",
          "height": 465
        },
        "id": "X7rFEStzgIfT",
        "outputId": "6fe83a7b-8218-4731-c9f2-9d0cd9b8929e"
      },
      "source": [
        "# plotting loss vs learning rate\n",
        "\n",
        "lr = 1e-4 * (10 ** (tf.range(100)/20))\n",
        "plt.figure(figsize = (10, 7))\n",
        "plt.semilogx(lr, history.history[\"loss\"])\n",
        "plt.title(\"learning rate vs loss curve\")"
      ],
      "execution_count": 9,
      "outputs": [
        {
          "output_type": "execute_result",
          "data": {
            "text/plain": [
              "Text(0.5, 1.0, 'learning rate vs loss curve')"
            ]
          },
          "metadata": {
            "tags": []
          },
          "execution_count": 9
        },
        {
          "output_type": "display_data",
          "data": {
            "image/png": "[encoded data removed]",
            "text/plain": [
              "<Figure size 720x504 with 1 Axes>"
            ]
          },
          "metadata": {
            "tags": [],
            "needs_background": "light"
          }
        }
      ]
    },
    {
      "cell_type": "code",
      "metadata": {
        "colab": {
          "base_uri": "https://localhost:8080/"
        },
        "id": "SkDWFKBch5BR",
        "outputId": "50ae32b3-293e-44ef-d40d-b2ed788a15e9"
      },
      "source": [
        "# choose a learning rate where the loss is still decreasing and has not completely flattened out.\n",
        "# generally used learning rates are\n",
        "10**-1, 10**-2, 10**-3"
      ],
      "execution_count": 11,
      "outputs": [
        {
          "output_type": "execute_result",
          "data": {
            "text/plain": [
              "(0.1, 0.01, 0.001)"
            ]
          },
          "metadata": {
            "tags": []
          },
          "execution_count": 11
        }
      ]
    },
    {
      "cell_type": "code",
      "metadata": {
        "colab": {
          "base_uri": "https://localhost:8080/"
        },
        "id": "d1I4ffzQi5dJ",
        "outputId": "44e155a4-fb7e-424a-ecd7-9c88148456d8"
      },
      "source": [
        "# running model with best found leraning rate\n",
        "\n",
        "model_1 = tf.keras.Sequential([\n",
        "    tf.keras.layers.Dense(10, activation = \"relu\"),\n",
        "    tf.keras.layers.Dense(1, activation = \"sigmoid\")                         \n",
        "])\n",
        "model_1.compile(loss = tf.keras.losses.BinaryCrossentropy(),\n",
        "              optimizer = tf.keras.optimizers.Adam(lr = 0.02),\n",
        "              metrics = [\"accuracy\"])\n",
        "\n",
        "history = model_1.fit(X_train, y_train, epochs = 100, verbose = 0)"
      ],
      "execution_count": 13,
      "outputs": [
        {
          "output_type": "stream",
          "text": [
            "/usr/local/lib/python3.7/dist-packages/tensorflow/python/keras/optimizer_v2/optimizer_v2.py:375: UserWarning: The `lr` argument is deprecated, use `learning_rate` instead.\n",
            "  \"The `lr` argument is deprecated, use `learning_rate` instead.\")\n"
          ],
          "name": "stderr"
        }
      ]
    },
    {
      "cell_type": "code",
      "metadata": {
        "colab": {
          "base_uri": "https://localhost:8080/"
        },
        "id": "8oFwR-mvpr-1",
        "outputId": "b9ce114c-b2fd-48c2-a183-84f4bdddb9ea"
      },
      "source": [
        "loss, accuracy = model_1.evaluate(X_test, y_test)\n",
        "loss, accuracy"
      ],
      "execution_count": 14,
      "outputs": [
        {
          "output_type": "stream",
          "text": [
            "7/7 [==============================] - 0s 2ms/step - loss: 0.0248 - accuracy: 0.9950\n"
          ],
          "name": "stdout"
        },
        {
          "output_type": "execute_result",
          "data": {
            "text/plain": [
              "(0.024818703532218933, 0.9950000047683716)"
            ]
          },
          "metadata": {
            "tags": []
          },
          "execution_count": 14
        }
      ]
    },
    {
      "cell_type": "code",
      "metadata": {
        "colab": {
          "base_uri": "https://localhost:8080/"
        },
        "id": "XAoE3XL5qB7B",
        "outputId": "9120a7c9-ac07-4dbf-ff20-be562b7d073b"
      },
      "source": [
        "# confusion matrix for evaluating our model\n",
        "\n",
        "from sklearn.metrics import confusion_matrix\n",
        "y_pred = model_1.predict(X_test)\n",
        "y_pred = tf.round(y_pred)\n",
        "confusion_matrix(y_test, y_pred)"
      ],
      "execution_count": 18,
      "outputs": [
        {
          "output_type": "execute_result",
          "data": {
            "text/plain": [
              "array([[ 99,   1],\n",
              "       [  0, 100]])"
            ]
          },
          "metadata": {
            "tags": []
          },
          "execution_count": 18
        }
      ]
    },
    {
      "cell_type": "code",
      "metadata": {
        "id": "sI39I4FVr2Kb"
      },
      "source": [
        ""
      ],
      "execution_count": null,
      "outputs": []
    }
  ]
}
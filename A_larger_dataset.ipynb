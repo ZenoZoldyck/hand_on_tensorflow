{
  "nbformat": 4,
  "nbformat_minor": 0,
  "metadata": {
    "colab": {
      "name": "A_larger_dataset.ipynb",
      "provenance": [],
      "authorship_tag": "ABX9TyOB/JgBWXRxt/uLTFz6I2Xo",
      "include_colab_link": true
    },
    "kernelspec": {
      "name": "python3",
      "display_name": "Python 3"
    },
    "language_info": {
      "name": "python"
    }
  },
  "cells": [
    {
      "cell_type": "markdown",
      "metadata": {
        "id": "view-in-github",
        "colab_type": "text"
      },
      "source": [
        "<a href=\"https://colab.research.google.com/github/ZenoZoldyck/hand_on_tensorflow/blob/main/A_larger_dataset.ipynb\" target=\"_parent\"><img src=\"https://colab.research.google.com/assets/colab-badge.svg\" alt=\"Open In Colab\"/></a>"
      ]
    },
    {
      "cell_type": "code",
      "metadata": {
        "colab": {
          "base_uri": "https://localhost:8080/",
          "height": 35
        },
        "id": "Q6f2ZZvXYL54",
        "outputId": "0ba2e13d-0348-4ccd-bc30-9c5ecd4d3d40"
      },
      "source": [
        "import tensorflow as tf\n",
        "tf.__version__"
      ],
      "execution_count": 43,
      "outputs": [
        {
          "output_type": "execute_result",
          "data": {
            "application/vnd.google.colaboratory.intrinsic+json": {
              "type": "string"
            },
            "text/plain": [
              "'2.4.1'"
            ]
          },
          "metadata": {
            "tags": []
          },
          "execution_count": 43
        }
      ]
    },
    {
      "cell_type": "code",
      "metadata": {
        "id": "EiAf-tdnYZnf"
      },
      "source": [
        "import pandas as pd\n",
        "import matplotlib.pyplot as plt\n",
        "import numpy as np"
      ],
      "execution_count": 44,
      "outputs": []
    },
    {
      "cell_type": "code",
      "metadata": {
        "colab": {
          "base_uri": "https://localhost:8080/",
          "height": 204
        },
        "id": "xhpvlE89aIId",
        "outputId": "7167a1c3-408c-42d7-aecb-53c0d9025f4d"
      },
      "source": [
        "insurance = pd.read_csv(\"/content/insurance.csv\")\n",
        "insurance.head(5)"
      ],
      "execution_count": 45,
      "outputs": [
        {
          "output_type": "execute_result",
          "data": {
            "text/html": [
              "<div>\n",
              "<style scoped>\n",
              "    .dataframe tbody tr th:only-of-type {\n",
              "        vertical-align: middle;\n",
              "    }\n",
              "\n",
              "    .dataframe tbody tr th {\n",
              "        vertical-align: top;\n",
              "    }\n",
              "\n",
              "    .dataframe thead th {\n",
              "        text-align: right;\n",
              "    }\n",
              "</style>\n",
              "<table border=\"1\" class=\"dataframe\">\n",
              "  <thead>\n",
              "    <tr style=\"text-align: right;\">\n",
              "      <th></th>\n",
              "      <th>age</th>\n",
              "      <th>sex</th>\n",
              "      <th>bmi</th>\n",
              "      <th>children</th>\n",
              "      <th>smoker</th>\n",
              "      <th>region</th>\n",
              "      <th>charges</th>\n",
              "    </tr>\n",
              "  </thead>\n",
              "  <tbody>\n",
              "    <tr>\n",
              "      <th>0</th>\n",
              "      <td>19</td>\n",
              "      <td>female</td>\n",
              "      <td>27.900</td>\n",
              "      <td>0</td>\n",
              "      <td>yes</td>\n",
              "      <td>southwest</td>\n",
              "      <td>16884.92400</td>\n",
              "    </tr>\n",
              "    <tr>\n",
              "      <th>1</th>\n",
              "      <td>18</td>\n",
              "      <td>male</td>\n",
              "      <td>33.770</td>\n",
              "      <td>1</td>\n",
              "      <td>no</td>\n",
              "      <td>southeast</td>\n",
              "      <td>1725.55230</td>\n",
              "    </tr>\n",
              "    <tr>\n",
              "      <th>2</th>\n",
              "      <td>28</td>\n",
              "      <td>male</td>\n",
              "      <td>33.000</td>\n",
              "      <td>3</td>\n",
              "      <td>no</td>\n",
              "      <td>southeast</td>\n",
              "      <td>4449.46200</td>\n",
              "    </tr>\n",
              "    <tr>\n",
              "      <th>3</th>\n",
              "      <td>33</td>\n",
              "      <td>male</td>\n",
              "      <td>22.705</td>\n",
              "      <td>0</td>\n",
              "      <td>no</td>\n",
              "      <td>northwest</td>\n",
              "      <td>21984.47061</td>\n",
              "    </tr>\n",
              "    <tr>\n",
              "      <th>4</th>\n",
              "      <td>32</td>\n",
              "      <td>male</td>\n",
              "      <td>28.880</td>\n",
              "      <td>0</td>\n",
              "      <td>no</td>\n",
              "      <td>northwest</td>\n",
              "      <td>3866.85520</td>\n",
              "    </tr>\n",
              "  </tbody>\n",
              "</table>\n",
              "</div>"
            ],
            "text/plain": [
              "   age     sex     bmi  children smoker     region      charges\n",
              "0   19  female  27.900         0    yes  southwest  16884.92400\n",
              "1   18    male  33.770         1     no  southeast   1725.55230\n",
              "2   28    male  33.000         3     no  southeast   4449.46200\n",
              "3   33    male  22.705         0     no  northwest  21984.47061\n",
              "4   32    male  28.880         0     no  northwest   3866.85520"
            ]
          },
          "metadata": {
            "tags": []
          },
          "execution_count": 45
        }
      ]
    },
    {
      "cell_type": "code",
      "metadata": {
        "colab": {
          "base_uri": "https://localhost:8080/",
          "height": 224
        },
        "id": "qstxGGhdbVGn",
        "outputId": "865ba2cf-df48-4cfd-97ad-db6f33c0e632"
      },
      "source": [
        "# one hot encoding\n",
        "insurance_one_hot = pd.get_dummies(insurance)\n",
        "insurance_one_hot.head()"
      ],
      "execution_count": 46,
      "outputs": [
        {
          "output_type": "execute_result",
          "data": {
            "text/html": [
              "<div>\n",
              "<style scoped>\n",
              "    .dataframe tbody tr th:only-of-type {\n",
              "        vertical-align: middle;\n",
              "    }\n",
              "\n",
              "    .dataframe tbody tr th {\n",
              "        vertical-align: top;\n",
              "    }\n",
              "\n",
              "    .dataframe thead th {\n",
              "        text-align: right;\n",
              "    }\n",
              "</style>\n",
              "<table border=\"1\" class=\"dataframe\">\n",
              "  <thead>\n",
              "    <tr style=\"text-align: right;\">\n",
              "      <th></th>\n",
              "      <th>age</th>\n",
              "      <th>bmi</th>\n",
              "      <th>children</th>\n",
              "      <th>charges</th>\n",
              "      <th>sex_female</th>\n",
              "      <th>sex_male</th>\n",
              "      <th>smoker_no</th>\n",
              "      <th>smoker_yes</th>\n",
              "      <th>region_northeast</th>\n",
              "      <th>region_northwest</th>\n",
              "      <th>region_southeast</th>\n",
              "      <th>region_southwest</th>\n",
              "    </tr>\n",
              "  </thead>\n",
              "  <tbody>\n",
              "    <tr>\n",
              "      <th>0</th>\n",
              "      <td>19</td>\n",
              "      <td>27.900</td>\n",
              "      <td>0</td>\n",
              "      <td>16884.92400</td>\n",
              "      <td>1</td>\n",
              "      <td>0</td>\n",
              "      <td>0</td>\n",
              "      <td>1</td>\n",
              "      <td>0</td>\n",
              "      <td>0</td>\n",
              "      <td>0</td>\n",
              "      <td>1</td>\n",
              "    </tr>\n",
              "    <tr>\n",
              "      <th>1</th>\n",
              "      <td>18</td>\n",
              "      <td>33.770</td>\n",
              "      <td>1</td>\n",
              "      <td>1725.55230</td>\n",
              "      <td>0</td>\n",
              "      <td>1</td>\n",
              "      <td>1</td>\n",
              "      <td>0</td>\n",
              "      <td>0</td>\n",
              "      <td>0</td>\n",
              "      <td>1</td>\n",
              "      <td>0</td>\n",
              "    </tr>\n",
              "    <tr>\n",
              "      <th>2</th>\n",
              "      <td>28</td>\n",
              "      <td>33.000</td>\n",
              "      <td>3</td>\n",
              "      <td>4449.46200</td>\n",
              "      <td>0</td>\n",
              "      <td>1</td>\n",
              "      <td>1</td>\n",
              "      <td>0</td>\n",
              "      <td>0</td>\n",
              "      <td>0</td>\n",
              "      <td>1</td>\n",
              "      <td>0</td>\n",
              "    </tr>\n",
              "    <tr>\n",
              "      <th>3</th>\n",
              "      <td>33</td>\n",
              "      <td>22.705</td>\n",
              "      <td>0</td>\n",
              "      <td>21984.47061</td>\n",
              "      <td>0</td>\n",
              "      <td>1</td>\n",
              "      <td>1</td>\n",
              "      <td>0</td>\n",
              "      <td>0</td>\n",
              "      <td>1</td>\n",
              "      <td>0</td>\n",
              "      <td>0</td>\n",
              "    </tr>\n",
              "    <tr>\n",
              "      <th>4</th>\n",
              "      <td>32</td>\n",
              "      <td>28.880</td>\n",
              "      <td>0</td>\n",
              "      <td>3866.85520</td>\n",
              "      <td>0</td>\n",
              "      <td>1</td>\n",
              "      <td>1</td>\n",
              "      <td>0</td>\n",
              "      <td>0</td>\n",
              "      <td>1</td>\n",
              "      <td>0</td>\n",
              "      <td>0</td>\n",
              "    </tr>\n",
              "  </tbody>\n",
              "</table>\n",
              "</div>"
            ],
            "text/plain": [
              "   age     bmi  children  ...  region_northwest  region_southeast  region_southwest\n",
              "0   19  27.900         0  ...                 0                 0                 1\n",
              "1   18  33.770         1  ...                 0                 1                 0\n",
              "2   28  33.000         3  ...                 0                 1                 0\n",
              "3   33  22.705         0  ...                 1                 0                 0\n",
              "4   32  28.880         0  ...                 1                 0                 0\n",
              "\n",
              "[5 rows x 12 columns]"
            ]
          },
          "metadata": {
            "tags": []
          },
          "execution_count": 46
        }
      ]
    },
    {
      "cell_type": "code",
      "metadata": {
        "id": "GkU2TnfFde63"
      },
      "source": [
        "X = insurance_one_hot.drop(\"charges\", axis = 1)\n",
        "y = insurance_one_hot[\"charges\"]"
      ],
      "execution_count": 47,
      "outputs": []
    },
    {
      "cell_type": "code",
      "metadata": {
        "colab": {
          "base_uri": "https://localhost:8080/"
        },
        "id": "SdWiupA5g2rB",
        "outputId": "32e19e0f-9393-40a4-9ede-d7a936a58180"
      },
      "source": [
        "# creating train and test set\n",
        "\n",
        "from sklearn.model_selection import train_test_split\n",
        "X_train, X_test, y_train, y_test = train_test_split(X, y, test_size = 0.2, random_state = 42)\n",
        "len(X), len(y), len(X_train), len(y_test)"
      ],
      "execution_count": 48,
      "outputs": [
        {
          "output_type": "execute_result",
          "data": {
            "text/plain": [
              "(1338, 1338, 1070, 268)"
            ]
          },
          "metadata": {
            "tags": []
          },
          "execution_count": 48
        }
      ]
    },
    {
      "cell_type": "code",
      "metadata": {
        "colab": {
          "base_uri": "https://localhost:8080/"
        },
        "id": "LzZY1zMchTXT",
        "outputId": "e1385bae-6348-47da-9834-652398ea7317"
      },
      "source": [
        "# model creation\n",
        "\n",
        "tf.random.set_seed(42)\n",
        "model_1 = tf.keras.Sequential([\n",
        "   tf.keras.layers.Dense(10, name = \"hidden_layer_1\"),\n",
        "   tf.keras.layers.Dense(10, name = \"hidden_layer_2\"),\n",
        "   tf.keras.layers.Dense(1, name = \"output_layer\")                            \n",
        "])\n",
        "model_1.compile(loss = tf.keras.losses.mae,\n",
        "                optimizer = tf.keras.optimizers.Adam(),\n",
        "                metrics = [\"mae\"])\n",
        "model_1.fit(X_train, y_train, epochs = 100)"
      ],
      "execution_count": 49,
      "outputs": [
        {
          "output_type": "stream",
          "text": [
            "Epoch 1/100\n",
            "34/34 [==============================] - 0s 1ms/step - loss: 13270.4051 - mae: 13270.4051\n",
            "Epoch 2/100\n",
            "34/34 [==============================] - 0s 1ms/step - loss: 12894.8277 - mae: 12894.8277\n",
            "Epoch 3/100\n",
            "34/34 [==============================] - 0s 1ms/step - loss: 12620.7679 - mae: 12620.7679\n",
            "Epoch 4/100\n",
            "34/34 [==============================] - 0s 1ms/step - loss: 13247.7530 - mae: 13247.7530\n",
            "Epoch 5/100\n",
            "34/34 [==============================] - 0s 1ms/step - loss: 13065.5436 - mae: 13065.5436\n",
            "Epoch 6/100\n",
            "34/34 [==============================] - 0s 1ms/step - loss: 12778.4015 - mae: 12778.4015\n",
            "Epoch 7/100\n",
            "34/34 [==============================] - 0s 2ms/step - loss: 12590.3453 - mae: 12590.3453\n",
            "Epoch 8/100\n",
            "34/34 [==============================] - 0s 1ms/step - loss: 12625.1679 - mae: 12625.1679\n",
            "Epoch 9/100\n",
            "34/34 [==============================] - 0s 1ms/step - loss: 12026.0685 - mae: 12026.0685\n",
            "Epoch 10/100\n",
            "34/34 [==============================] - 0s 1ms/step - loss: 11671.1638 - mae: 11671.1638\n",
            "Epoch 11/100\n",
            "34/34 [==============================] - 0s 1ms/step - loss: 11393.7109 - mae: 11393.7109\n",
            "Epoch 12/100\n",
            "34/34 [==============================] - 0s 1ms/step - loss: 10030.6306 - mae: 10030.6306\n",
            "Epoch 13/100\n",
            "34/34 [==============================] - 0s 1ms/step - loss: 9900.4049 - mae: 9900.4049\n",
            "Epoch 14/100\n",
            "34/34 [==============================] - 0s 1ms/step - loss: 8954.9644 - mae: 8954.9644\n",
            "Epoch 15/100\n",
            "34/34 [==============================] - 0s 1ms/step - loss: 8639.6329 - mae: 8639.6329\n",
            "Epoch 16/100\n",
            "34/34 [==============================] - 0s 1ms/step - loss: 8141.6571 - mae: 8141.6571\n",
            "Epoch 17/100\n",
            "34/34 [==============================] - 0s 1ms/step - loss: 7347.5024 - mae: 7347.5024\n",
            "Epoch 18/100\n",
            "34/34 [==============================] - 0s 1ms/step - loss: 7436.6810 - mae: 7436.6810\n",
            "Epoch 19/100\n",
            "34/34 [==============================] - 0s 1ms/step - loss: 7438.5070 - mae: 7438.5070\n",
            "Epoch 20/100\n",
            "34/34 [==============================] - 0s 2ms/step - loss: 7318.7261 - mae: 7318.7261\n",
            "Epoch 21/100\n",
            "34/34 [==============================] - 0s 1ms/step - loss: 6762.2071 - mae: 6762.2071\n",
            "Epoch 22/100\n",
            "34/34 [==============================] - 0s 2ms/step - loss: 6989.4297 - mae: 6989.4297\n",
            "Epoch 23/100\n",
            "34/34 [==============================] - 0s 1ms/step - loss: 7422.4038 - mae: 7422.4038\n",
            "Epoch 24/100\n",
            "34/34 [==============================] - 0s 1ms/step - loss: 7179.4637 - mae: 7179.4637\n",
            "Epoch 25/100\n",
            "34/34 [==============================] - 0s 1ms/step - loss: 7800.8419 - mae: 7800.8419\n",
            "Epoch 26/100\n",
            "34/34 [==============================] - 0s 1ms/step - loss: 7069.8695 - mae: 7069.8695\n",
            "Epoch 27/100\n",
            "34/34 [==============================] - 0s 1ms/step - loss: 7487.6856 - mae: 7487.6856\n",
            "Epoch 28/100\n",
            "34/34 [==============================] - 0s 1ms/step - loss: 7734.0862 - mae: 7734.0862\n",
            "Epoch 29/100\n",
            "34/34 [==============================] - 0s 1ms/step - loss: 7106.9758 - mae: 7106.9758\n",
            "Epoch 30/100\n",
            "34/34 [==============================] - 0s 1ms/step - loss: 7542.7807 - mae: 7542.7807\n",
            "Epoch 31/100\n",
            "34/34 [==============================] - 0s 1ms/step - loss: 7754.2794 - mae: 7754.2794\n",
            "Epoch 32/100\n",
            "34/34 [==============================] - 0s 1ms/step - loss: 7288.8803 - mae: 7288.8803\n",
            "Epoch 33/100\n",
            "34/34 [==============================] - 0s 1ms/step - loss: 7509.3621 - mae: 7509.3621\n",
            "Epoch 34/100\n",
            "34/34 [==============================] - 0s 1ms/step - loss: 7358.0180 - mae: 7358.0180\n",
            "Epoch 35/100\n",
            "34/34 [==============================] - 0s 1ms/step - loss: 7408.8589 - mae: 7408.8589\n",
            "Epoch 36/100\n",
            "34/34 [==============================] - 0s 1ms/step - loss: 7343.7837 - mae: 7343.7837\n",
            "Epoch 37/100\n",
            "34/34 [==============================] - 0s 1ms/step - loss: 7484.7900 - mae: 7484.7900\n",
            "Epoch 38/100\n",
            "34/34 [==============================] - 0s 1ms/step - loss: 7046.1845 - mae: 7046.1845\n",
            "Epoch 39/100\n",
            "34/34 [==============================] - 0s 1ms/step - loss: 7430.0061 - mae: 7430.0061\n",
            "Epoch 40/100\n",
            "34/34 [==============================] - 0s 1ms/step - loss: 7329.4032 - mae: 7329.4032\n",
            "Epoch 41/100\n",
            "34/34 [==============================] - 0s 1ms/step - loss: 7265.0959 - mae: 7265.0959\n",
            "Epoch 42/100\n",
            "34/34 [==============================] - 0s 1ms/step - loss: 7185.5704 - mae: 7185.5704\n",
            "Epoch 43/100\n",
            "34/34 [==============================] - 0s 1ms/step - loss: 7185.7593 - mae: 7185.7593\n",
            "Epoch 44/100\n",
            "34/34 [==============================] - 0s 1ms/step - loss: 7010.5561 - mae: 7010.5561\n",
            "Epoch 45/100\n",
            "34/34 [==============================] - 0s 1ms/step - loss: 7027.3131 - mae: 7027.3131\n",
            "Epoch 46/100\n",
            "34/34 [==============================] - 0s 1ms/step - loss: 6911.3246 - mae: 6911.3246\n",
            "Epoch 47/100\n",
            "34/34 [==============================] - 0s 1ms/step - loss: 7402.0895 - mae: 7402.0895\n",
            "Epoch 48/100\n",
            "34/34 [==============================] - 0s 1ms/step - loss: 7224.8026 - mae: 7224.8026\n",
            "Epoch 49/100\n",
            "34/34 [==============================] - 0s 1ms/step - loss: 6941.0976 - mae: 6941.0976\n",
            "Epoch 50/100\n",
            "34/34 [==============================] - 0s 1ms/step - loss: 7207.3626 - mae: 7207.3626\n",
            "Epoch 51/100\n",
            "34/34 [==============================] - 0s 1ms/step - loss: 7084.3996 - mae: 7084.3996\n",
            "Epoch 52/100\n",
            "34/34 [==============================] - 0s 1ms/step - loss: 7102.0369 - mae: 7102.0369\n",
            "Epoch 53/100\n",
            "34/34 [==============================] - 0s 1ms/step - loss: 6766.5201 - mae: 6766.5201\n",
            "Epoch 54/100\n",
            "34/34 [==============================] - 0s 1ms/step - loss: 7222.9675 - mae: 7222.9675\n",
            "Epoch 55/100\n",
            "34/34 [==============================] - 0s 1ms/step - loss: 6965.9247 - mae: 6965.9247\n",
            "Epoch 56/100\n",
            "34/34 [==============================] - 0s 1ms/step - loss: 7056.3701 - mae: 7056.3701\n",
            "Epoch 57/100\n",
            "34/34 [==============================] - 0s 1ms/step - loss: 7321.7547 - mae: 7321.7547\n",
            "Epoch 58/100\n",
            "34/34 [==============================] - 0s 1ms/step - loss: 7098.1982 - mae: 7098.1982\n",
            "Epoch 59/100\n",
            "34/34 [==============================] - 0s 1ms/step - loss: 6692.0975 - mae: 6692.0975\n",
            "Epoch 60/100\n",
            "34/34 [==============================] - 0s 1ms/step - loss: 7018.7633 - mae: 7018.7633\n",
            "Epoch 61/100\n",
            "34/34 [==============================] - 0s 1ms/step - loss: 7520.6365 - mae: 7520.6365\n",
            "Epoch 62/100\n",
            "34/34 [==============================] - 0s 1ms/step - loss: 7114.1664 - mae: 7114.1664\n",
            "Epoch 63/100\n",
            "34/34 [==============================] - 0s 1ms/step - loss: 7161.3284 - mae: 7161.3284\n",
            "Epoch 64/100\n",
            "34/34 [==============================] - 0s 1ms/step - loss: 6680.1084 - mae: 6680.1084\n",
            "Epoch 65/100\n",
            "34/34 [==============================] - 0s 1ms/step - loss: 7072.3271 - mae: 7072.3271\n",
            "Epoch 66/100\n",
            "34/34 [==============================] - 0s 1ms/step - loss: 6781.0659 - mae: 6781.0659\n",
            "Epoch 67/100\n",
            "34/34 [==============================] - 0s 1ms/step - loss: 6892.3146 - mae: 6892.3146\n",
            "Epoch 68/100\n",
            "34/34 [==============================] - 0s 1ms/step - loss: 6881.0607 - mae: 6881.0607\n",
            "Epoch 69/100\n",
            "34/34 [==============================] - 0s 1ms/step - loss: 7393.9511 - mae: 7393.9511\n",
            "Epoch 70/100\n",
            "34/34 [==============================] - 0s 1ms/step - loss: 6571.9916 - mae: 6571.9916\n",
            "Epoch 71/100\n",
            "34/34 [==============================] - 0s 1ms/step - loss: 6976.8778 - mae: 6976.8778\n",
            "Epoch 72/100\n",
            "34/34 [==============================] - 0s 1ms/step - loss: 6656.4962 - mae: 6656.4962\n",
            "Epoch 73/100\n",
            "34/34 [==============================] - 0s 1ms/step - loss: 7164.3926 - mae: 7164.3926\n",
            "Epoch 74/100\n",
            "34/34 [==============================] - 0s 1ms/step - loss: 6991.6177 - mae: 6991.6177\n",
            "Epoch 75/100\n",
            "34/34 [==============================] - 0s 1ms/step - loss: 7306.0483 - mae: 7306.0483\n",
            "Epoch 76/100\n",
            "34/34 [==============================] - 0s 1ms/step - loss: 6564.4590 - mae: 6564.4590\n",
            "Epoch 77/100\n",
            "34/34 [==============================] - 0s 1ms/step - loss: 7350.4072 - mae: 7350.4072\n",
            "Epoch 78/100\n",
            "34/34 [==============================] - 0s 1ms/step - loss: 6398.5738 - mae: 6398.5738\n",
            "Epoch 79/100\n",
            "34/34 [==============================] - 0s 1ms/step - loss: 6022.4136 - mae: 6022.4136\n",
            "Epoch 80/100\n",
            "34/34 [==============================] - 0s 1ms/step - loss: 6134.1717 - mae: 6134.1717\n",
            "Epoch 81/100\n",
            "34/34 [==============================] - 0s 1ms/step - loss: 6744.8627 - mae: 6744.8627\n",
            "Epoch 82/100\n",
            "34/34 [==============================] - 0s 1ms/step - loss: 7513.2152 - mae: 7513.2152\n",
            "Epoch 83/100\n",
            "34/34 [==============================] - 0s 1ms/step - loss: 6664.2212 - mae: 6664.2212\n",
            "Epoch 84/100\n",
            "34/34 [==============================] - 0s 1ms/step - loss: 6544.1143 - mae: 6544.1143\n",
            "Epoch 85/100\n",
            "34/34 [==============================] - 0s 1ms/step - loss: 6146.2151 - mae: 6146.2151\n",
            "Epoch 86/100\n",
            "34/34 [==============================] - 0s 1ms/step - loss: 6973.4904 - mae: 6973.4904\n",
            "Epoch 87/100\n",
            "34/34 [==============================] - 0s 1ms/step - loss: 6447.2311 - mae: 6447.2311\n",
            "Epoch 88/100\n",
            "34/34 [==============================] - 0s 1ms/step - loss: 6851.1657 - mae: 6851.1657\n",
            "Epoch 89/100\n",
            "34/34 [==============================] - 0s 1ms/step - loss: 6517.7195 - mae: 6517.7195\n",
            "Epoch 90/100\n",
            "34/34 [==============================] - 0s 1ms/step - loss: 7094.2315 - mae: 7094.2315\n",
            "Epoch 91/100\n",
            "34/34 [==============================] - 0s 1ms/step - loss: 6773.7360 - mae: 6773.7360\n",
            "Epoch 92/100\n",
            "34/34 [==============================] - 0s 1ms/step - loss: 6842.8780 - mae: 6842.8780\n",
            "Epoch 93/100\n",
            "34/34 [==============================] - 0s 1ms/step - loss: 6349.2476 - mae: 6349.2476\n",
            "Epoch 94/100\n",
            "34/34 [==============================] - 0s 1ms/step - loss: 6229.3948 - mae: 6229.3948\n",
            "Epoch 95/100\n",
            "34/34 [==============================] - 0s 1ms/step - loss: 6699.3273 - mae: 6699.3273\n",
            "Epoch 96/100\n",
            "34/34 [==============================] - 0s 1ms/step - loss: 6841.1878 - mae: 6841.1878\n",
            "Epoch 97/100\n",
            "34/34 [==============================] - 0s 1ms/step - loss: 6162.7883 - mae: 6162.7883\n",
            "Epoch 98/100\n",
            "34/34 [==============================] - 0s 1ms/step - loss: 6300.1444 - mae: 6300.1444\n",
            "Epoch 99/100\n",
            "34/34 [==============================] - 0s 1ms/step - loss: 6045.2367 - mae: 6045.2367\n",
            "Epoch 100/100\n",
            "34/34 [==============================] - 0s 1ms/step - loss: 6151.1250 - mae: 6151.1250\n"
          ],
          "name": "stdout"
        },
        {
          "output_type": "execute_result",
          "data": {
            "text/plain": [
              "<tensorflow.python.keras.callbacks.History at 0x7f2ca2a16e90>"
            ]
          },
          "metadata": {
            "tags": []
          },
          "execution_count": 49
        }
      ]
    },
    {
      "cell_type": "code",
      "metadata": {
        "colab": {
          "base_uri": "https://localhost:8080/"
        },
        "id": "wCy4VTCIr7YH",
        "outputId": "22d737bf-7779-4b0a-b6d7-a7e43704c6c5"
      },
      "source": [
        "model_1.evaluate(X_test, y_test)"
      ],
      "execution_count": 50,
      "outputs": [
        {
          "output_type": "stream",
          "text": [
            "9/9 [==============================] - 0s 1ms/step - loss: 6417.2144 - mae: 6417.2144\n"
          ],
          "name": "stdout"
        },
        {
          "output_type": "execute_result",
          "data": {
            "text/plain": [
              "[6417.21435546875, 6417.21435546875]"
            ]
          },
          "metadata": {
            "tags": []
          },
          "execution_count": 50
        }
      ]
    },
    {
      "cell_type": "code",
      "metadata": {
        "colab": {
          "base_uri": "https://localhost:8080/"
        },
        "id": "A7xmtKKOsQO_",
        "outputId": "b01d0fcf-86a8-4566-df76-2b0a5b6dbc49"
      },
      "source": [
        "# time to improve\n",
        "\n",
        "tf.random.set_seed(42)\n",
        "model_2 = tf.keras.Sequential([\n",
        "   tf.keras.layers.Dense(50, name = \"hidden_layer_1\"),\n",
        "   tf.keras.layers.Dense(50, name = \"hidden_layer_2\"),\n",
        "   tf.keras.layers.Dense(1, name = \"output_layer\")                            \n",
        "])\n",
        "model_2.compile(loss = tf.keras.losses.mae,\n",
        "                optimizer = tf.keras.optimizers.Adam(lr = 0.01),\n",
        "                metrics = [\"mae\"])\n",
        "history = model_2.fit(X_train, y_train, epochs = 100)"
      ],
      "execution_count": 51,
      "outputs": [
        {
          "output_type": "stream",
          "text": [
            "Epoch 1/100\n",
            "34/34 [==============================] - 0s 1ms/step - loss: 12280.4355 - mae: 12280.4355\n",
            "Epoch 2/100\n",
            "34/34 [==============================] - 0s 1ms/step - loss: 7509.0588 - mae: 7509.0588\n",
            "Epoch 3/100\n",
            "34/34 [==============================] - 0s 1ms/step - loss: 6865.2532 - mae: 6865.2532\n",
            "Epoch 4/100\n",
            "34/34 [==============================] - 0s 1ms/step - loss: 7301.5391 - mae: 7301.5391\n",
            "Epoch 5/100\n",
            "34/34 [==============================] - 0s 1ms/step - loss: 6890.4101 - mae: 6890.4101\n",
            "Epoch 6/100\n",
            "34/34 [==============================] - 0s 1ms/step - loss: 6513.4335 - mae: 6513.4335\n",
            "Epoch 7/100\n",
            "34/34 [==============================] - 0s 1ms/step - loss: 6244.2856 - mae: 6244.2856\n",
            "Epoch 8/100\n",
            "34/34 [==============================] - 0s 1ms/step - loss: 6356.3897 - mae: 6356.3897\n",
            "Epoch 9/100\n",
            "34/34 [==============================] - 0s 1ms/step - loss: 6026.3953 - mae: 6026.3953\n",
            "Epoch 10/100\n",
            "34/34 [==============================] - 0s 1ms/step - loss: 5816.1341 - mae: 5816.1341\n",
            "Epoch 11/100\n",
            "34/34 [==============================] - 0s 1ms/step - loss: 5430.5742 - mae: 5430.5742\n",
            "Epoch 12/100\n",
            "34/34 [==============================] - 0s 1ms/step - loss: 4321.5177 - mae: 4321.5177\n",
            "Epoch 13/100\n",
            "34/34 [==============================] - 0s 1ms/step - loss: 4078.3833 - mae: 4078.3833\n",
            "Epoch 14/100\n",
            "34/34 [==============================] - 0s 1ms/step - loss: 3862.8713 - mae: 3862.8713\n",
            "Epoch 15/100\n",
            "34/34 [==============================] - 0s 1ms/step - loss: 4043.8550 - mae: 4043.8550\n",
            "Epoch 16/100\n",
            "34/34 [==============================] - 0s 1ms/step - loss: 4115.1929 - mae: 4115.1929\n",
            "Epoch 17/100\n",
            "34/34 [==============================] - 0s 1ms/step - loss: 3568.4760 - mae: 3568.4760\n",
            "Epoch 18/100\n",
            "34/34 [==============================] - 0s 1ms/step - loss: 3611.9288 - mae: 3611.9288\n",
            "Epoch 19/100\n",
            "34/34 [==============================] - 0s 1ms/step - loss: 3668.6891 - mae: 3668.6891\n",
            "Epoch 20/100\n",
            "34/34 [==============================] - 0s 1ms/step - loss: 3661.8711 - mae: 3661.8711\n",
            "Epoch 21/100\n",
            "34/34 [==============================] - 0s 1ms/step - loss: 3579.8125 - mae: 3579.8125\n",
            "Epoch 22/100\n",
            "34/34 [==============================] - 0s 1ms/step - loss: 3573.1694 - mae: 3573.1694\n",
            "Epoch 23/100\n",
            "34/34 [==============================] - 0s 1ms/step - loss: 3706.7170 - mae: 3706.7170\n",
            "Epoch 24/100\n",
            "34/34 [==============================] - 0s 1ms/step - loss: 3506.9929 - mae: 3506.9929\n",
            "Epoch 25/100\n",
            "34/34 [==============================] - 0s 1ms/step - loss: 4054.2200 - mae: 4054.2200\n",
            "Epoch 26/100\n",
            "34/34 [==============================] - 0s 1ms/step - loss: 3601.6946 - mae: 3601.6946\n",
            "Epoch 27/100\n",
            "34/34 [==============================] - 0s 1ms/step - loss: 3892.7966 - mae: 3892.7966\n",
            "Epoch 28/100\n",
            "34/34 [==============================] - 0s 1ms/step - loss: 3878.8722 - mae: 3878.8722\n",
            "Epoch 29/100\n",
            "34/34 [==============================] - 0s 1ms/step - loss: 3444.1690 - mae: 3444.1690\n",
            "Epoch 30/100\n",
            "34/34 [==============================] - 0s 2ms/step - loss: 3787.3692 - mae: 3787.3692\n",
            "Epoch 31/100\n",
            "34/34 [==============================] - 0s 1ms/step - loss: 3774.3036 - mae: 3774.3036\n",
            "Epoch 32/100\n",
            "34/34 [==============================] - 0s 1ms/step - loss: 3627.6329 - mae: 3627.6329\n",
            "Epoch 33/100\n",
            "34/34 [==============================] - 0s 1ms/step - loss: 3737.2256 - mae: 3737.2256\n",
            "Epoch 34/100\n",
            "34/34 [==============================] - 0s 1ms/step - loss: 3446.1308 - mae: 3446.1308\n",
            "Epoch 35/100\n",
            "34/34 [==============================] - 0s 1ms/step - loss: 3604.6515 - mae: 3604.6515\n",
            "Epoch 36/100\n",
            "34/34 [==============================] - 0s 1ms/step - loss: 3598.6580 - mae: 3598.6580\n",
            "Epoch 37/100\n",
            "34/34 [==============================] - 0s 1ms/step - loss: 3683.9023 - mae: 3683.9023\n",
            "Epoch 38/100\n",
            "34/34 [==============================] - 0s 1ms/step - loss: 3615.8987 - mae: 3615.8987\n",
            "Epoch 39/100\n",
            "34/34 [==============================] - 0s 1ms/step - loss: 3626.4881 - mae: 3626.4881\n",
            "Epoch 40/100\n",
            "34/34 [==============================] - 0s 1ms/step - loss: 3624.6016 - mae: 3624.6016\n",
            "Epoch 41/100\n",
            "34/34 [==============================] - 0s 1ms/step - loss: 3261.7942 - mae: 3261.7942\n",
            "Epoch 42/100\n",
            "34/34 [==============================] - 0s 1ms/step - loss: 3498.4688 - mae: 3498.4688\n",
            "Epoch 43/100\n",
            "34/34 [==============================] - 0s 1ms/step - loss: 3719.3529 - mae: 3719.3529\n",
            "Epoch 44/100\n",
            "34/34 [==============================] - 0s 1ms/step - loss: 3331.8455 - mae: 3331.8455\n",
            "Epoch 45/100\n",
            "34/34 [==============================] - 0s 2ms/step - loss: 3488.8374 - mae: 3488.8374\n",
            "Epoch 46/100\n",
            "34/34 [==============================] - 0s 1ms/step - loss: 3326.6157 - mae: 3326.6157\n",
            "Epoch 47/100\n",
            "34/34 [==============================] - 0s 1ms/step - loss: 3602.8906 - mae: 3602.8906\n",
            "Epoch 48/100\n",
            "34/34 [==============================] - 0s 1ms/step - loss: 3546.1009 - mae: 3546.1009\n",
            "Epoch 49/100\n",
            "34/34 [==============================] - 0s 1ms/step - loss: 3898.8712 - mae: 3898.8712\n",
            "Epoch 50/100\n",
            "34/34 [==============================] - 0s 1ms/step - loss: 3581.2406 - mae: 3581.2406\n",
            "Epoch 51/100\n",
            "34/34 [==============================] - 0s 1ms/step - loss: 3366.8382 - mae: 3366.8382\n",
            "Epoch 52/100\n",
            "34/34 [==============================] - 0s 1ms/step - loss: 3395.0452 - mae: 3395.0452\n",
            "Epoch 53/100\n",
            "34/34 [==============================] - 0s 1ms/step - loss: 3469.2125 - mae: 3469.2125\n",
            "Epoch 54/100\n",
            "34/34 [==============================] - 0s 1ms/step - loss: 3525.9679 - mae: 3525.9679\n",
            "Epoch 55/100\n",
            "34/34 [==============================] - 0s 1ms/step - loss: 3558.0240 - mae: 3558.0240\n",
            "Epoch 56/100\n",
            "34/34 [==============================] - 0s 1ms/step - loss: 3659.2005 - mae: 3659.2005\n",
            "Epoch 57/100\n",
            "34/34 [==============================] - 0s 1ms/step - loss: 3615.3896 - mae: 3615.3896\n",
            "Epoch 58/100\n",
            "34/34 [==============================] - 0s 1ms/step - loss: 3580.8472 - mae: 3580.8472\n",
            "Epoch 59/100\n",
            "34/34 [==============================] - 0s 1ms/step - loss: 3270.3440 - mae: 3270.3440\n",
            "Epoch 60/100\n",
            "34/34 [==============================] - 0s 1ms/step - loss: 3582.4969 - mae: 3582.4969\n",
            "Epoch 61/100\n",
            "34/34 [==============================] - 0s 1ms/step - loss: 3476.1069 - mae: 3476.1069\n",
            "Epoch 62/100\n",
            "34/34 [==============================] - 0s 1ms/step - loss: 3676.8360 - mae: 3676.8360\n",
            "Epoch 63/100\n",
            "34/34 [==============================] - 0s 1ms/step - loss: 3540.4260 - mae: 3540.4260\n",
            "Epoch 64/100\n",
            "34/34 [==============================] - 0s 1ms/step - loss: 3514.8938 - mae: 3514.8938\n",
            "Epoch 65/100\n",
            "34/34 [==============================] - 0s 1ms/step - loss: 3493.9005 - mae: 3493.9005\n",
            "Epoch 66/100\n",
            "34/34 [==============================] - 0s 1ms/step - loss: 3445.2242 - mae: 3445.2242\n",
            "Epoch 67/100\n",
            "34/34 [==============================] - 0s 1ms/step - loss: 3611.1566 - mae: 3611.1566\n",
            "Epoch 68/100\n",
            "34/34 [==============================] - 0s 1ms/step - loss: 3649.0310 - mae: 3649.0310\n",
            "Epoch 69/100\n",
            "34/34 [==============================] - 0s 1ms/step - loss: 3498.5426 - mae: 3498.5426\n",
            "Epoch 70/100\n",
            "34/34 [==============================] - 0s 1ms/step - loss: 3350.6917 - mae: 3350.6917\n",
            "Epoch 71/100\n",
            "34/34 [==============================] - 0s 1ms/step - loss: 3572.2181 - mae: 3572.2181\n",
            "Epoch 72/100\n",
            "34/34 [==============================] - 0s 1ms/step - loss: 3556.5284 - mae: 3556.5284\n",
            "Epoch 73/100\n",
            "34/34 [==============================] - 0s 1ms/step - loss: 3773.6941 - mae: 3773.6941\n",
            "Epoch 74/100\n",
            "34/34 [==============================] - 0s 1ms/step - loss: 3573.6561 - mae: 3573.6561\n",
            "Epoch 75/100\n",
            "34/34 [==============================] - 0s 1ms/step - loss: 3577.4054 - mae: 3577.4054\n",
            "Epoch 76/100\n",
            "34/34 [==============================] - 0s 1ms/step - loss: 3334.4603 - mae: 3334.4603\n",
            "Epoch 77/100\n",
            "34/34 [==============================] - 0s 1ms/step - loss: 3772.1244 - mae: 3772.1244\n",
            "Epoch 78/100\n",
            "34/34 [==============================] - 0s 1ms/step - loss: 3590.0735 - mae: 3590.0735\n",
            "Epoch 79/100\n",
            "34/34 [==============================] - 0s 1ms/step - loss: 3649.0102 - mae: 3649.0102\n",
            "Epoch 80/100\n",
            "34/34 [==============================] - 0s 1ms/step - loss: 3360.9717 - mae: 3360.9717\n",
            "Epoch 81/100\n",
            "34/34 [==============================] - 0s 1ms/step - loss: 3332.2562 - mae: 3332.2562\n",
            "Epoch 82/100\n",
            "34/34 [==============================] - 0s 1ms/step - loss: 3798.3675 - mae: 3798.3675\n",
            "Epoch 83/100\n",
            "34/34 [==============================] - 0s 1ms/step - loss: 3482.4647 - mae: 3482.4647\n",
            "Epoch 84/100\n",
            "34/34 [==============================] - 0s 1ms/step - loss: 3193.2915 - mae: 3193.2915\n",
            "Epoch 85/100\n",
            "34/34 [==============================] - 0s 1ms/step - loss: 3256.6568 - mae: 3256.6568\n",
            "Epoch 86/100\n",
            "34/34 [==============================] - 0s 1ms/step - loss: 3555.8323 - mae: 3555.8323\n",
            "Epoch 87/100\n",
            "34/34 [==============================] - 0s 1ms/step - loss: 3438.9244 - mae: 3438.9244\n",
            "Epoch 88/100\n",
            "34/34 [==============================] - 0s 1ms/step - loss: 3540.2651 - mae: 3540.2651\n",
            "Epoch 89/100\n",
            "34/34 [==============================] - 0s 1ms/step - loss: 3363.4146 - mae: 3363.4146\n",
            "Epoch 90/100\n",
            "34/34 [==============================] - 0s 2ms/step - loss: 3590.1815 - mae: 3590.1815\n",
            "Epoch 91/100\n",
            "34/34 [==============================] - 0s 1ms/step - loss: 3580.3178 - mae: 3580.3178\n",
            "Epoch 92/100\n",
            "34/34 [==============================] - 0s 1ms/step - loss: 3779.5910 - mae: 3779.5910\n",
            "Epoch 93/100\n",
            "34/34 [==============================] - 0s 1ms/step - loss: 3744.9397 - mae: 3744.9397\n",
            "Epoch 94/100\n",
            "34/34 [==============================] - 0s 1ms/step - loss: 3567.0667 - mae: 3567.0667\n",
            "Epoch 95/100\n",
            "34/34 [==============================] - 0s 1ms/step - loss: 3412.5223 - mae: 3412.5223\n",
            "Epoch 96/100\n",
            "34/34 [==============================] - 0s 1ms/step - loss: 3304.1629 - mae: 3304.1629\n",
            "Epoch 97/100\n",
            "34/34 [==============================] - 0s 1ms/step - loss: 3399.1524 - mae: 3399.1524\n",
            "Epoch 98/100\n",
            "34/34 [==============================] - 0s 1ms/step - loss: 3589.9426 - mae: 3589.9426\n",
            "Epoch 99/100\n",
            "34/34 [==============================] - 0s 1ms/step - loss: 3222.7988 - mae: 3222.7988\n",
            "Epoch 100/100\n",
            "34/34 [==============================] - 0s 1ms/step - loss: 3275.7110 - mae: 3275.7110\n"
          ],
          "name": "stdout"
        }
      ]
    },
    {
      "cell_type": "code",
      "metadata": {
        "colab": {
          "base_uri": "https://localhost:8080/"
        },
        "id": "6KkcCM1js50H",
        "outputId": "7fc506a7-b3b4-40bd-9e20-1bbcd41b476d"
      },
      "source": [
        "model_2.evaluate(X_test, y_test)"
      ],
      "execution_count": 52,
      "outputs": [
        {
          "output_type": "stream",
          "text": [
            "9/9 [==============================] - 0s 1ms/step - loss: 3189.0581 - mae: 3189.0581\n"
          ],
          "name": "stdout"
        },
        {
          "output_type": "execute_result",
          "data": {
            "text/plain": [
              "[3189.05810546875, 3189.05810546875]"
            ]
          },
          "metadata": {
            "tags": []
          },
          "execution_count": 52
        }
      ]
    },
    {
      "cell_type": "code",
      "metadata": {
        "colab": {
          "base_uri": "https://localhost:8080/",
          "height": 265
        },
        "id": "SsRvJf_et9e6",
        "outputId": "4fd40801-46ea-47d2-ae3a-10fd26c55279"
      },
      "source": [
        "# time for some loss curves\n",
        "\n",
        "pd.DataFrame(history.history).plot()\n",
        "plt.ylabel = \"loss\"\n",
        "plt.xlabel = \"epochs\""
      ],
      "execution_count": 53,
      "outputs": [
        {
          "output_type": "display_data",
          "data": {
            "image/png": "[encoded data removed]",
            "text/plain": [
              "<Figure size 432x288 with 1 Axes>"
            ]
          },
          "metadata": {
            "tags": [],
            "needs_background": "light"
          }
        }
      ]
    },
    {
      "cell_type": "code",
      "metadata": {
        "colab": {
          "base_uri": "https://localhost:8080/",
          "height": 282
        },
        "id": "hkyieOpy3vBM",
        "outputId": "ebd8cb8e-18f0-4e56-e8ef-4ab0d8eab430"
      },
      "source": [
        "# normalization and standardization\n",
        "\n",
        "X[\"age\"].plot(kind = \"hist\")"
      ],
      "execution_count": 54,
      "outputs": [
        {
          "output_type": "execute_result",
          "data": {
            "text/plain": [
              "<matplotlib.axes._subplots.AxesSubplot at 0x7f2ca3670f50>"
            ]
          },
          "metadata": {
            "tags": []
          },
          "execution_count": 54
        },
        {
          "output_type": "display_data",
          "data": {
            "image/png": "[encoded data removed]",
            "text/plain": [
              "<Figure size 432x288 with 1 Axes>"
            ]
          },
          "metadata": {
            "tags": [],
            "needs_background": "light"
          }
        }
      ]
    },
    {
      "cell_type": "code",
      "metadata": {
        "colab": {
          "base_uri": "https://localhost:8080/"
        },
        "id": "qxcT1yihEUXr",
        "outputId": "b67f831f-d2dc-4615-dc8a-00102de4f79b"
      },
      "source": [
        "X[\"children\"].value_counts()"
      ],
      "execution_count": 55,
      "outputs": [
        {
          "output_type": "execute_result",
          "data": {
            "text/plain": [
              "0    574\n",
              "1    324\n",
              "2    240\n",
              "3    157\n",
              "4     25\n",
              "5     18\n",
              "Name: children, dtype: int64"
            ]
          },
          "metadata": {
            "tags": []
          },
          "execution_count": 55
        }
      ]
    },
    {
      "cell_type": "code",
      "metadata": {
        "id": "BE4l43ElEfN7"
      },
      "source": [
        "from sklearn.compose import make_column_transformer\n",
        "from sklearn.preprocessing import MinMaxScaler, OneHotEncoder\n",
        "\n",
        "ct = make_column_transformer(\n",
        "    (MinMaxScaler(), [\"age\", \"children\", \"bmi\"]),\n",
        "    (OneHotEncoder(handle_unknown = \"ignore\"), [\"sex\", \"smoker\", \"region\"])\n",
        ")\n",
        "\n",
        "X = insurance.drop([\"charges\"], axis = 1)\n",
        "y = insurance[\"charges\"]\n",
        "\n",
        "X_train, X_test, y_train, y_test = train_test_split(X, y, test_size = 0.2, random_state = 42)\n",
        "\n",
        "ct.fit(X_train)\n",
        "X_train_normal = ct.transform(X_train)\n",
        "X_test_normal = ct.transform(X_test)"
      ],
      "execution_count": 56,
      "outputs": []
    },
    {
      "cell_type": "code",
      "metadata": {
        "colab": {
          "base_uri": "https://localhost:8080/"
        },
        "id": "FLnt671WJ-Ba",
        "outputId": "a7d48ec8-b8b2-4ee4-c92a-e051f0e9d277"
      },
      "source": [
        "X_train_normal[0]"
      ],
      "execution_count": 57,
      "outputs": [
        {
          "output_type": "execute_result",
          "data": {
            "text/plain": [
              "array([0.60869565, 0.4       , 0.10734463, 1.        , 0.        ,\n",
              "       1.        , 0.        , 0.        , 1.        , 0.        ,\n",
              "       0.        ])"
            ]
          },
          "metadata": {
            "tags": []
          },
          "execution_count": 57
        }
      ]
    },
    {
      "cell_type": "code",
      "metadata": {
        "colab": {
          "base_uri": "https://localhost:8080/"
        },
        "id": "_1RuAj7OKtZt",
        "outputId": "e6b7cb21-a1d9-4f78-8348-96e4bd294844"
      },
      "source": [
        "model_5 = tf.keras.Sequential([\n",
        "    tf.keras.layers.Dense(64, activation = \"relu\", name = \"hidden_1\"),\n",
        "    tf.keras.layers.Dense(64, activation = \"relu\", name = \"hidden_2\"),\n",
        "    tf.keras.layers.Dense(1, name = \"output_layer\")\n",
        "])\n",
        "model_5.compile(loss = tf.keras.losses.mae,\n",
        "                optimizer = tf.keras.optimizers.Adam(lr = 0.01),\n",
        "                metrics = [\"mae\"])\n",
        "\n",
        "history = model_5.fit(X_train_normal, y_train, epochs = 100)"
      ],
      "execution_count": 60,
      "outputs": [
        {
          "output_type": "stream",
          "text": [
            "Epoch 1/100\n",
            "34/34 [==============================] - 0s 1ms/step - loss: 13252.7725 - mae: 13252.7725\n",
            "Epoch 2/100\n",
            "34/34 [==============================] - 0s 1ms/step - loss: 11242.0971 - mae: 11242.0971\n",
            "Epoch 3/100\n",
            "34/34 [==============================] - 0s 1ms/step - loss: 7483.2068 - mae: 7483.2068\n",
            "Epoch 4/100\n",
            "34/34 [==============================] - 0s 1ms/step - loss: 7613.9657 - mae: 7613.9657\n",
            "Epoch 5/100\n",
            "34/34 [==============================] - 0s 1ms/step - loss: 6683.8411 - mae: 6683.8411\n",
            "Epoch 6/100\n",
            "34/34 [==============================] - 0s 1ms/step - loss: 5540.0283 - mae: 5540.0283\n",
            "Epoch 7/100\n",
            "34/34 [==============================] - 0s 1ms/step - loss: 4016.1337 - mae: 4016.1337\n",
            "Epoch 8/100\n",
            "34/34 [==============================] - 0s 1ms/step - loss: 3733.0230 - mae: 3733.0230\n",
            "Epoch 9/100\n",
            "34/34 [==============================] - 0s 1ms/step - loss: 3468.0437 - mae: 3468.0437\n",
            "Epoch 10/100\n",
            "34/34 [==============================] - 0s 2ms/step - loss: 3390.3898 - mae: 3390.3898\n",
            "Epoch 11/100\n",
            "34/34 [==============================] - 0s 1ms/step - loss: 3641.3815 - mae: 3641.3815\n",
            "Epoch 12/100\n",
            "34/34 [==============================] - 0s 1ms/step - loss: 3439.2404 - mae: 3439.2404\n",
            "Epoch 13/100\n",
            "34/34 [==============================] - 0s 1ms/step - loss: 3542.1028 - mae: 3542.1028\n",
            "Epoch 14/100\n",
            "34/34 [==============================] - 0s 1ms/step - loss: 3128.2478 - mae: 3128.2478\n",
            "Epoch 15/100\n",
            "34/34 [==============================] - 0s 1ms/step - loss: 3392.0258 - mae: 3392.0258\n",
            "Epoch 16/100\n",
            "34/34 [==============================] - 0s 1ms/step - loss: 3297.7868 - mae: 3297.7868\n",
            "Epoch 17/100\n",
            "34/34 [==============================] - 0s 1ms/step - loss: 3138.4850 - mae: 3138.4850\n",
            "Epoch 18/100\n",
            "34/34 [==============================] - 0s 1ms/step - loss: 3051.0337 - mae: 3051.0337\n",
            "Epoch 19/100\n",
            "34/34 [==============================] - 0s 1ms/step - loss: 3124.5035 - mae: 3124.5035\n",
            "Epoch 20/100\n",
            "34/34 [==============================] - 0s 1ms/step - loss: 3269.3937 - mae: 3269.3937\n",
            "Epoch 21/100\n",
            "34/34 [==============================] - 0s 1ms/step - loss: 3015.5655 - mae: 3015.5655\n",
            "Epoch 22/100\n",
            "34/34 [==============================] - 0s 1ms/step - loss: 3017.9002 - mae: 3017.9002\n",
            "Epoch 23/100\n",
            "34/34 [==============================] - 0s 1ms/step - loss: 3083.8878 - mae: 3083.8878\n",
            "Epoch 24/100\n",
            "34/34 [==============================] - 0s 2ms/step - loss: 2906.2233 - mae: 2906.2233\n",
            "Epoch 25/100\n",
            "34/34 [==============================] - 0s 1ms/step - loss: 3532.9478 - mae: 3532.9478\n",
            "Epoch 26/100\n",
            "34/34 [==============================] - 0s 1ms/step - loss: 3173.3825 - mae: 3173.3825\n",
            "Epoch 27/100\n",
            "34/34 [==============================] - 0s 1ms/step - loss: 3401.0462 - mae: 3401.0462\n",
            "Epoch 28/100\n",
            "34/34 [==============================] - 0s 1ms/step - loss: 3219.8301 - mae: 3219.8301\n",
            "Epoch 29/100\n",
            "34/34 [==============================] - 0s 1ms/step - loss: 3002.9877 - mae: 3002.9877\n",
            "Epoch 30/100\n",
            "34/34 [==============================] - 0s 1ms/step - loss: 3353.0533 - mae: 3353.0533\n",
            "Epoch 31/100\n",
            "34/34 [==============================] - 0s 2ms/step - loss: 3112.4307 - mae: 3112.4307\n",
            "Epoch 32/100\n",
            "34/34 [==============================] - 0s 1ms/step - loss: 3119.7686 - mae: 3119.7686\n",
            "Epoch 33/100\n",
            "34/34 [==============================] - 0s 1ms/step - loss: 3185.0050 - mae: 3185.0050\n",
            "Epoch 34/100\n",
            "34/34 [==============================] - 0s 1ms/step - loss: 3007.9534 - mae: 3007.9534\n",
            "Epoch 35/100\n",
            "34/34 [==============================] - 0s 1ms/step - loss: 3109.3512 - mae: 3109.3512\n",
            "Epoch 36/100\n",
            "34/34 [==============================] - 0s 1ms/step - loss: 3088.9144 - mae: 3088.9144\n",
            "Epoch 37/100\n",
            "34/34 [==============================] - 0s 1ms/step - loss: 3163.0964 - mae: 3163.0964\n",
            "Epoch 38/100\n",
            "34/34 [==============================] - 0s 1ms/step - loss: 3044.7691 - mae: 3044.7691\n",
            "Epoch 39/100\n",
            "34/34 [==============================] - 0s 1ms/step - loss: 3130.3400 - mae: 3130.3400\n",
            "Epoch 40/100\n",
            "34/34 [==============================] - 0s 1ms/step - loss: 3063.8143 - mae: 3063.8143\n",
            "Epoch 41/100\n",
            "34/34 [==============================] - 0s 1ms/step - loss: 2747.0109 - mae: 2747.0109\n",
            "Epoch 42/100\n",
            "34/34 [==============================] - 0s 1ms/step - loss: 2985.9754 - mae: 2985.9754\n",
            "Epoch 43/100\n",
            "34/34 [==============================] - 0s 1ms/step - loss: 3041.9087 - mae: 3041.9087\n",
            "Epoch 44/100\n",
            "34/34 [==============================] - 0s 1ms/step - loss: 2831.3168 - mae: 2831.3168\n",
            "Epoch 45/100\n",
            "34/34 [==============================] - 0s 1ms/step - loss: 2861.1056 - mae: 2861.1056\n",
            "Epoch 46/100\n",
            "34/34 [==============================] - 0s 1ms/step - loss: 2747.2926 - mae: 2747.2926\n",
            "Epoch 47/100\n",
            "34/34 [==============================] - 0s 2ms/step - loss: 2959.4842 - mae: 2959.4842\n",
            "Epoch 48/100\n",
            "34/34 [==============================] - 0s 1ms/step - loss: 2774.2206 - mae: 2774.2206\n",
            "Epoch 49/100\n",
            "34/34 [==============================] - 0s 1ms/step - loss: 3091.5016 - mae: 3091.5016\n",
            "Epoch 50/100\n",
            "34/34 [==============================] - 0s 1ms/step - loss: 2658.9679 - mae: 2658.9679\n",
            "Epoch 51/100\n",
            "34/34 [==============================] - 0s 2ms/step - loss: 2683.2830 - mae: 2683.2830\n",
            "Epoch 52/100\n",
            "34/34 [==============================] - 0s 1ms/step - loss: 2615.9184 - mae: 2615.9184\n",
            "Epoch 53/100\n",
            "34/34 [==============================] - 0s 1ms/step - loss: 2592.1184 - mae: 2592.1184\n",
            "Epoch 54/100\n",
            "34/34 [==============================] - 0s 1ms/step - loss: 2702.1892 - mae: 2702.1892\n",
            "Epoch 55/100\n",
            "34/34 [==============================] - 0s 1ms/step - loss: 2655.3433 - mae: 2655.3433\n",
            "Epoch 56/100\n",
            "34/34 [==============================] - 0s 1ms/step - loss: 2577.7380 - mae: 2577.7380\n",
            "Epoch 57/100\n",
            "34/34 [==============================] - 0s 1ms/step - loss: 2828.0480 - mae: 2828.0480\n",
            "Epoch 58/100\n",
            "34/34 [==============================] - 0s 1ms/step - loss: 2560.7212 - mae: 2560.7212\n",
            "Epoch 59/100\n",
            "34/34 [==============================] - 0s 1ms/step - loss: 2292.9232 - mae: 2292.9232\n",
            "Epoch 60/100\n",
            "34/34 [==============================] - 0s 1ms/step - loss: 2639.2680 - mae: 2639.2680\n",
            "Epoch 61/100\n",
            "34/34 [==============================] - 0s 1ms/step - loss: 2589.4043 - mae: 2589.4043\n",
            "Epoch 62/100\n",
            "34/34 [==============================] - 0s 1ms/step - loss: 2733.9176 - mae: 2733.9176\n",
            "Epoch 63/100\n",
            "34/34 [==============================] - 0s 1ms/step - loss: 2514.0019 - mae: 2514.0019\n",
            "Epoch 64/100\n",
            "34/34 [==============================] - 0s 1ms/step - loss: 2442.2632 - mae: 2442.2632\n",
            "Epoch 65/100\n",
            "34/34 [==============================] - 0s 1ms/step - loss: 2299.6115 - mae: 2299.6115\n",
            "Epoch 66/100\n",
            "34/34 [==============================] - 0s 1ms/step - loss: 2223.9511 - mae: 2223.9511\n",
            "Epoch 67/100\n",
            "34/34 [==============================] - 0s 1ms/step - loss: 2482.7124 - mae: 2482.7124\n",
            "Epoch 68/100\n",
            "34/34 [==============================] - 0s 1ms/step - loss: 2373.6904 - mae: 2373.6904\n",
            "Epoch 69/100\n",
            "34/34 [==============================] - 0s 1ms/step - loss: 2375.2073 - mae: 2375.2073\n",
            "Epoch 70/100\n",
            "34/34 [==============================] - 0s 1ms/step - loss: 2188.4769 - mae: 2188.4769\n",
            "Epoch 71/100\n",
            "34/34 [==============================] - 0s 2ms/step - loss: 2253.7090 - mae: 2253.7090\n",
            "Epoch 72/100\n",
            "34/34 [==============================] - 0s 1ms/step - loss: 2223.1893 - mae: 2223.1893\n",
            "Epoch 73/100\n",
            "34/34 [==============================] - 0s 1ms/step - loss: 2409.6175 - mae: 2409.6175\n",
            "Epoch 74/100\n",
            "34/34 [==============================] - 0s 1ms/step - loss: 2207.9285 - mae: 2207.9285\n",
            "Epoch 75/100\n",
            "34/34 [==============================] - 0s 1ms/step - loss: 2266.4706 - mae: 2266.4706\n",
            "Epoch 76/100\n",
            "34/34 [==============================] - 0s 1ms/step - loss: 2111.7689 - mae: 2111.7689\n",
            "Epoch 77/100\n",
            "34/34 [==============================] - 0s 1ms/step - loss: 2272.1798 - mae: 2272.1798\n",
            "Epoch 78/100\n",
            "34/34 [==============================] - 0s 1ms/step - loss: 2314.4511 - mae: 2314.4511\n",
            "Epoch 79/100\n",
            "34/34 [==============================] - 0s 1ms/step - loss: 2009.5650 - mae: 2009.5650\n",
            "Epoch 80/100\n",
            "34/34 [==============================] - 0s 1ms/step - loss: 2077.0770 - mae: 2077.0770\n",
            "Epoch 81/100\n",
            "34/34 [==============================] - 0s 1ms/step - loss: 2045.7130 - mae: 2045.7130\n",
            "Epoch 82/100\n",
            "34/34 [==============================] - 0s 1ms/step - loss: 2434.0619 - mae: 2434.0619\n",
            "Epoch 83/100\n",
            "34/34 [==============================] - 0s 1ms/step - loss: 2095.0416 - mae: 2095.0416\n",
            "Epoch 84/100\n",
            "34/34 [==============================] - 0s 1ms/step - loss: 1909.9409 - mae: 1909.9409\n",
            "Epoch 85/100\n",
            "34/34 [==============================] - 0s 1ms/step - loss: 1645.8171 - mae: 1645.8171\n",
            "Epoch 86/100\n",
            "34/34 [==============================] - 0s 1ms/step - loss: 2047.2766 - mae: 2047.2766\n",
            "Epoch 87/100\n",
            "34/34 [==============================] - 0s 1ms/step - loss: 2147.0133 - mae: 2147.0133\n",
            "Epoch 88/100\n",
            "34/34 [==============================] - 0s 1ms/step - loss: 1990.6301 - mae: 1990.6301\n",
            "Epoch 89/100\n",
            "34/34 [==============================] - 0s 1ms/step - loss: 1768.7308 - mae: 1768.7308\n",
            "Epoch 90/100\n",
            "34/34 [==============================] - 0s 1ms/step - loss: 2095.8029 - mae: 2095.8029\n",
            "Epoch 91/100\n",
            "34/34 [==============================] - 0s 1ms/step - loss: 1954.0470 - mae: 1954.0470\n",
            "Epoch 92/100\n",
            "34/34 [==============================] - 0s 1ms/step - loss: 2008.6730 - mae: 2008.6730\n",
            "Epoch 93/100\n",
            "34/34 [==============================] - 0s 1ms/step - loss: 2135.0336 - mae: 2135.0336\n",
            "Epoch 94/100\n",
            "34/34 [==============================] - 0s 1ms/step - loss: 1822.1226 - mae: 1822.1226\n",
            "Epoch 95/100\n",
            "34/34 [==============================] - 0s 1ms/step - loss: 1925.1812 - mae: 1925.1812\n",
            "Epoch 96/100\n",
            "34/34 [==============================] - 0s 1ms/step - loss: 2035.3605 - mae: 2035.3605\n",
            "Epoch 97/100\n",
            "34/34 [==============================] - 0s 1ms/step - loss: 1928.7255 - mae: 1928.7255\n",
            "Epoch 98/100\n",
            "34/34 [==============================] - 0s 1ms/step - loss: 1905.6312 - mae: 1905.6312\n",
            "Epoch 99/100\n",
            "34/34 [==============================] - 0s 1ms/step - loss: 1810.2321 - mae: 1810.2321\n",
            "Epoch 100/100\n",
            "34/34 [==============================] - 0s 1ms/step - loss: 1935.8140 - mae: 1935.8140\n"
          ],
          "name": "stdout"
        }
      ]
    },
    {
      "cell_type": "code",
      "metadata": {
        "colab": {
          "base_uri": "https://localhost:8080/"
        },
        "id": "hktf4TsKMMCP",
        "outputId": "47f63d60-6578-41da-acaf-0f2e40dc2c96"
      },
      "source": [
        "model_5.evaluate(X_test_normal, y_test)"
      ],
      "execution_count": 61,
      "outputs": [
        {
          "output_type": "stream",
          "text": [
            "9/9 [==============================] - 0s 2ms/step - loss: 1778.6343 - mae: 1778.6343\n"
          ],
          "name": "stdout"
        },
        {
          "output_type": "execute_result",
          "data": {
            "text/plain": [
              "[1778.63427734375, 1778.63427734375]"
            ]
          },
          "metadata": {
            "tags": []
          },
          "execution_count": 61
        }
      ]
    },
    {
      "cell_type": "code",
      "metadata": {
        "colab": {
          "base_uri": "https://localhost:8080/",
          "height": 265
        },
        "id": "-L_Slfy2MVY0",
        "outputId": "df20bdda-2ca3-4aad-b99b-fdfe9778f90a"
      },
      "source": [
        "pd.DataFrame(history.history).plot()\n",
        "ylabel = \"loss\"\n",
        "xlabel = \"epochs\""
      ],
      "execution_count": 63,
      "outputs": [
        {
          "output_type": "display_data",
          "data": {
            "image/png": "[encoded data removed]",
            "text/plain": [
              "<Figure size 432x288 with 1 Axes>"
            ]
          },
          "metadata": {
            "tags": [],
            "needs_background": "light"
          }
        }
      ]
    },
    {
      "cell_type": "code",
      "metadata": {
        "id": "AdYqriiQMpOH"
      },
      "source": [
        ""
      ],
      "execution_count": null,
      "outputs": []
    }
  ]
}